{
 "cells": [
  {
   "cell_type": "code",
   "execution_count": 1,
   "id": "00c3dded",
   "metadata": {},
   "outputs": [],
   "source": [
    "#Real Estate Price - Machine Learning Regression Project\n",
    "#By Christopher Shih\n",
    "\n",
    "#Dataset provided by Kaggle.com, as part of the \"Advanced Regression Techniques\" competition.\n",
    "#This data contains historical real estate data from Ames, Iowa. "
   ]
  },
  {
   "cell_type": "code",
   "execution_count": 2,
   "id": "46dcecbe",
   "metadata": {},
   "outputs": [],
   "source": [
    "import pandas as pd\n",
    "import numpy as np\n",
    "import seaborn as sns\n",
    "import matplotlib.pyplot as plt"
   ]
  },
  {
   "cell_type": "code",
   "execution_count": 3,
   "id": "825900f4",
   "metadata": {},
   "outputs": [
    {
     "data": {
      "text/html": [
       "<div>\n",
       "<style scoped>\n",
       "    .dataframe tbody tr th:only-of-type {\n",
       "        vertical-align: middle;\n",
       "    }\n",
       "\n",
       "    .dataframe tbody tr th {\n",
       "        vertical-align: top;\n",
       "    }\n",
       "\n",
       "    .dataframe thead th {\n",
       "        text-align: right;\n",
       "    }\n",
       "</style>\n",
       "<table border=\"1\" class=\"dataframe\">\n",
       "  <thead>\n",
       "    <tr style=\"text-align: right;\">\n",
       "      <th></th>\n",
       "      <th>Id</th>\n",
       "      <th>MSSubClass</th>\n",
       "      <th>MSZoning</th>\n",
       "      <th>LotFrontage</th>\n",
       "      <th>LotArea</th>\n",
       "      <th>Street</th>\n",
       "      <th>Alley</th>\n",
       "      <th>LotShape</th>\n",
       "      <th>LandContour</th>\n",
       "      <th>Utilities</th>\n",
       "      <th>...</th>\n",
       "      <th>PoolArea</th>\n",
       "      <th>PoolQC</th>\n",
       "      <th>Fence</th>\n",
       "      <th>MiscFeature</th>\n",
       "      <th>MiscVal</th>\n",
       "      <th>MoSold</th>\n",
       "      <th>YrSold</th>\n",
       "      <th>SaleType</th>\n",
       "      <th>SaleCondition</th>\n",
       "      <th>SalePrice</th>\n",
       "    </tr>\n",
       "  </thead>\n",
       "  <tbody>\n",
       "    <tr>\n",
       "      <th>0</th>\n",
       "      <td>1</td>\n",
       "      <td>60</td>\n",
       "      <td>RL</td>\n",
       "      <td>65.0</td>\n",
       "      <td>8450</td>\n",
       "      <td>Pave</td>\n",
       "      <td>NaN</td>\n",
       "      <td>Reg</td>\n",
       "      <td>Lvl</td>\n",
       "      <td>AllPub</td>\n",
       "      <td>...</td>\n",
       "      <td>0</td>\n",
       "      <td>NaN</td>\n",
       "      <td>NaN</td>\n",
       "      <td>NaN</td>\n",
       "      <td>0</td>\n",
       "      <td>2</td>\n",
       "      <td>2008</td>\n",
       "      <td>WD</td>\n",
       "      <td>Normal</td>\n",
       "      <td>208500</td>\n",
       "    </tr>\n",
       "    <tr>\n",
       "      <th>1</th>\n",
       "      <td>2</td>\n",
       "      <td>20</td>\n",
       "      <td>RL</td>\n",
       "      <td>80.0</td>\n",
       "      <td>9600</td>\n",
       "      <td>Pave</td>\n",
       "      <td>NaN</td>\n",
       "      <td>Reg</td>\n",
       "      <td>Lvl</td>\n",
       "      <td>AllPub</td>\n",
       "      <td>...</td>\n",
       "      <td>0</td>\n",
       "      <td>NaN</td>\n",
       "      <td>NaN</td>\n",
       "      <td>NaN</td>\n",
       "      <td>0</td>\n",
       "      <td>5</td>\n",
       "      <td>2007</td>\n",
       "      <td>WD</td>\n",
       "      <td>Normal</td>\n",
       "      <td>181500</td>\n",
       "    </tr>\n",
       "    <tr>\n",
       "      <th>2</th>\n",
       "      <td>3</td>\n",
       "      <td>60</td>\n",
       "      <td>RL</td>\n",
       "      <td>68.0</td>\n",
       "      <td>11250</td>\n",
       "      <td>Pave</td>\n",
       "      <td>NaN</td>\n",
       "      <td>IR1</td>\n",
       "      <td>Lvl</td>\n",
       "      <td>AllPub</td>\n",
       "      <td>...</td>\n",
       "      <td>0</td>\n",
       "      <td>NaN</td>\n",
       "      <td>NaN</td>\n",
       "      <td>NaN</td>\n",
       "      <td>0</td>\n",
       "      <td>9</td>\n",
       "      <td>2008</td>\n",
       "      <td>WD</td>\n",
       "      <td>Normal</td>\n",
       "      <td>223500</td>\n",
       "    </tr>\n",
       "    <tr>\n",
       "      <th>3</th>\n",
       "      <td>4</td>\n",
       "      <td>70</td>\n",
       "      <td>RL</td>\n",
       "      <td>60.0</td>\n",
       "      <td>9550</td>\n",
       "      <td>Pave</td>\n",
       "      <td>NaN</td>\n",
       "      <td>IR1</td>\n",
       "      <td>Lvl</td>\n",
       "      <td>AllPub</td>\n",
       "      <td>...</td>\n",
       "      <td>0</td>\n",
       "      <td>NaN</td>\n",
       "      <td>NaN</td>\n",
       "      <td>NaN</td>\n",
       "      <td>0</td>\n",
       "      <td>2</td>\n",
       "      <td>2006</td>\n",
       "      <td>WD</td>\n",
       "      <td>Abnorml</td>\n",
       "      <td>140000</td>\n",
       "    </tr>\n",
       "    <tr>\n",
       "      <th>4</th>\n",
       "      <td>5</td>\n",
       "      <td>60</td>\n",
       "      <td>RL</td>\n",
       "      <td>84.0</td>\n",
       "      <td>14260</td>\n",
       "      <td>Pave</td>\n",
       "      <td>NaN</td>\n",
       "      <td>IR1</td>\n",
       "      <td>Lvl</td>\n",
       "      <td>AllPub</td>\n",
       "      <td>...</td>\n",
       "      <td>0</td>\n",
       "      <td>NaN</td>\n",
       "      <td>NaN</td>\n",
       "      <td>NaN</td>\n",
       "      <td>0</td>\n",
       "      <td>12</td>\n",
       "      <td>2008</td>\n",
       "      <td>WD</td>\n",
       "      <td>Normal</td>\n",
       "      <td>250000</td>\n",
       "    </tr>\n",
       "    <tr>\n",
       "      <th>...</th>\n",
       "      <td>...</td>\n",
       "      <td>...</td>\n",
       "      <td>...</td>\n",
       "      <td>...</td>\n",
       "      <td>...</td>\n",
       "      <td>...</td>\n",
       "      <td>...</td>\n",
       "      <td>...</td>\n",
       "      <td>...</td>\n",
       "      <td>...</td>\n",
       "      <td>...</td>\n",
       "      <td>...</td>\n",
       "      <td>...</td>\n",
       "      <td>...</td>\n",
       "      <td>...</td>\n",
       "      <td>...</td>\n",
       "      <td>...</td>\n",
       "      <td>...</td>\n",
       "      <td>...</td>\n",
       "      <td>...</td>\n",
       "      <td>...</td>\n",
       "    </tr>\n",
       "    <tr>\n",
       "      <th>1455</th>\n",
       "      <td>1456</td>\n",
       "      <td>60</td>\n",
       "      <td>RL</td>\n",
       "      <td>62.0</td>\n",
       "      <td>7917</td>\n",
       "      <td>Pave</td>\n",
       "      <td>NaN</td>\n",
       "      <td>Reg</td>\n",
       "      <td>Lvl</td>\n",
       "      <td>AllPub</td>\n",
       "      <td>...</td>\n",
       "      <td>0</td>\n",
       "      <td>NaN</td>\n",
       "      <td>NaN</td>\n",
       "      <td>NaN</td>\n",
       "      <td>0</td>\n",
       "      <td>8</td>\n",
       "      <td>2007</td>\n",
       "      <td>WD</td>\n",
       "      <td>Normal</td>\n",
       "      <td>175000</td>\n",
       "    </tr>\n",
       "    <tr>\n",
       "      <th>1456</th>\n",
       "      <td>1457</td>\n",
       "      <td>20</td>\n",
       "      <td>RL</td>\n",
       "      <td>85.0</td>\n",
       "      <td>13175</td>\n",
       "      <td>Pave</td>\n",
       "      <td>NaN</td>\n",
       "      <td>Reg</td>\n",
       "      <td>Lvl</td>\n",
       "      <td>AllPub</td>\n",
       "      <td>...</td>\n",
       "      <td>0</td>\n",
       "      <td>NaN</td>\n",
       "      <td>MnPrv</td>\n",
       "      <td>NaN</td>\n",
       "      <td>0</td>\n",
       "      <td>2</td>\n",
       "      <td>2010</td>\n",
       "      <td>WD</td>\n",
       "      <td>Normal</td>\n",
       "      <td>210000</td>\n",
       "    </tr>\n",
       "    <tr>\n",
       "      <th>1457</th>\n",
       "      <td>1458</td>\n",
       "      <td>70</td>\n",
       "      <td>RL</td>\n",
       "      <td>66.0</td>\n",
       "      <td>9042</td>\n",
       "      <td>Pave</td>\n",
       "      <td>NaN</td>\n",
       "      <td>Reg</td>\n",
       "      <td>Lvl</td>\n",
       "      <td>AllPub</td>\n",
       "      <td>...</td>\n",
       "      <td>0</td>\n",
       "      <td>NaN</td>\n",
       "      <td>GdPrv</td>\n",
       "      <td>Shed</td>\n",
       "      <td>2500</td>\n",
       "      <td>5</td>\n",
       "      <td>2010</td>\n",
       "      <td>WD</td>\n",
       "      <td>Normal</td>\n",
       "      <td>266500</td>\n",
       "    </tr>\n",
       "    <tr>\n",
       "      <th>1458</th>\n",
       "      <td>1459</td>\n",
       "      <td>20</td>\n",
       "      <td>RL</td>\n",
       "      <td>68.0</td>\n",
       "      <td>9717</td>\n",
       "      <td>Pave</td>\n",
       "      <td>NaN</td>\n",
       "      <td>Reg</td>\n",
       "      <td>Lvl</td>\n",
       "      <td>AllPub</td>\n",
       "      <td>...</td>\n",
       "      <td>0</td>\n",
       "      <td>NaN</td>\n",
       "      <td>NaN</td>\n",
       "      <td>NaN</td>\n",
       "      <td>0</td>\n",
       "      <td>4</td>\n",
       "      <td>2010</td>\n",
       "      <td>WD</td>\n",
       "      <td>Normal</td>\n",
       "      <td>142125</td>\n",
       "    </tr>\n",
       "    <tr>\n",
       "      <th>1459</th>\n",
       "      <td>1460</td>\n",
       "      <td>20</td>\n",
       "      <td>RL</td>\n",
       "      <td>75.0</td>\n",
       "      <td>9937</td>\n",
       "      <td>Pave</td>\n",
       "      <td>NaN</td>\n",
       "      <td>Reg</td>\n",
       "      <td>Lvl</td>\n",
       "      <td>AllPub</td>\n",
       "      <td>...</td>\n",
       "      <td>0</td>\n",
       "      <td>NaN</td>\n",
       "      <td>NaN</td>\n",
       "      <td>NaN</td>\n",
       "      <td>0</td>\n",
       "      <td>6</td>\n",
       "      <td>2008</td>\n",
       "      <td>WD</td>\n",
       "      <td>Normal</td>\n",
       "      <td>147500</td>\n",
       "    </tr>\n",
       "  </tbody>\n",
       "</table>\n",
       "<p>1460 rows × 81 columns</p>\n",
       "</div>"
      ],
      "text/plain": [
       "        Id  MSSubClass MSZoning  LotFrontage  LotArea Street Alley LotShape  \\\n",
       "0        1          60       RL         65.0     8450   Pave   NaN      Reg   \n",
       "1        2          20       RL         80.0     9600   Pave   NaN      Reg   \n",
       "2        3          60       RL         68.0    11250   Pave   NaN      IR1   \n",
       "3        4          70       RL         60.0     9550   Pave   NaN      IR1   \n",
       "4        5          60       RL         84.0    14260   Pave   NaN      IR1   \n",
       "...    ...         ...      ...          ...      ...    ...   ...      ...   \n",
       "1455  1456          60       RL         62.0     7917   Pave   NaN      Reg   \n",
       "1456  1457          20       RL         85.0    13175   Pave   NaN      Reg   \n",
       "1457  1458          70       RL         66.0     9042   Pave   NaN      Reg   \n",
       "1458  1459          20       RL         68.0     9717   Pave   NaN      Reg   \n",
       "1459  1460          20       RL         75.0     9937   Pave   NaN      Reg   \n",
       "\n",
       "     LandContour Utilities  ... PoolArea PoolQC  Fence MiscFeature MiscVal  \\\n",
       "0            Lvl    AllPub  ...        0    NaN    NaN         NaN       0   \n",
       "1            Lvl    AllPub  ...        0    NaN    NaN         NaN       0   \n",
       "2            Lvl    AllPub  ...        0    NaN    NaN         NaN       0   \n",
       "3            Lvl    AllPub  ...        0    NaN    NaN         NaN       0   \n",
       "4            Lvl    AllPub  ...        0    NaN    NaN         NaN       0   \n",
       "...          ...       ...  ...      ...    ...    ...         ...     ...   \n",
       "1455         Lvl    AllPub  ...        0    NaN    NaN         NaN       0   \n",
       "1456         Lvl    AllPub  ...        0    NaN  MnPrv         NaN       0   \n",
       "1457         Lvl    AllPub  ...        0    NaN  GdPrv        Shed    2500   \n",
       "1458         Lvl    AllPub  ...        0    NaN    NaN         NaN       0   \n",
       "1459         Lvl    AllPub  ...        0    NaN    NaN         NaN       0   \n",
       "\n",
       "     MoSold YrSold  SaleType  SaleCondition  SalePrice  \n",
       "0         2   2008        WD         Normal     208500  \n",
       "1         5   2007        WD         Normal     181500  \n",
       "2         9   2008        WD         Normal     223500  \n",
       "3         2   2006        WD        Abnorml     140000  \n",
       "4        12   2008        WD         Normal     250000  \n",
       "...     ...    ...       ...            ...        ...  \n",
       "1455      8   2007        WD         Normal     175000  \n",
       "1456      2   2010        WD         Normal     210000  \n",
       "1457      5   2010        WD         Normal     266500  \n",
       "1458      4   2010        WD         Normal     142125  \n",
       "1459      6   2008        WD         Normal     147500  \n",
       "\n",
       "[1460 rows x 81 columns]"
      ]
     },
     "execution_count": 3,
     "metadata": {},
     "output_type": "execute_result"
    }
   ],
   "source": [
    "train = pd.read_csv(\"data/train.csv\")\n",
    "test = pd.read_csv(\"data/test.csv\")\n",
    "train"
   ]
  },
  {
   "cell_type": "code",
   "execution_count": 4,
   "id": "611c8217",
   "metadata": {},
   "outputs": [
    {
     "data": {
      "text/html": [
       "<div>\n",
       "<style scoped>\n",
       "    .dataframe tbody tr th:only-of-type {\n",
       "        vertical-align: middle;\n",
       "    }\n",
       "\n",
       "    .dataframe tbody tr th {\n",
       "        vertical-align: top;\n",
       "    }\n",
       "\n",
       "    .dataframe thead th {\n",
       "        text-align: right;\n",
       "    }\n",
       "</style>\n",
       "<table border=\"1\" class=\"dataframe\">\n",
       "  <thead>\n",
       "    <tr style=\"text-align: right;\">\n",
       "      <th></th>\n",
       "      <th>Id</th>\n",
       "      <th>MSSubClass</th>\n",
       "      <th>MSZoning</th>\n",
       "      <th>LotFrontage</th>\n",
       "      <th>LotArea</th>\n",
       "      <th>Street</th>\n",
       "      <th>Alley</th>\n",
       "      <th>LotShape</th>\n",
       "      <th>LandContour</th>\n",
       "      <th>Utilities</th>\n",
       "      <th>...</th>\n",
       "      <th>ScreenPorch</th>\n",
       "      <th>PoolArea</th>\n",
       "      <th>PoolQC</th>\n",
       "      <th>Fence</th>\n",
       "      <th>MiscFeature</th>\n",
       "      <th>MiscVal</th>\n",
       "      <th>MoSold</th>\n",
       "      <th>YrSold</th>\n",
       "      <th>SaleType</th>\n",
       "      <th>SaleCondition</th>\n",
       "    </tr>\n",
       "  </thead>\n",
       "  <tbody>\n",
       "    <tr>\n",
       "      <th>0</th>\n",
       "      <td>1</td>\n",
       "      <td>60</td>\n",
       "      <td>RL</td>\n",
       "      <td>65.0</td>\n",
       "      <td>8450</td>\n",
       "      <td>Pave</td>\n",
       "      <td>NaN</td>\n",
       "      <td>Reg</td>\n",
       "      <td>Lvl</td>\n",
       "      <td>AllPub</td>\n",
       "      <td>...</td>\n",
       "      <td>0</td>\n",
       "      <td>0</td>\n",
       "      <td>NaN</td>\n",
       "      <td>NaN</td>\n",
       "      <td>NaN</td>\n",
       "      <td>0</td>\n",
       "      <td>2</td>\n",
       "      <td>2008</td>\n",
       "      <td>WD</td>\n",
       "      <td>Normal</td>\n",
       "    </tr>\n",
       "    <tr>\n",
       "      <th>1</th>\n",
       "      <td>2</td>\n",
       "      <td>20</td>\n",
       "      <td>RL</td>\n",
       "      <td>80.0</td>\n",
       "      <td>9600</td>\n",
       "      <td>Pave</td>\n",
       "      <td>NaN</td>\n",
       "      <td>Reg</td>\n",
       "      <td>Lvl</td>\n",
       "      <td>AllPub</td>\n",
       "      <td>...</td>\n",
       "      <td>0</td>\n",
       "      <td>0</td>\n",
       "      <td>NaN</td>\n",
       "      <td>NaN</td>\n",
       "      <td>NaN</td>\n",
       "      <td>0</td>\n",
       "      <td>5</td>\n",
       "      <td>2007</td>\n",
       "      <td>WD</td>\n",
       "      <td>Normal</td>\n",
       "    </tr>\n",
       "    <tr>\n",
       "      <th>2</th>\n",
       "      <td>3</td>\n",
       "      <td>60</td>\n",
       "      <td>RL</td>\n",
       "      <td>68.0</td>\n",
       "      <td>11250</td>\n",
       "      <td>Pave</td>\n",
       "      <td>NaN</td>\n",
       "      <td>IR1</td>\n",
       "      <td>Lvl</td>\n",
       "      <td>AllPub</td>\n",
       "      <td>...</td>\n",
       "      <td>0</td>\n",
       "      <td>0</td>\n",
       "      <td>NaN</td>\n",
       "      <td>NaN</td>\n",
       "      <td>NaN</td>\n",
       "      <td>0</td>\n",
       "      <td>9</td>\n",
       "      <td>2008</td>\n",
       "      <td>WD</td>\n",
       "      <td>Normal</td>\n",
       "    </tr>\n",
       "    <tr>\n",
       "      <th>3</th>\n",
       "      <td>4</td>\n",
       "      <td>70</td>\n",
       "      <td>RL</td>\n",
       "      <td>60.0</td>\n",
       "      <td>9550</td>\n",
       "      <td>Pave</td>\n",
       "      <td>NaN</td>\n",
       "      <td>IR1</td>\n",
       "      <td>Lvl</td>\n",
       "      <td>AllPub</td>\n",
       "      <td>...</td>\n",
       "      <td>0</td>\n",
       "      <td>0</td>\n",
       "      <td>NaN</td>\n",
       "      <td>NaN</td>\n",
       "      <td>NaN</td>\n",
       "      <td>0</td>\n",
       "      <td>2</td>\n",
       "      <td>2006</td>\n",
       "      <td>WD</td>\n",
       "      <td>Abnorml</td>\n",
       "    </tr>\n",
       "    <tr>\n",
       "      <th>4</th>\n",
       "      <td>5</td>\n",
       "      <td>60</td>\n",
       "      <td>RL</td>\n",
       "      <td>84.0</td>\n",
       "      <td>14260</td>\n",
       "      <td>Pave</td>\n",
       "      <td>NaN</td>\n",
       "      <td>IR1</td>\n",
       "      <td>Lvl</td>\n",
       "      <td>AllPub</td>\n",
       "      <td>...</td>\n",
       "      <td>0</td>\n",
       "      <td>0</td>\n",
       "      <td>NaN</td>\n",
       "      <td>NaN</td>\n",
       "      <td>NaN</td>\n",
       "      <td>0</td>\n",
       "      <td>12</td>\n",
       "      <td>2008</td>\n",
       "      <td>WD</td>\n",
       "      <td>Normal</td>\n",
       "    </tr>\n",
       "    <tr>\n",
       "      <th>...</th>\n",
       "      <td>...</td>\n",
       "      <td>...</td>\n",
       "      <td>...</td>\n",
       "      <td>...</td>\n",
       "      <td>...</td>\n",
       "      <td>...</td>\n",
       "      <td>...</td>\n",
       "      <td>...</td>\n",
       "      <td>...</td>\n",
       "      <td>...</td>\n",
       "      <td>...</td>\n",
       "      <td>...</td>\n",
       "      <td>...</td>\n",
       "      <td>...</td>\n",
       "      <td>...</td>\n",
       "      <td>...</td>\n",
       "      <td>...</td>\n",
       "      <td>...</td>\n",
       "      <td>...</td>\n",
       "      <td>...</td>\n",
       "      <td>...</td>\n",
       "    </tr>\n",
       "    <tr>\n",
       "      <th>2914</th>\n",
       "      <td>2915</td>\n",
       "      <td>160</td>\n",
       "      <td>RM</td>\n",
       "      <td>21.0</td>\n",
       "      <td>1936</td>\n",
       "      <td>Pave</td>\n",
       "      <td>NaN</td>\n",
       "      <td>Reg</td>\n",
       "      <td>Lvl</td>\n",
       "      <td>AllPub</td>\n",
       "      <td>...</td>\n",
       "      <td>0</td>\n",
       "      <td>0</td>\n",
       "      <td>NaN</td>\n",
       "      <td>NaN</td>\n",
       "      <td>NaN</td>\n",
       "      <td>0</td>\n",
       "      <td>6</td>\n",
       "      <td>2006</td>\n",
       "      <td>WD</td>\n",
       "      <td>Normal</td>\n",
       "    </tr>\n",
       "    <tr>\n",
       "      <th>2915</th>\n",
       "      <td>2916</td>\n",
       "      <td>160</td>\n",
       "      <td>RM</td>\n",
       "      <td>21.0</td>\n",
       "      <td>1894</td>\n",
       "      <td>Pave</td>\n",
       "      <td>NaN</td>\n",
       "      <td>Reg</td>\n",
       "      <td>Lvl</td>\n",
       "      <td>AllPub</td>\n",
       "      <td>...</td>\n",
       "      <td>0</td>\n",
       "      <td>0</td>\n",
       "      <td>NaN</td>\n",
       "      <td>NaN</td>\n",
       "      <td>NaN</td>\n",
       "      <td>0</td>\n",
       "      <td>4</td>\n",
       "      <td>2006</td>\n",
       "      <td>WD</td>\n",
       "      <td>Abnorml</td>\n",
       "    </tr>\n",
       "    <tr>\n",
       "      <th>2916</th>\n",
       "      <td>2917</td>\n",
       "      <td>20</td>\n",
       "      <td>RL</td>\n",
       "      <td>160.0</td>\n",
       "      <td>20000</td>\n",
       "      <td>Pave</td>\n",
       "      <td>NaN</td>\n",
       "      <td>Reg</td>\n",
       "      <td>Lvl</td>\n",
       "      <td>AllPub</td>\n",
       "      <td>...</td>\n",
       "      <td>0</td>\n",
       "      <td>0</td>\n",
       "      <td>NaN</td>\n",
       "      <td>NaN</td>\n",
       "      <td>NaN</td>\n",
       "      <td>0</td>\n",
       "      <td>9</td>\n",
       "      <td>2006</td>\n",
       "      <td>WD</td>\n",
       "      <td>Abnorml</td>\n",
       "    </tr>\n",
       "    <tr>\n",
       "      <th>2917</th>\n",
       "      <td>2918</td>\n",
       "      <td>85</td>\n",
       "      <td>RL</td>\n",
       "      <td>62.0</td>\n",
       "      <td>10441</td>\n",
       "      <td>Pave</td>\n",
       "      <td>NaN</td>\n",
       "      <td>Reg</td>\n",
       "      <td>Lvl</td>\n",
       "      <td>AllPub</td>\n",
       "      <td>...</td>\n",
       "      <td>0</td>\n",
       "      <td>0</td>\n",
       "      <td>NaN</td>\n",
       "      <td>MnPrv</td>\n",
       "      <td>Shed</td>\n",
       "      <td>700</td>\n",
       "      <td>7</td>\n",
       "      <td>2006</td>\n",
       "      <td>WD</td>\n",
       "      <td>Normal</td>\n",
       "    </tr>\n",
       "    <tr>\n",
       "      <th>2918</th>\n",
       "      <td>2919</td>\n",
       "      <td>60</td>\n",
       "      <td>RL</td>\n",
       "      <td>74.0</td>\n",
       "      <td>9627</td>\n",
       "      <td>Pave</td>\n",
       "      <td>NaN</td>\n",
       "      <td>Reg</td>\n",
       "      <td>Lvl</td>\n",
       "      <td>AllPub</td>\n",
       "      <td>...</td>\n",
       "      <td>0</td>\n",
       "      <td>0</td>\n",
       "      <td>NaN</td>\n",
       "      <td>NaN</td>\n",
       "      <td>NaN</td>\n",
       "      <td>0</td>\n",
       "      <td>11</td>\n",
       "      <td>2006</td>\n",
       "      <td>WD</td>\n",
       "      <td>Normal</td>\n",
       "    </tr>\n",
       "  </tbody>\n",
       "</table>\n",
       "<p>2919 rows × 80 columns</p>\n",
       "</div>"
      ],
      "text/plain": [
       "        Id  MSSubClass MSZoning  LotFrontage  LotArea Street Alley LotShape  \\\n",
       "0        1          60       RL         65.0     8450   Pave   NaN      Reg   \n",
       "1        2          20       RL         80.0     9600   Pave   NaN      Reg   \n",
       "2        3          60       RL         68.0    11250   Pave   NaN      IR1   \n",
       "3        4          70       RL         60.0     9550   Pave   NaN      IR1   \n",
       "4        5          60       RL         84.0    14260   Pave   NaN      IR1   \n",
       "...    ...         ...      ...          ...      ...    ...   ...      ...   \n",
       "2914  2915         160       RM         21.0     1936   Pave   NaN      Reg   \n",
       "2915  2916         160       RM         21.0     1894   Pave   NaN      Reg   \n",
       "2916  2917          20       RL        160.0    20000   Pave   NaN      Reg   \n",
       "2917  2918          85       RL         62.0    10441   Pave   NaN      Reg   \n",
       "2918  2919          60       RL         74.0     9627   Pave   NaN      Reg   \n",
       "\n",
       "     LandContour Utilities  ... ScreenPorch PoolArea PoolQC  Fence  \\\n",
       "0            Lvl    AllPub  ...           0        0    NaN    NaN   \n",
       "1            Lvl    AllPub  ...           0        0    NaN    NaN   \n",
       "2            Lvl    AllPub  ...           0        0    NaN    NaN   \n",
       "3            Lvl    AllPub  ...           0        0    NaN    NaN   \n",
       "4            Lvl    AllPub  ...           0        0    NaN    NaN   \n",
       "...          ...       ...  ...         ...      ...    ...    ...   \n",
       "2914         Lvl    AllPub  ...           0        0    NaN    NaN   \n",
       "2915         Lvl    AllPub  ...           0        0    NaN    NaN   \n",
       "2916         Lvl    AllPub  ...           0        0    NaN    NaN   \n",
       "2917         Lvl    AllPub  ...           0        0    NaN  MnPrv   \n",
       "2918         Lvl    AllPub  ...           0        0    NaN    NaN   \n",
       "\n",
       "     MiscFeature MiscVal MoSold  YrSold  SaleType  SaleCondition  \n",
       "0            NaN       0      2    2008        WD         Normal  \n",
       "1            NaN       0      5    2007        WD         Normal  \n",
       "2            NaN       0      9    2008        WD         Normal  \n",
       "3            NaN       0      2    2006        WD        Abnorml  \n",
       "4            NaN       0     12    2008        WD         Normal  \n",
       "...          ...     ...    ...     ...       ...            ...  \n",
       "2914         NaN       0      6    2006        WD         Normal  \n",
       "2915         NaN       0      4    2006        WD        Abnorml  \n",
       "2916         NaN       0      9    2006        WD        Abnorml  \n",
       "2917        Shed     700      7    2006        WD         Normal  \n",
       "2918         NaN       0     11    2006        WD         Normal  \n",
       "\n",
       "[2919 rows x 80 columns]"
      ]
     },
     "execution_count": 4,
     "metadata": {},
     "output_type": "execute_result"
    }
   ],
   "source": [
    "sale_prices = train['SalePrice']\n",
    "combined_df = pd.concat([train,test],axis=0).reset_index(drop=True)\n",
    "combined_df.drop(['SalePrice'],axis=1,inplace=True)\n",
    "combined_df"
   ]
  },
  {
   "cell_type": "code",
   "execution_count": 5,
   "id": "3c87105f",
   "metadata": {},
   "outputs": [
    {
     "data": {
      "text/plain": [
       "Index(['Id', 'MSSubClass', 'MSZoning', 'LotFrontage', 'LotArea', 'Street',\n",
       "       'Alley', 'LotShape', 'LandContour', 'Utilities', 'LotConfig',\n",
       "       'LandSlope', 'Neighborhood', 'Condition1', 'Condition2', 'BldgType',\n",
       "       'HouseStyle', 'OverallQual', 'OverallCond', 'YearBuilt', 'YearRemodAdd',\n",
       "       'RoofStyle', 'RoofMatl', 'Exterior1st', 'Exterior2nd', 'MasVnrType',\n",
       "       'MasVnrArea', 'ExterQual', 'ExterCond', 'Foundation', 'BsmtQual',\n",
       "       'BsmtCond', 'BsmtExposure', 'BsmtFinType1', 'BsmtFinSF1',\n",
       "       'BsmtFinType2', 'BsmtFinSF2', 'BsmtUnfSF', 'TotalBsmtSF', 'Heating',\n",
       "       'HeatingQC', 'CentralAir', 'Electrical', '1stFlrSF', '2ndFlrSF',\n",
       "       'LowQualFinSF', 'GrLivArea', 'BsmtFullBath', 'BsmtHalfBath', 'FullBath',\n",
       "       'HalfBath', 'BedroomAbvGr', 'KitchenAbvGr', 'KitchenQual',\n",
       "       'TotRmsAbvGrd', 'Functional', 'Fireplaces', 'FireplaceQu', 'GarageType',\n",
       "       'GarageYrBlt', 'GarageFinish', 'GarageCars', 'GarageArea', 'GarageQual',\n",
       "       'GarageCond', 'PavedDrive', 'WoodDeckSF', 'OpenPorchSF',\n",
       "       'EnclosedPorch', '3SsnPorch', 'ScreenPorch', 'PoolArea', 'PoolQC',\n",
       "       'Fence', 'MiscFeature', 'MiscVal', 'MoSold', 'YrSold', 'SaleType',\n",
       "       'SaleCondition'],\n",
       "      dtype='object')"
      ]
     },
     "execution_count": 5,
     "metadata": {},
     "output_type": "execute_result"
    }
   ],
   "source": [
    "combined_df.columns"
   ]
  },
  {
   "cell_type": "code",
   "execution_count": 6,
   "id": "25a16dd9",
   "metadata": {},
   "outputs": [
    {
     "data": {
      "text/html": [
       "<div>\n",
       "<style scoped>\n",
       "    .dataframe tbody tr th:only-of-type {\n",
       "        vertical-align: middle;\n",
       "    }\n",
       "\n",
       "    .dataframe tbody tr th {\n",
       "        vertical-align: top;\n",
       "    }\n",
       "\n",
       "    .dataframe thead th {\n",
       "        text-align: right;\n",
       "    }\n",
       "</style>\n",
       "<table border=\"1\" class=\"dataframe\">\n",
       "  <thead>\n",
       "    <tr style=\"text-align: right;\">\n",
       "      <th></th>\n",
       "      <th>count</th>\n",
       "      <th>mean</th>\n",
       "      <th>std</th>\n",
       "      <th>min</th>\n",
       "      <th>25%</th>\n",
       "      <th>50%</th>\n",
       "      <th>75%</th>\n",
       "      <th>max</th>\n",
       "    </tr>\n",
       "  </thead>\n",
       "  <tbody>\n",
       "    <tr>\n",
       "      <th>Id</th>\n",
       "      <td>2919.0</td>\n",
       "      <td>1460.000000</td>\n",
       "      <td>842.787043</td>\n",
       "      <td>1.0</td>\n",
       "      <td>730.5</td>\n",
       "      <td>1460.0</td>\n",
       "      <td>2189.5</td>\n",
       "      <td>2919.0</td>\n",
       "    </tr>\n",
       "    <tr>\n",
       "      <th>MSSubClass</th>\n",
       "      <td>2919.0</td>\n",
       "      <td>57.137718</td>\n",
       "      <td>42.517628</td>\n",
       "      <td>20.0</td>\n",
       "      <td>20.0</td>\n",
       "      <td>50.0</td>\n",
       "      <td>70.0</td>\n",
       "      <td>190.0</td>\n",
       "    </tr>\n",
       "    <tr>\n",
       "      <th>LotFrontage</th>\n",
       "      <td>2433.0</td>\n",
       "      <td>69.305795</td>\n",
       "      <td>23.344905</td>\n",
       "      <td>21.0</td>\n",
       "      <td>59.0</td>\n",
       "      <td>68.0</td>\n",
       "      <td>80.0</td>\n",
       "      <td>313.0</td>\n",
       "    </tr>\n",
       "    <tr>\n",
       "      <th>LotArea</th>\n",
       "      <td>2919.0</td>\n",
       "      <td>10168.114080</td>\n",
       "      <td>7886.996359</td>\n",
       "      <td>1300.0</td>\n",
       "      <td>7478.0</td>\n",
       "      <td>9453.0</td>\n",
       "      <td>11570.0</td>\n",
       "      <td>215245.0</td>\n",
       "    </tr>\n",
       "    <tr>\n",
       "      <th>OverallQual</th>\n",
       "      <td>2919.0</td>\n",
       "      <td>6.089072</td>\n",
       "      <td>1.409947</td>\n",
       "      <td>1.0</td>\n",
       "      <td>5.0</td>\n",
       "      <td>6.0</td>\n",
       "      <td>7.0</td>\n",
       "      <td>10.0</td>\n",
       "    </tr>\n",
       "    <tr>\n",
       "      <th>OverallCond</th>\n",
       "      <td>2919.0</td>\n",
       "      <td>5.564577</td>\n",
       "      <td>1.113131</td>\n",
       "      <td>1.0</td>\n",
       "      <td>5.0</td>\n",
       "      <td>5.0</td>\n",
       "      <td>6.0</td>\n",
       "      <td>9.0</td>\n",
       "    </tr>\n",
       "    <tr>\n",
       "      <th>YearBuilt</th>\n",
       "      <td>2919.0</td>\n",
       "      <td>1971.312778</td>\n",
       "      <td>30.291442</td>\n",
       "      <td>1872.0</td>\n",
       "      <td>1953.5</td>\n",
       "      <td>1973.0</td>\n",
       "      <td>2001.0</td>\n",
       "      <td>2010.0</td>\n",
       "    </tr>\n",
       "    <tr>\n",
       "      <th>YearRemodAdd</th>\n",
       "      <td>2919.0</td>\n",
       "      <td>1984.264474</td>\n",
       "      <td>20.894344</td>\n",
       "      <td>1950.0</td>\n",
       "      <td>1965.0</td>\n",
       "      <td>1993.0</td>\n",
       "      <td>2004.0</td>\n",
       "      <td>2010.0</td>\n",
       "    </tr>\n",
       "    <tr>\n",
       "      <th>MasVnrArea</th>\n",
       "      <td>2896.0</td>\n",
       "      <td>102.201312</td>\n",
       "      <td>179.334253</td>\n",
       "      <td>0.0</td>\n",
       "      <td>0.0</td>\n",
       "      <td>0.0</td>\n",
       "      <td>164.0</td>\n",
       "      <td>1600.0</td>\n",
       "    </tr>\n",
       "    <tr>\n",
       "      <th>BsmtFinSF1</th>\n",
       "      <td>2918.0</td>\n",
       "      <td>441.423235</td>\n",
       "      <td>455.610826</td>\n",
       "      <td>0.0</td>\n",
       "      <td>0.0</td>\n",
       "      <td>368.5</td>\n",
       "      <td>733.0</td>\n",
       "      <td>5644.0</td>\n",
       "    </tr>\n",
       "    <tr>\n",
       "      <th>BsmtFinSF2</th>\n",
       "      <td>2918.0</td>\n",
       "      <td>49.582248</td>\n",
       "      <td>169.205611</td>\n",
       "      <td>0.0</td>\n",
       "      <td>0.0</td>\n",
       "      <td>0.0</td>\n",
       "      <td>0.0</td>\n",
       "      <td>1526.0</td>\n",
       "    </tr>\n",
       "    <tr>\n",
       "      <th>BsmtUnfSF</th>\n",
       "      <td>2918.0</td>\n",
       "      <td>560.772104</td>\n",
       "      <td>439.543659</td>\n",
       "      <td>0.0</td>\n",
       "      <td>220.0</td>\n",
       "      <td>467.0</td>\n",
       "      <td>805.5</td>\n",
       "      <td>2336.0</td>\n",
       "    </tr>\n",
       "    <tr>\n",
       "      <th>TotalBsmtSF</th>\n",
       "      <td>2918.0</td>\n",
       "      <td>1051.777587</td>\n",
       "      <td>440.766258</td>\n",
       "      <td>0.0</td>\n",
       "      <td>793.0</td>\n",
       "      <td>989.5</td>\n",
       "      <td>1302.0</td>\n",
       "      <td>6110.0</td>\n",
       "    </tr>\n",
       "    <tr>\n",
       "      <th>1stFlrSF</th>\n",
       "      <td>2919.0</td>\n",
       "      <td>1159.581706</td>\n",
       "      <td>392.362079</td>\n",
       "      <td>334.0</td>\n",
       "      <td>876.0</td>\n",
       "      <td>1082.0</td>\n",
       "      <td>1387.5</td>\n",
       "      <td>5095.0</td>\n",
       "    </tr>\n",
       "    <tr>\n",
       "      <th>2ndFlrSF</th>\n",
       "      <td>2919.0</td>\n",
       "      <td>336.483727</td>\n",
       "      <td>428.701456</td>\n",
       "      <td>0.0</td>\n",
       "      <td>0.0</td>\n",
       "      <td>0.0</td>\n",
       "      <td>704.0</td>\n",
       "      <td>2065.0</td>\n",
       "    </tr>\n",
       "    <tr>\n",
       "      <th>LowQualFinSF</th>\n",
       "      <td>2919.0</td>\n",
       "      <td>4.694416</td>\n",
       "      <td>46.396825</td>\n",
       "      <td>0.0</td>\n",
       "      <td>0.0</td>\n",
       "      <td>0.0</td>\n",
       "      <td>0.0</td>\n",
       "      <td>1064.0</td>\n",
       "    </tr>\n",
       "    <tr>\n",
       "      <th>GrLivArea</th>\n",
       "      <td>2919.0</td>\n",
       "      <td>1500.759849</td>\n",
       "      <td>506.051045</td>\n",
       "      <td>334.0</td>\n",
       "      <td>1126.0</td>\n",
       "      <td>1444.0</td>\n",
       "      <td>1743.5</td>\n",
       "      <td>5642.0</td>\n",
       "    </tr>\n",
       "    <tr>\n",
       "      <th>BsmtFullBath</th>\n",
       "      <td>2917.0</td>\n",
       "      <td>0.429894</td>\n",
       "      <td>0.524736</td>\n",
       "      <td>0.0</td>\n",
       "      <td>0.0</td>\n",
       "      <td>0.0</td>\n",
       "      <td>1.0</td>\n",
       "      <td>3.0</td>\n",
       "    </tr>\n",
       "    <tr>\n",
       "      <th>BsmtHalfBath</th>\n",
       "      <td>2917.0</td>\n",
       "      <td>0.061364</td>\n",
       "      <td>0.245687</td>\n",
       "      <td>0.0</td>\n",
       "      <td>0.0</td>\n",
       "      <td>0.0</td>\n",
       "      <td>0.0</td>\n",
       "      <td>2.0</td>\n",
       "    </tr>\n",
       "    <tr>\n",
       "      <th>FullBath</th>\n",
       "      <td>2919.0</td>\n",
       "      <td>1.568003</td>\n",
       "      <td>0.552969</td>\n",
       "      <td>0.0</td>\n",
       "      <td>1.0</td>\n",
       "      <td>2.0</td>\n",
       "      <td>2.0</td>\n",
       "      <td>4.0</td>\n",
       "    </tr>\n",
       "    <tr>\n",
       "      <th>HalfBath</th>\n",
       "      <td>2919.0</td>\n",
       "      <td>0.380267</td>\n",
       "      <td>0.502872</td>\n",
       "      <td>0.0</td>\n",
       "      <td>0.0</td>\n",
       "      <td>0.0</td>\n",
       "      <td>1.0</td>\n",
       "      <td>2.0</td>\n",
       "    </tr>\n",
       "    <tr>\n",
       "      <th>BedroomAbvGr</th>\n",
       "      <td>2919.0</td>\n",
       "      <td>2.860226</td>\n",
       "      <td>0.822693</td>\n",
       "      <td>0.0</td>\n",
       "      <td>2.0</td>\n",
       "      <td>3.0</td>\n",
       "      <td>3.0</td>\n",
       "      <td>8.0</td>\n",
       "    </tr>\n",
       "    <tr>\n",
       "      <th>KitchenAbvGr</th>\n",
       "      <td>2919.0</td>\n",
       "      <td>1.044536</td>\n",
       "      <td>0.214462</td>\n",
       "      <td>0.0</td>\n",
       "      <td>1.0</td>\n",
       "      <td>1.0</td>\n",
       "      <td>1.0</td>\n",
       "      <td>3.0</td>\n",
       "    </tr>\n",
       "    <tr>\n",
       "      <th>TotRmsAbvGrd</th>\n",
       "      <td>2919.0</td>\n",
       "      <td>6.451524</td>\n",
       "      <td>1.569379</td>\n",
       "      <td>2.0</td>\n",
       "      <td>5.0</td>\n",
       "      <td>6.0</td>\n",
       "      <td>7.0</td>\n",
       "      <td>15.0</td>\n",
       "    </tr>\n",
       "    <tr>\n",
       "      <th>Fireplaces</th>\n",
       "      <td>2919.0</td>\n",
       "      <td>0.597122</td>\n",
       "      <td>0.646129</td>\n",
       "      <td>0.0</td>\n",
       "      <td>0.0</td>\n",
       "      <td>1.0</td>\n",
       "      <td>1.0</td>\n",
       "      <td>4.0</td>\n",
       "    </tr>\n",
       "    <tr>\n",
       "      <th>GarageYrBlt</th>\n",
       "      <td>2760.0</td>\n",
       "      <td>1978.113406</td>\n",
       "      <td>25.574285</td>\n",
       "      <td>1895.0</td>\n",
       "      <td>1960.0</td>\n",
       "      <td>1979.0</td>\n",
       "      <td>2002.0</td>\n",
       "      <td>2207.0</td>\n",
       "    </tr>\n",
       "    <tr>\n",
       "      <th>GarageCars</th>\n",
       "      <td>2918.0</td>\n",
       "      <td>1.766621</td>\n",
       "      <td>0.761624</td>\n",
       "      <td>0.0</td>\n",
       "      <td>1.0</td>\n",
       "      <td>2.0</td>\n",
       "      <td>2.0</td>\n",
       "      <td>5.0</td>\n",
       "    </tr>\n",
       "    <tr>\n",
       "      <th>GarageArea</th>\n",
       "      <td>2918.0</td>\n",
       "      <td>472.874572</td>\n",
       "      <td>215.394815</td>\n",
       "      <td>0.0</td>\n",
       "      <td>320.0</td>\n",
       "      <td>480.0</td>\n",
       "      <td>576.0</td>\n",
       "      <td>1488.0</td>\n",
       "    </tr>\n",
       "    <tr>\n",
       "      <th>WoodDeckSF</th>\n",
       "      <td>2919.0</td>\n",
       "      <td>93.709832</td>\n",
       "      <td>126.526589</td>\n",
       "      <td>0.0</td>\n",
       "      <td>0.0</td>\n",
       "      <td>0.0</td>\n",
       "      <td>168.0</td>\n",
       "      <td>1424.0</td>\n",
       "    </tr>\n",
       "    <tr>\n",
       "      <th>OpenPorchSF</th>\n",
       "      <td>2919.0</td>\n",
       "      <td>47.486811</td>\n",
       "      <td>67.575493</td>\n",
       "      <td>0.0</td>\n",
       "      <td>0.0</td>\n",
       "      <td>26.0</td>\n",
       "      <td>70.0</td>\n",
       "      <td>742.0</td>\n",
       "    </tr>\n",
       "    <tr>\n",
       "      <th>EnclosedPorch</th>\n",
       "      <td>2919.0</td>\n",
       "      <td>23.098321</td>\n",
       "      <td>64.244246</td>\n",
       "      <td>0.0</td>\n",
       "      <td>0.0</td>\n",
       "      <td>0.0</td>\n",
       "      <td>0.0</td>\n",
       "      <td>1012.0</td>\n",
       "    </tr>\n",
       "    <tr>\n",
       "      <th>3SsnPorch</th>\n",
       "      <td>2919.0</td>\n",
       "      <td>2.602261</td>\n",
       "      <td>25.188169</td>\n",
       "      <td>0.0</td>\n",
       "      <td>0.0</td>\n",
       "      <td>0.0</td>\n",
       "      <td>0.0</td>\n",
       "      <td>508.0</td>\n",
       "    </tr>\n",
       "    <tr>\n",
       "      <th>ScreenPorch</th>\n",
       "      <td>2919.0</td>\n",
       "      <td>16.062350</td>\n",
       "      <td>56.184365</td>\n",
       "      <td>0.0</td>\n",
       "      <td>0.0</td>\n",
       "      <td>0.0</td>\n",
       "      <td>0.0</td>\n",
       "      <td>576.0</td>\n",
       "    </tr>\n",
       "    <tr>\n",
       "      <th>PoolArea</th>\n",
       "      <td>2919.0</td>\n",
       "      <td>2.251799</td>\n",
       "      <td>35.663946</td>\n",
       "      <td>0.0</td>\n",
       "      <td>0.0</td>\n",
       "      <td>0.0</td>\n",
       "      <td>0.0</td>\n",
       "      <td>800.0</td>\n",
       "    </tr>\n",
       "    <tr>\n",
       "      <th>MiscVal</th>\n",
       "      <td>2919.0</td>\n",
       "      <td>50.825968</td>\n",
       "      <td>567.402211</td>\n",
       "      <td>0.0</td>\n",
       "      <td>0.0</td>\n",
       "      <td>0.0</td>\n",
       "      <td>0.0</td>\n",
       "      <td>17000.0</td>\n",
       "    </tr>\n",
       "    <tr>\n",
       "      <th>MoSold</th>\n",
       "      <td>2919.0</td>\n",
       "      <td>6.213087</td>\n",
       "      <td>2.714762</td>\n",
       "      <td>1.0</td>\n",
       "      <td>4.0</td>\n",
       "      <td>6.0</td>\n",
       "      <td>8.0</td>\n",
       "      <td>12.0</td>\n",
       "    </tr>\n",
       "    <tr>\n",
       "      <th>YrSold</th>\n",
       "      <td>2919.0</td>\n",
       "      <td>2007.792737</td>\n",
       "      <td>1.314964</td>\n",
       "      <td>2006.0</td>\n",
       "      <td>2007.0</td>\n",
       "      <td>2008.0</td>\n",
       "      <td>2009.0</td>\n",
       "      <td>2010.0</td>\n",
       "    </tr>\n",
       "  </tbody>\n",
       "</table>\n",
       "</div>"
      ],
      "text/plain": [
       "                count          mean          std     min     25%     50%  \\\n",
       "Id             2919.0   1460.000000   842.787043     1.0   730.5  1460.0   \n",
       "MSSubClass     2919.0     57.137718    42.517628    20.0    20.0    50.0   \n",
       "LotFrontage    2433.0     69.305795    23.344905    21.0    59.0    68.0   \n",
       "LotArea        2919.0  10168.114080  7886.996359  1300.0  7478.0  9453.0   \n",
       "OverallQual    2919.0      6.089072     1.409947     1.0     5.0     6.0   \n",
       "OverallCond    2919.0      5.564577     1.113131     1.0     5.0     5.0   \n",
       "YearBuilt      2919.0   1971.312778    30.291442  1872.0  1953.5  1973.0   \n",
       "YearRemodAdd   2919.0   1984.264474    20.894344  1950.0  1965.0  1993.0   \n",
       "MasVnrArea     2896.0    102.201312   179.334253     0.0     0.0     0.0   \n",
       "BsmtFinSF1     2918.0    441.423235   455.610826     0.0     0.0   368.5   \n",
       "BsmtFinSF2     2918.0     49.582248   169.205611     0.0     0.0     0.0   \n",
       "BsmtUnfSF      2918.0    560.772104   439.543659     0.0   220.0   467.0   \n",
       "TotalBsmtSF    2918.0   1051.777587   440.766258     0.0   793.0   989.5   \n",
       "1stFlrSF       2919.0   1159.581706   392.362079   334.0   876.0  1082.0   \n",
       "2ndFlrSF       2919.0    336.483727   428.701456     0.0     0.0     0.0   \n",
       "LowQualFinSF   2919.0      4.694416    46.396825     0.0     0.0     0.0   \n",
       "GrLivArea      2919.0   1500.759849   506.051045   334.0  1126.0  1444.0   \n",
       "BsmtFullBath   2917.0      0.429894     0.524736     0.0     0.0     0.0   \n",
       "BsmtHalfBath   2917.0      0.061364     0.245687     0.0     0.0     0.0   \n",
       "FullBath       2919.0      1.568003     0.552969     0.0     1.0     2.0   \n",
       "HalfBath       2919.0      0.380267     0.502872     0.0     0.0     0.0   \n",
       "BedroomAbvGr   2919.0      2.860226     0.822693     0.0     2.0     3.0   \n",
       "KitchenAbvGr   2919.0      1.044536     0.214462     0.0     1.0     1.0   \n",
       "TotRmsAbvGrd   2919.0      6.451524     1.569379     2.0     5.0     6.0   \n",
       "Fireplaces     2919.0      0.597122     0.646129     0.0     0.0     1.0   \n",
       "GarageYrBlt    2760.0   1978.113406    25.574285  1895.0  1960.0  1979.0   \n",
       "GarageCars     2918.0      1.766621     0.761624     0.0     1.0     2.0   \n",
       "GarageArea     2918.0    472.874572   215.394815     0.0   320.0   480.0   \n",
       "WoodDeckSF     2919.0     93.709832   126.526589     0.0     0.0     0.0   \n",
       "OpenPorchSF    2919.0     47.486811    67.575493     0.0     0.0    26.0   \n",
       "EnclosedPorch  2919.0     23.098321    64.244246     0.0     0.0     0.0   \n",
       "3SsnPorch      2919.0      2.602261    25.188169     0.0     0.0     0.0   \n",
       "ScreenPorch    2919.0     16.062350    56.184365     0.0     0.0     0.0   \n",
       "PoolArea       2919.0      2.251799    35.663946     0.0     0.0     0.0   \n",
       "MiscVal        2919.0     50.825968   567.402211     0.0     0.0     0.0   \n",
       "MoSold         2919.0      6.213087     2.714762     1.0     4.0     6.0   \n",
       "YrSold         2919.0   2007.792737     1.314964  2006.0  2007.0  2008.0   \n",
       "\n",
       "                   75%       max  \n",
       "Id              2189.5    2919.0  \n",
       "MSSubClass        70.0     190.0  \n",
       "LotFrontage       80.0     313.0  \n",
       "LotArea        11570.0  215245.0  \n",
       "OverallQual        7.0      10.0  \n",
       "OverallCond        6.0       9.0  \n",
       "YearBuilt       2001.0    2010.0  \n",
       "YearRemodAdd    2004.0    2010.0  \n",
       "MasVnrArea       164.0    1600.0  \n",
       "BsmtFinSF1       733.0    5644.0  \n",
       "BsmtFinSF2         0.0    1526.0  \n",
       "BsmtUnfSF        805.5    2336.0  \n",
       "TotalBsmtSF     1302.0    6110.0  \n",
       "1stFlrSF        1387.5    5095.0  \n",
       "2ndFlrSF         704.0    2065.0  \n",
       "LowQualFinSF       0.0    1064.0  \n",
       "GrLivArea       1743.5    5642.0  \n",
       "BsmtFullBath       1.0       3.0  \n",
       "BsmtHalfBath       0.0       2.0  \n",
       "FullBath           2.0       4.0  \n",
       "HalfBath           1.0       2.0  \n",
       "BedroomAbvGr       3.0       8.0  \n",
       "KitchenAbvGr       1.0       3.0  \n",
       "TotRmsAbvGrd       7.0      15.0  \n",
       "Fireplaces         1.0       4.0  \n",
       "GarageYrBlt     2002.0    2207.0  \n",
       "GarageCars         2.0       5.0  \n",
       "GarageArea       576.0    1488.0  \n",
       "WoodDeckSF       168.0    1424.0  \n",
       "OpenPorchSF       70.0     742.0  \n",
       "EnclosedPorch      0.0    1012.0  \n",
       "3SsnPorch          0.0     508.0  \n",
       "ScreenPorch        0.0     576.0  \n",
       "PoolArea           0.0     800.0  \n",
       "MiscVal            0.0   17000.0  \n",
       "MoSold             8.0      12.0  \n",
       "YrSold          2009.0    2010.0  "
      ]
     },
     "execution_count": 6,
     "metadata": {},
     "output_type": "execute_result"
    }
   ],
   "source": [
    "combined_df.describe().transpose()"
   ]
  },
  {
   "cell_type": "code",
   "execution_count": 7,
   "id": "dfca2908",
   "metadata": {},
   "outputs": [],
   "source": [
    "#Part 1\n",
    "#Exploratory data visualizations"
   ]
  },
  {
   "cell_type": "code",
   "execution_count": 8,
   "id": "26184f5d",
   "metadata": {},
   "outputs": [
    {
     "name": "stdout",
     "output_type": "stream",
     "text": [
      "163000.0\n"
     ]
    },
    {
     "data": {
      "image/png": "[encoded data removed]",
      "text/plain": [
       "<Figure size 432x288 with 1 Axes>"
      ]
     },
     "metadata": {
      "needs_background": "light"
     },
     "output_type": "display_data"
    }
   ],
   "source": [
    "sns.histplot(train['SalePrice'],kde=True,bins=50)\n",
    "print(train['SalePrice'].median())"
   ]
  },
  {
   "cell_type": "code",
   "execution_count": 9,
   "id": "4ef2aa18",
   "metadata": {},
   "outputs": [
    {
     "data": {
      "text/plain": [
       "<AxesSubplot:xlabel='BedroomAbvGr', ylabel='count'>"
      ]
     },
     "execution_count": 9,
     "metadata": {},
     "output_type": "execute_result"
    },
    {
     "data": {
      "image/png": "[encoded data removed]",
      "text/plain": [
       "<Figure size 432x288 with 1 Axes>"
      ]
     },
     "metadata": {
      "needs_background": "light"
     },
     "output_type": "display_data"
    }
   ],
   "source": [
    "sns.countplot(x='BedroomAbvGr',data=train)"
   ]
  },
  {
   "cell_type": "code",
   "execution_count": 10,
   "id": "ea96f488",
   "metadata": {},
   "outputs": [
    {
     "data": {
      "text/plain": [
       "<AxesSubplot:xlabel='BedroomAbvGr', ylabel='SalePrice'>"
      ]
     },
     "execution_count": 10,
     "metadata": {},
     "output_type": "execute_result"
    },
    {
     "data": {
      "image/png": "[encoded data removed]",
      "text/plain": [
       "<Figure size 432x288 with 1 Axes>"
      ]
     },
     "metadata": {
      "needs_background": "light"
     },
     "output_type": "display_data"
    }
   ],
   "source": [
    "sns.boxplot(x='BedroomAbvGr',y='SalePrice',data=train)"
   ]
  },
  {
   "cell_type": "code",
   "execution_count": 11,
   "id": "977b78fd",
   "metadata": {},
   "outputs": [
    {
     "data": {
      "text/plain": [
       "<AxesSubplot:xlabel='Neighborhood'>"
      ]
     },
     "execution_count": 11,
     "metadata": {},
     "output_type": "execute_result"
    },
    {
     "data": {
      "image/png": "[encoded data removed]",
      "text/plain": [
       "<Figure size 864x288 with 1 Axes>"
      ]
     },
     "metadata": {
      "needs_background": "light"
     },
     "output_type": "display_data"
    }
   ],
   "source": [
    "#find which neighborhoods are most desirable\n",
    "nh_prices = train.groupby('Neighborhood').mean()\n",
    "plt.figure(figsize=(12,4))\n",
    "nh_prices['SalePrice'].plot(kind='bar')"
   ]
  },
  {
   "cell_type": "code",
   "execution_count": 12,
   "id": "23e4b5f8",
   "metadata": {},
   "outputs": [
    {
     "data": {
      "text/plain": [
       "<AxesSubplot:xlabel='SalePrice', ylabel='GrLivArea'>"
      ]
     },
     "execution_count": 12,
     "metadata": {},
     "output_type": "execute_result"
    },
    {
     "data": {
      "image/png": "[encoded data removed]",
      "text/plain": [
       "<Figure size 432x288 with 1 Axes>"
      ]
     },
     "metadata": {
      "needs_background": "light"
     },
     "output_type": "display_data"
    }
   ],
   "source": [
    "sns.scatterplot(x='SalePrice',y='GrLivArea',data=train)"
   ]
  },
  {
   "cell_type": "code",
   "execution_count": 13,
   "id": "ad9b0fda",
   "metadata": {},
   "outputs": [
    {
     "data": {
      "text/plain": [
       "<AxesSubplot:xlabel='BldgType', ylabel='SalePrice'>"
      ]
     },
     "execution_count": 13,
     "metadata": {},
     "output_type": "execute_result"
    },
    {
     "data": {
      "image/png": "[encoded data removed]",
      "text/plain": [
       "<Figure size 432x288 with 1 Axes>"
      ]
     },
     "metadata": {
      "needs_background": "light"
     },
     "output_type": "display_data"
    }
   ],
   "source": [
    "sns.boxplot(x='BldgType',y='SalePrice',data=train)"
   ]
  },
  {
   "cell_type": "code",
   "execution_count": 14,
   "id": "c632df87",
   "metadata": {},
   "outputs": [
    {
     "data": {
      "text/plain": [
       "<AxesSubplot:>"
      ]
     },
     "execution_count": 14,
     "metadata": {},
     "output_type": "execute_result"
    },
    {
     "data": {
      "image/png": "[encoded data removed]",
      "text/plain": [
       "<Figure size 504x720 with 2 Axes>"
      ]
     },
     "metadata": {
      "needs_background": "light"
     },
     "output_type": "display_data"
    }
   ],
   "source": [
    "top_corr = train.corr()[['SalePrice']].sort_values(by=['SalePrice'],ascending=False).head(30)\n",
    "plt.figure(figsize=(7,10))\n",
    "sns.heatmap(top_corr,cmap='rainbow',annot=True,annot_kws={\"size\": 16},vmin=-1)"
   ]
  },
  {
   "cell_type": "code",
   "execution_count": 15,
   "id": "d9bbcd26",
   "metadata": {},
   "outputs": [
    {
     "data": {
      "text/plain": [
       "<AxesSubplot:xlabel='YrSold'>"
      ]
     },
     "execution_count": 15,
     "metadata": {},
     "output_type": "execute_result"
    },
    {
     "data": {
      "image/png": "[encoded data removed]",
      "text/plain": [
       "<Figure size 432x288 with 1 Axes>"
      ]
     },
     "metadata": {
      "needs_background": "light"
     },
     "output_type": "display_data"
    }
   ],
   "source": [
    "#2008 housing crash can be seen\n",
    "train.groupby('YrSold').mean()['SalePrice'].plot()"
   ]
  },
  {
   "cell_type": "code",
   "execution_count": 16,
   "id": "8e8fde3b",
   "metadata": {},
   "outputs": [
    {
     "data": {
      "text/plain": [
       "<AxesSubplot:xlabel='MSSubClass'>"
      ]
     },
     "execution_count": 16,
     "metadata": {},
     "output_type": "execute_result"
    },
    {
     "data": {
      "image/png": "[encoded data removed]",
      "text/plain": [
       "<Figure size 432x288 with 1 Axes>"
      ]
     },
     "metadata": {
      "needs_background": "light"
     },
     "output_type": "display_data"
    }
   ],
   "source": [
    "train.groupby('MSSubClass').mean()['SalePrice'].plot(kind='bar')"
   ]
  },
  {
   "cell_type": "code",
   "execution_count": 17,
   "id": "959519b1",
   "metadata": {},
   "outputs": [
    {
     "data": {
      "text/plain": [
       "<AxesSubplot:xlabel='MSZoning'>"
      ]
     },
     "execution_count": 17,
     "metadata": {},
     "output_type": "execute_result"
    },
    {
     "data": {
      "image/png": "[encoded data removed]",
      "text/plain": [
       "<Figure size 432x288 with 1 Axes>"
      ]
     },
     "metadata": {
      "needs_background": "light"
     },
     "output_type": "display_data"
    }
   ],
   "source": [
    "train.groupby('MSZoning').mean()['SalePrice'].plot(kind='bar')"
   ]
  },
  {
   "cell_type": "code",
   "execution_count": 18,
   "id": "3de68c35",
   "metadata": {},
   "outputs": [
    {
     "data": {
      "text/plain": [
       "<seaborn.axisgrid.FacetGrid at 0x13c8ae380d0>"
      ]
     },
     "execution_count": 18,
     "metadata": {},
     "output_type": "execute_result"
    },
    {
     "data": {
      "image/png": "[encoded data removed]",
      "text/plain": [
       "<Figure size 506.875x432 with 1 Axes>"
      ]
     },
     "metadata": {
      "needs_background": "light"
     },
     "output_type": "display_data"
    }
   ],
   "source": [
    "#ames, iowa seems to be a more rural town\n",
    "sns.catplot(x=\"YrSold\", data=train, kind='count', hue='BldgType', height=6)"
   ]
  },
  {
   "cell_type": "code",
   "execution_count": 19,
   "id": "460ca6cb",
   "metadata": {},
   "outputs": [
    {
     "data": {
      "text/plain": [
       "<matplotlib.legend.Legend at 0x13c8b1912b0>"
      ]
     },
     "execution_count": 19,
     "metadata": {},
     "output_type": "execute_result"
    },
    {
     "data": {
      "image/png": "[encoded data removed]",
      "text/plain": [
       "<Figure size 864x216 with 1 Axes>"
      ]
     },
     "metadata": {},
     "output_type": "display_data"
    }
   ],
   "source": [
    "sns.set_style('darkgrid')\n",
    "fig = sns.FacetGrid(data=train,hue='SaleCondition',aspect=4)\n",
    "fig.map(sns.kdeplot,'SalePrice',shade=True)\n",
    "max_val = train['SalePrice'].max()\n",
    "fig.set(xlim=(0,max_val))\n",
    "plt.legend()"
   ]
  },
  {
   "cell_type": "code",
   "execution_count": 20,
   "id": "fd66f451",
   "metadata": {},
   "outputs": [
    {
     "data": {
      "text/plain": [
       "<seaborn.axisgrid.FacetGrid at 0x13c8b1ae9d0>"
      ]
     },
     "execution_count": 20,
     "metadata": {},
     "output_type": "execute_result"
    },
    {
     "data": {
      "image/png": "[encoded data removed]",
      "text/plain": [
       "<Figure size 360x360 with 1 Axes>"
      ]
     },
     "metadata": {},
     "output_type": "display_data"
    }
   ],
   "source": [
    "sns.lmplot(x='1stFlrSF',y='SalePrice',data=train)"
   ]
  },
  {
   "cell_type": "code",
   "execution_count": 21,
   "id": "1700ffe2",
   "metadata": {},
   "outputs": [
    {
     "data": {
      "text/plain": [
       "<AxesSubplot:xlabel='SaleType'>"
      ]
     },
     "execution_count": 21,
     "metadata": {},
     "output_type": "execute_result"
    },
    {
     "data": {
      "image/png": "[encoded data removed]",
      "text/plain": [
       "<Figure size 432x288 with 1 Axes>"
      ]
     },
     "metadata": {},
     "output_type": "display_data"
    }
   ],
   "source": [
    "train.groupby('SaleType').mean()['SalePrice'].plot(kind='bar')"
   ]
  },
  {
   "cell_type": "code",
   "execution_count": 22,
   "id": "4d3fdec8",
   "metadata": {},
   "outputs": [
    {
     "data": {
      "text/plain": [
       "<AxesSubplot:xlabel='MiscVal', ylabel='SalePrice'>"
      ]
     },
     "execution_count": 22,
     "metadata": {},
     "output_type": "execute_result"
    },
    {
     "data": {
      "image/png": "[encoded data removed]",
      "text/plain": [
       "<Figure size 432x288 with 1 Axes>"
      ]
     },
     "metadata": {},
     "output_type": "display_data"
    }
   ],
   "source": [
    "sns.scatterplot(x='MiscVal',y='SalePrice',data=train)"
   ]
  },
  {
   "cell_type": "code",
   "execution_count": 23,
   "id": "dec16382",
   "metadata": {},
   "outputs": [
    {
     "data": {
      "text/plain": [
       "<AxesSubplot:xlabel='Electrical', ylabel='SalePrice'>"
      ]
     },
     "execution_count": 23,
     "metadata": {},
     "output_type": "execute_result"
    },
    {
     "data": {
      "image/png": "[encoded data removed]",
      "text/plain": [
       "<Figure size 432x288 with 1 Axes>"
      ]
     },
     "metadata": {},
     "output_type": "display_data"
    }
   ],
   "source": [
    "sns.scatterplot(x='Electrical',y='SalePrice',data=train)"
   ]
  },
  {
   "cell_type": "code",
   "execution_count": 24,
   "id": "0ea6f80a",
   "metadata": {},
   "outputs": [],
   "source": [
    "#Part 2\n",
    "#Data preprocessing"
   ]
  },
  {
   "cell_type": "code",
   "execution_count": 25,
   "id": "e52e690f",
   "metadata": {},
   "outputs": [
    {
     "data": {
      "text/plain": [
       "MSZoning           4\n",
       "LotFrontage      486\n",
       "Alley           2721\n",
       "Utilities          2\n",
       "Exterior1st        1\n",
       "Exterior2nd        1\n",
       "MasVnrType        24\n",
       "MasVnrArea        23\n",
       "BsmtQual          81\n",
       "BsmtCond          82\n",
       "BsmtExposure      82\n",
       "BsmtFinType1      79\n",
       "BsmtFinSF1         1\n",
       "BsmtFinType2      80\n",
       "BsmtFinSF2         1\n",
       "BsmtUnfSF          1\n",
       "TotalBsmtSF        1\n",
       "Electrical         1\n",
       "BsmtFullBath       2\n",
       "BsmtHalfBath       2\n",
       "KitchenQual        1\n",
       "Functional         2\n",
       "FireplaceQu     1420\n",
       "GarageType       157\n",
       "GarageYrBlt      159\n",
       "GarageFinish     159\n",
       "GarageCars         1\n",
       "GarageArea         1\n",
       "GarageQual       159\n",
       "GarageCond       159\n",
       "PoolQC          2909\n",
       "Fence           2348\n",
       "MiscFeature     2814\n",
       "SaleType           1\n",
       "dtype: int64"
      ]
     },
     "execution_count": 25,
     "metadata": {},
     "output_type": "execute_result"
    }
   ],
   "source": [
    "#fill or remove null columns\n",
    "combined_df.isnull().sum()[combined_df.isnull().sum() > 0]"
   ]
  },
  {
   "cell_type": "code",
   "execution_count": 26,
   "id": "9bebdef6",
   "metadata": {},
   "outputs": [],
   "source": [
    "combined_df['GarageType'].fillna(\"None\",inplace=True)"
   ]
  },
  {
   "cell_type": "code",
   "execution_count": 27,
   "id": "1fce3009",
   "metadata": {},
   "outputs": [],
   "source": [
    "#redundant/unnecessary columns\n",
    "combined_df.drop(['BsmtQual','GarageArea','GarageQual','GarageFinish','GarageYrBlt','GarageCond','Id'],axis=1,inplace=True)"
   ]
  },
  {
   "cell_type": "code",
   "execution_count": 28,
   "id": "295b3823",
   "metadata": {},
   "outputs": [
    {
     "data": {
      "text/plain": [
       "Shed    95\n",
       "Gar2     5\n",
       "Othr     4\n",
       "TenC     1\n",
       "Name: MiscFeature, dtype: int64"
      ]
     },
     "execution_count": 28,
     "metadata": {},
     "output_type": "execute_result"
    }
   ],
   "source": [
    "combined_df['MiscFeature'].value_counts()"
   ]
  },
  {
   "cell_type": "code",
   "execution_count": 29,
   "id": "87e399d6",
   "metadata": {},
   "outputs": [],
   "source": [
    "#too few miscellaneous features to make a difference\n",
    "combined_df.drop(['MiscFeature','MiscVal'],axis=1,inplace=True)"
   ]
  },
  {
   "cell_type": "code",
   "execution_count": 30,
   "id": "6cb86b5f",
   "metadata": {},
   "outputs": [],
   "source": [
    "#these columns are mostly null values\n",
    "combined_df.drop(['Alley','FireplaceQu','PoolQC'],axis=1,inplace=True)"
   ]
  },
  {
   "cell_type": "code",
   "execution_count": 31,
   "id": "bec73117",
   "metadata": {},
   "outputs": [],
   "source": [
    "combined_df['Fence'].fillna(\"None\",inplace=True)"
   ]
  },
  {
   "cell_type": "code",
   "execution_count": 32,
   "id": "f0117d0a",
   "metadata": {},
   "outputs": [
    {
     "data": {
      "text/plain": [
       "MSZoning          4\n",
       "LotFrontage     486\n",
       "Utilities         2\n",
       "Exterior1st       1\n",
       "Exterior2nd       1\n",
       "MasVnrType       24\n",
       "MasVnrArea       23\n",
       "BsmtCond         82\n",
       "BsmtExposure     82\n",
       "BsmtFinType1     79\n",
       "BsmtFinSF1        1\n",
       "BsmtFinType2     80\n",
       "BsmtFinSF2        1\n",
       "BsmtUnfSF         1\n",
       "TotalBsmtSF       1\n",
       "Electrical        1\n",
       "BsmtFullBath      2\n",
       "BsmtHalfBath      2\n",
       "KitchenQual       1\n",
       "Functional        2\n",
       "GarageCars        1\n",
       "SaleType          1\n",
       "dtype: int64"
      ]
     },
     "execution_count": 32,
     "metadata": {},
     "output_type": "execute_result"
    }
   ],
   "source": [
    "combined_df.isnull().sum()[combined_df.isnull().sum() > 0]"
   ]
  },
  {
   "cell_type": "code",
   "execution_count": 33,
   "id": "3e1434fd",
   "metadata": {},
   "outputs": [],
   "source": [
    "for i in ('LotFrontage','MasVnrArea','GarageCars','BsmtUnfSF','TotalBsmtSF','BsmtFullBath','BsmtHalfBath'): \n",
    "    combined_df[i].fillna(0,inplace=True)\n",
    "for i in ('BsmtCond','BsmtExposure','BsmtFinType1','BsmtFinType2','MasVnrType'):\n",
    "    combined_df[i].fillna(\"None\",inplace=True)\n",
    "    \n",
    "combined_df['Electrical'].fillna(\"Mix\",inplace=True)\n",
    "combined_df['MSZoning'].fillna(\"RL\",inplace=True)\n",
    "combined_df['Exterior1st'].fillna(\"Other\",inplace=True)\n",
    "combined_df['Exterior2nd'].fillna(\"Other\",inplace=True)\n",
    "combined_df['KitchenQual'].fillna(\"TA\",inplace=True)\n",
    "combined_df['Functional'].fillna(\"Typ\",inplace=True)\n",
    "combined_df['SaleType'].fillna(\"WD\",inplace=True)"
   ]
  },
  {
   "cell_type": "code",
   "execution_count": 34,
   "id": "b210fb1e",
   "metadata": {},
   "outputs": [
    {
     "data": {
      "text/plain": [
       "WD       2526\n",
       "New       239\n",
       "COD        87\n",
       "ConLD      26\n",
       "CWD        12\n",
       "ConLI       9\n",
       "ConLw       8\n",
       "Oth         7\n",
       "Con         5\n",
       "Name: SaleType, dtype: int64"
      ]
     },
     "execution_count": 34,
     "metadata": {},
     "output_type": "execute_result"
    }
   ],
   "source": [
    "combined_df['SaleType'].value_counts()"
   ]
  },
  {
   "cell_type": "code",
   "execution_count": 35,
   "id": "892db74e",
   "metadata": {},
   "outputs": [],
   "source": [
    "#electrical column doesnt tell us much\n",
    "combined_df.drop('Electrical',axis=1,inplace=True)"
   ]
  },
  {
   "cell_type": "code",
   "execution_count": 36,
   "id": "2bd05118",
   "metadata": {},
   "outputs": [
    {
     "data": {
      "text/plain": [
       "20     1079\n",
       "60      575\n",
       "50      287\n",
       "120     182\n",
       "30      139\n",
       "70      128\n",
       "160     128\n",
       "80      118\n",
       "90      109\n",
       "190      61\n",
       "85       48\n",
       "75       23\n",
       "45       18\n",
       "180      17\n",
       "40        6\n",
       "150       1\n",
       "Name: MSSubClass, dtype: int64"
      ]
     },
     "execution_count": 36,
     "metadata": {},
     "output_type": "execute_result"
    }
   ],
   "source": [
    "#each number is a code for a type of dwelling (e.g. duplex, 2 story, etc.)\n",
    "combined_df['MSSubClass'].value_counts()"
   ]
  },
  {
   "cell_type": "code",
   "execution_count": 37,
   "id": "d4897fe5",
   "metadata": {},
   "outputs": [],
   "source": [
    "#bldgtype and housestyle are very similar to mssubclass, drop these columns\n",
    "combined_df.drop(['HouseStyle','BldgType'],axis=1,inplace=True)"
   ]
  },
  {
   "cell_type": "code",
   "execution_count": 38,
   "id": "42de6dbd",
   "metadata": {},
   "outputs": [
    {
     "name": "stdout",
     "output_type": "stream",
     "text": [
      "Pave    2907\n",
      "Grvl      12\n",
      "Name: Street, dtype: int64\n"
     ]
    }
   ],
   "source": [
    "print(combined_df['Street'].value_counts())\n",
    "\n",
    "#not enough data for gravel streets, remove the column\n",
    "combined_df.drop('Street',axis=1,inplace=True)"
   ]
  },
  {
   "cell_type": "code",
   "execution_count": 39,
   "id": "ddae0555",
   "metadata": {},
   "outputs": [
    {
     "name": "stdout",
     "output_type": "stream",
     "text": [
      "AllPub    2916\n",
      "NoSeWa       1\n",
      "Name: Utilities, dtype: int64\n"
     ]
    }
   ],
   "source": [
    "print(combined_df['Utilities'].value_counts())\n",
    "combined_df.drop('Utilities',axis=1,inplace=True)"
   ]
  },
  {
   "cell_type": "code",
   "execution_count": 40,
   "id": "80459dd2",
   "metadata": {},
   "outputs": [],
   "source": [
    "#lotshape, landslope and landcontour are very similar\n",
    "combined_df.drop(['LotShape','LandSlope'],axis=1,inplace=True)"
   ]
  },
  {
   "cell_type": "code",
   "execution_count": 41,
   "id": "d78c936e",
   "metadata": {},
   "outputs": [
    {
     "data": {
      "text/plain": [
       "Normal     2402\n",
       "Partial     245\n",
       "Abnorml     190\n",
       "Family       46\n",
       "Alloca       24\n",
       "AdjLand      12\n",
       "Name: SaleCondition, dtype: int64"
      ]
     },
     "execution_count": 41,
     "metadata": {},
     "output_type": "execute_result"
    }
   ],
   "source": [
    "combined_df['SaleCondition'].value_counts()"
   ]
  },
  {
   "cell_type": "code",
   "execution_count": 42,
   "id": "d1c9a162",
   "metadata": {},
   "outputs": [
    {
     "data": {
      "text/plain": [
       "Typ     2719\n",
       "Min2      70\n",
       "Min1      65\n",
       "Mod       35\n",
       "Maj1      19\n",
       "Maj2       9\n",
       "Sev        2\n",
       "Name: Functional, dtype: int64"
      ]
     },
     "execution_count": 42,
     "metadata": {},
     "output_type": "execute_result"
    }
   ],
   "source": [
    "combined_df['Functional'].value_counts()"
   ]
  },
  {
   "cell_type": "code",
   "execution_count": 43,
   "id": "c62c95bc",
   "metadata": {},
   "outputs": [
    {
     "name": "stdout",
     "output_type": "stream",
     "text": [
      "666    129000\n",
      "Name: SalePrice, dtype: int64\n"
     ]
    }
   ],
   "source": [
    "print(train[train['Functional'] == \"Sev\"]['SalePrice'])"
   ]
  },
  {
   "cell_type": "code",
   "execution_count": 44,
   "id": "9d7465ab",
   "metadata": {},
   "outputs": [
    {
     "data": {
      "text/html": [
       "<div>\n",
       "<style scoped>\n",
       "    .dataframe tbody tr th:only-of-type {\n",
       "        vertical-align: middle;\n",
       "    }\n",
       "\n",
       "    .dataframe tbody tr th {\n",
       "        vertical-align: top;\n",
       "    }\n",
       "\n",
       "    .dataframe thead th {\n",
       "        text-align: right;\n",
       "    }\n",
       "</style>\n",
       "<table border=\"1\" class=\"dataframe\">\n",
       "  <thead>\n",
       "    <tr style=\"text-align: right;\">\n",
       "      <th></th>\n",
       "      <th>1stFlrSF</th>\n",
       "      <th>2ndFlrSF</th>\n",
       "      <th>GrLivArea</th>\n",
       "    </tr>\n",
       "  </thead>\n",
       "  <tbody>\n",
       "    <tr>\n",
       "      <th>0</th>\n",
       "      <td>856</td>\n",
       "      <td>854</td>\n",
       "      <td>1710</td>\n",
       "    </tr>\n",
       "    <tr>\n",
       "      <th>1</th>\n",
       "      <td>1262</td>\n",
       "      <td>0</td>\n",
       "      <td>1262</td>\n",
       "    </tr>\n",
       "    <tr>\n",
       "      <th>2</th>\n",
       "      <td>920</td>\n",
       "      <td>866</td>\n",
       "      <td>1786</td>\n",
       "    </tr>\n",
       "    <tr>\n",
       "      <th>3</th>\n",
       "      <td>961</td>\n",
       "      <td>756</td>\n",
       "      <td>1717</td>\n",
       "    </tr>\n",
       "    <tr>\n",
       "      <th>4</th>\n",
       "      <td>1145</td>\n",
       "      <td>1053</td>\n",
       "      <td>2198</td>\n",
       "    </tr>\n",
       "    <tr>\n",
       "      <th>...</th>\n",
       "      <td>...</td>\n",
       "      <td>...</td>\n",
       "      <td>...</td>\n",
       "    </tr>\n",
       "    <tr>\n",
       "      <th>2914</th>\n",
       "      <td>546</td>\n",
       "      <td>546</td>\n",
       "      <td>1092</td>\n",
       "    </tr>\n",
       "    <tr>\n",
       "      <th>2915</th>\n",
       "      <td>546</td>\n",
       "      <td>546</td>\n",
       "      <td>1092</td>\n",
       "    </tr>\n",
       "    <tr>\n",
       "      <th>2916</th>\n",
       "      <td>1224</td>\n",
       "      <td>0</td>\n",
       "      <td>1224</td>\n",
       "    </tr>\n",
       "    <tr>\n",
       "      <th>2917</th>\n",
       "      <td>970</td>\n",
       "      <td>0</td>\n",
       "      <td>970</td>\n",
       "    </tr>\n",
       "    <tr>\n",
       "      <th>2918</th>\n",
       "      <td>996</td>\n",
       "      <td>1004</td>\n",
       "      <td>2000</td>\n",
       "    </tr>\n",
       "  </tbody>\n",
       "</table>\n",
       "<p>2919 rows × 3 columns</p>\n",
       "</div>"
      ],
      "text/plain": [
       "      1stFlrSF  2ndFlrSF  GrLivArea\n",
       "0          856       854       1710\n",
       "1         1262         0       1262\n",
       "2          920       866       1786\n",
       "3          961       756       1717\n",
       "4         1145      1053       2198\n",
       "...        ...       ...        ...\n",
       "2914       546       546       1092\n",
       "2915       546       546       1092\n",
       "2916      1224         0       1224\n",
       "2917       970         0        970\n",
       "2918       996      1004       2000\n",
       "\n",
       "[2919 rows x 3 columns]"
      ]
     },
     "execution_count": 44,
     "metadata": {},
     "output_type": "execute_result"
    }
   ],
   "source": [
    "combined_df[['1stFlrSF','2ndFlrSF','GrLivArea']]"
   ]
  },
  {
   "cell_type": "code",
   "execution_count": 45,
   "id": "164d5a4b",
   "metadata": {},
   "outputs": [],
   "source": [
    "#we can just use total square footage\n",
    "combined_df.drop(['1stFlrSF','2ndFlrSF'],axis=1,inplace=True)"
   ]
  },
  {
   "cell_type": "code",
   "execution_count": 46,
   "id": "833897f3",
   "metadata": {},
   "outputs": [
    {
     "data": {
      "text/plain": [
       "Unf     2493\n",
       "Rec      105\n",
       "LwQ       87\n",
       "None      80\n",
       "BLQ       68\n",
       "ALQ       52\n",
       "GLQ       34\n",
       "Name: BsmtFinType2, dtype: int64"
      ]
     },
     "execution_count": 46,
     "metadata": {},
     "output_type": "execute_result"
    }
   ],
   "source": [
    "combined_df['BsmtFinType2'].value_counts()"
   ]
  },
  {
   "cell_type": "code",
   "execution_count": 47,
   "id": "ddac1abe",
   "metadata": {},
   "outputs": [],
   "source": [
    "#these 2 columns are redundant - BsmtUnfSF already describes square footage of unfinished area \n",
    "combined_df.drop(['BsmtFinSF1','BsmtFinSF2'],axis=1,inplace=True)"
   ]
  },
  {
   "cell_type": "code",
   "execution_count": 48,
   "id": "19c120bd",
   "metadata": {},
   "outputs": [
    {
     "data": {
      "image/png": "[encoded data removed]",
      "text/plain": [
       "<Figure size 432x288 with 1 Axes>"
      ]
     },
     "metadata": {},
     "output_type": "display_data"
    }
   ],
   "source": [
    "sns.scatterplot(x='WoodDeckSF',y='SalePrice',data=train)\n",
    "\n",
    "#no clear correlation, delete deck feature\n",
    "combined_df.drop('WoodDeckSF',axis=1,inplace=True)"
   ]
  },
  {
   "cell_type": "code",
   "execution_count": 49,
   "id": "d831d9cb",
   "metadata": {},
   "outputs": [
    {
     "data": {
      "text/plain": [
       "Normal     2402\n",
       "Partial     245\n",
       "Abnorml     190\n",
       "Family       46\n",
       "Alloca       24\n",
       "AdjLand      12\n",
       "Name: SaleCondition, dtype: int64"
      ]
     },
     "execution_count": 49,
     "metadata": {},
     "output_type": "execute_result"
    }
   ],
   "source": [
    "combined_df['SaleCondition'].value_counts()"
   ]
  },
  {
   "cell_type": "code",
   "execution_count": 50,
   "id": "7b3f5876",
   "metadata": {},
   "outputs": [
    {
     "data": {
      "text/plain": [
       "WD       2526\n",
       "New       239\n",
       "COD        87\n",
       "ConLD      26\n",
       "CWD        12\n",
       "ConLI       9\n",
       "ConLw       8\n",
       "Oth         7\n",
       "Con         5\n",
       "Name: SaleType, dtype: int64"
      ]
     },
     "execution_count": 50,
     "metadata": {},
     "output_type": "execute_result"
    }
   ],
   "source": [
    "combined_df['SaleType'].value_counts()"
   ]
  },
  {
   "cell_type": "code",
   "execution_count": 51,
   "id": "f77dc71b",
   "metadata": {},
   "outputs": [
    {
     "data": {
      "text/plain": [
       "Series([], dtype: int64)"
      ]
     },
     "execution_count": 51,
     "metadata": {},
     "output_type": "execute_result"
    }
   ],
   "source": [
    "#final check for null values\n",
    "combined_df.isnull().sum()[combined_df.isnull().sum() > 0]"
   ]
  },
  {
   "cell_type": "code",
   "execution_count": 52,
   "id": "b8ff924c",
   "metadata": {},
   "outputs": [],
   "source": [
    "#Part 3\n",
    "#Feature engineering"
   ]
  },
  {
   "cell_type": "code",
   "execution_count": 53,
   "id": "bf711735",
   "metadata": {},
   "outputs": [
    {
     "data": {
      "text/plain": [
       "VinylSd    1025\n",
       "MetalSd     450\n",
       "HdBoard     442\n",
       "Wd Sdng     411\n",
       "Plywood     221\n",
       "CemntBd     126\n",
       "BrkFace      87\n",
       "WdShing      56\n",
       "AsbShng      44\n",
       "Stucco       43\n",
       "BrkComm       6\n",
       "AsphShn       2\n",
       "Stone         2\n",
       "CBlock        2\n",
       "ImStucc       1\n",
       "Other         1\n",
       "Name: Exterior1st, dtype: int64"
      ]
     },
     "execution_count": 53,
     "metadata": {},
     "output_type": "execute_result"
    }
   ],
   "source": [
    "combined_df['Exterior1st'].value_counts()"
   ]
  },
  {
   "cell_type": "code",
   "execution_count": 54,
   "id": "a7a7d1bd",
   "metadata": {},
   "outputs": [],
   "source": [
    "#apply functions to dataframe\n",
    "\n",
    "def check_pool(area):\n",
    "    if area > 0:\n",
    "        return 1\n",
    "    else:\n",
    "        return 0\n",
    "\n",
    "def sort_conds(condition):\n",
    "    if condition[:3] == \"RRA\" or condition[:3] == \"RRN\":\n",
    "        return \"RR\"\n",
    "    elif condition[:3] == \"Pos\":\n",
    "        return \"Pos\"\n",
    "    else:\n",
    "        return condition\n",
    "\n",
    "def get_house_type(desc_code):\n",
    "    if desc_code in [20,30,40,45,50,120,150]: #1 storey homes\n",
    "        return 1\n",
    "    elif desc_code in [60,70,75,160]: #2 storey homes\n",
    "        return 2 \n",
    "    elif desc_code in [80,85]: #split levels\n",
    "        return 3\n",
    "    elif desc_code in [90,180,190]: #multifamily home\n",
    "        return 4\n",
    "\n",
    "def check_recent_remodel(date_built, remodel_date): #checks if home is modern and up-to-date\n",
    "    if remodel_date != date_built and remodel_date >= 1990:\n",
    "        return 1\n",
    "    return 0"
   ]
  },
  {
   "cell_type": "code",
   "execution_count": 55,
   "id": "4b66b081",
   "metadata": {},
   "outputs": [],
   "source": [
    "def engineer_features(data):\n",
    "    data['TotalBath'] = data['BsmtHalfBath'] + data['BsmtFullBath'] + data['FullBath'] + data['HalfBath']\n",
    "    data.drop(['BsmtHalfBath','BsmtFullBath','FullBath','HalfBath'],axis=1,inplace=True)\n",
    "    \n",
    "    data['EnclosedPorchSF'] = data['EnclosedPorch'] + data['3SsnPorch'] + data['ScreenPorch']\n",
    "    data.drop(['EnclosedPorch','3SsnPorch','ScreenPorch'],axis=1,inplace=True)\n",
    "\n",
    "    data['has_pool'] = data['PoolArea'].apply(check_pool)\n",
    "    data.drop('PoolArea',axis=1,inplace=True)\n",
    "    \n",
    "    data['Condition1'] = data['Condition1'].apply(sort_conds)\n",
    "    data['Condition2'] = data['Condition2'].apply(sort_conds)\n",
    "    data['MSSubClass'] = data['MSSubClass'].apply(get_house_type)\n",
    "    data['remodeled'] = data.apply(lambda x: check_recent_remodel(x['YearBuilt'],x['YearRemodAdd']), axis=1)\n",
    "    \n",
    "    #replace and group outlier data\n",
    "    data['SaleType'] = data['SaleType'].replace(['ConLD','ConLI','ConLw','CWD','Oth','Con'],'Contract')\n",
    "    data['SaleCondition'] = data['SaleCondition'].replace(['Family','Alloca','AdjLand'],'Other')\n",
    "    data['GarageType'] = data['GarageType'].replace(['CarPort','Basment'],'Other')\n",
    "    data['GarageType'] = data['GarageType'].replace('2Types','Attchd')\n",
    "    data['Heating'] = data['Heating'].replace(['Floor','GasW','Grav','OthW','Wall'],'Other')\n",
    "    data['Functional'] = data['Functional'].replace(['Maj1','Maj2','Sev','Sal'],'Damaged')\n",
    "    data['Exterior1st'] = data['Exterior1st'].replace(['BrkComm','AsphShn','Stone','CBlock','ImStucc'],'Other')\n",
    "    data['Exterior2nd'] = data['Exterior2nd'].replace(['BrkComm','AsphShn','Stone','CBlock','ImStucc','PreCast'],'Other')\n",
    "    \n",
    "    for feat in ['ExterQual','ExterCond','KitchenQual']:\n",
    "        data[feat] = data[feat].replace(['Fa','Po'],'TA')"
   ]
  },
  {
   "cell_type": "code",
   "execution_count": 56,
   "id": "14cdd78b",
   "metadata": {},
   "outputs": [],
   "source": [
    "engineer_features(combined_df)"
   ]
  },
  {
   "cell_type": "code",
   "execution_count": 57,
   "id": "7cbf945d",
   "metadata": {},
   "outputs": [],
   "source": [
    "#Step 4\n",
    "#Get one-hot encoded columns"
   ]
  },
  {
   "cell_type": "code",
   "execution_count": 58,
   "id": "d02c2468",
   "metadata": {},
   "outputs": [
    {
     "data": {
      "text/plain": [
       "((1460, 81), (1459, 80))"
      ]
     },
     "execution_count": 58,
     "metadata": {},
     "output_type": "execute_result"
    }
   ],
   "source": [
    "train.shape,test.shape"
   ]
  },
  {
   "cell_type": "code",
   "execution_count": 59,
   "id": "f5187534",
   "metadata": {},
   "outputs": [],
   "source": [
    "#convert non numeric to numeric array\n",
    "from sklearn.preprocessing import OneHotEncoder"
   ]
  },
  {
   "cell_type": "code",
   "execution_count": 60,
   "id": "96a619a9",
   "metadata": {},
   "outputs": [
    {
     "data": {
      "text/plain": [
       "Index(['MSZoning', 'LandContour', 'LotConfig', 'Neighborhood', 'Condition1',\n",
       "       'Condition2', 'RoofStyle', 'RoofMatl', 'Exterior1st', 'Exterior2nd',\n",
       "       'MasVnrType', 'ExterQual', 'ExterCond', 'Foundation', 'BsmtCond',\n",
       "       'BsmtExposure', 'BsmtFinType1', 'BsmtFinType2', 'Heating', 'HeatingQC',\n",
       "       'CentralAir', 'KitchenQual', 'Functional', 'GarageType', 'PavedDrive',\n",
       "       'Fence', 'SaleType', 'SaleCondition'],\n",
       "      dtype='object')"
      ]
     },
     "execution_count": 60,
     "metadata": {},
     "output_type": "execute_result"
    }
   ],
   "source": [
    "#check which columns have non-numeric values\n",
    "combined_df.select_dtypes(include=['object']).columns"
   ]
  },
  {
   "cell_type": "code",
   "execution_count": 61,
   "id": "99776a5a",
   "metadata": {},
   "outputs": [],
   "source": [
    "#perform one-hot encoding on both test and train set\n",
    "encoder = OneHotEncoder(handle_unknown='ignore')"
   ]
  },
  {
   "cell_type": "code",
   "execution_count": 62,
   "id": "bdca5dd8",
   "metadata": {},
   "outputs": [],
   "source": [
    "def one_hot(df):\n",
    "    df_object = df.select_dtypes(include=['object'])\n",
    "    encoder.fit(df_object)\n",
    "\n",
    "    codes = encoder.transform(df_object).toarray()\n",
    "    feature_names = encoder.get_feature_names_out()\n",
    "\n",
    "    df = pd.concat([df.select_dtypes(exclude='object'), \n",
    "                   pd.DataFrame(codes,columns=feature_names).astype(int)], axis=1)\n",
    "    return df"
   ]
  },
  {
   "cell_type": "code",
   "execution_count": 63,
   "id": "3f530435",
   "metadata": {},
   "outputs": [
    {
     "data": {
      "text/html": [
       "<div>\n",
       "<style scoped>\n",
       "    .dataframe tbody tr th:only-of-type {\n",
       "        vertical-align: middle;\n",
       "    }\n",
       "\n",
       "    .dataframe tbody tr th {\n",
       "        vertical-align: top;\n",
       "    }\n",
       "\n",
       "    .dataframe thead th {\n",
       "        text-align: right;\n",
       "    }\n",
       "</style>\n",
       "<table border=\"1\" class=\"dataframe\">\n",
       "  <thead>\n",
       "    <tr style=\"text-align: right;\">\n",
       "      <th></th>\n",
       "      <th>MSSubClass</th>\n",
       "      <th>LotFrontage</th>\n",
       "      <th>LotArea</th>\n",
       "      <th>OverallQual</th>\n",
       "      <th>OverallCond</th>\n",
       "      <th>YearBuilt</th>\n",
       "      <th>YearRemodAdd</th>\n",
       "      <th>MasVnrArea</th>\n",
       "      <th>BsmtUnfSF</th>\n",
       "      <th>TotalBsmtSF</th>\n",
       "      <th>...</th>\n",
       "      <th>Fence_MnWw</th>\n",
       "      <th>Fence_None</th>\n",
       "      <th>SaleType_COD</th>\n",
       "      <th>SaleType_Contract</th>\n",
       "      <th>SaleType_New</th>\n",
       "      <th>SaleType_WD</th>\n",
       "      <th>SaleCondition_Abnorml</th>\n",
       "      <th>SaleCondition_Normal</th>\n",
       "      <th>SaleCondition_Other</th>\n",
       "      <th>SaleCondition_Partial</th>\n",
       "    </tr>\n",
       "  </thead>\n",
       "  <tbody>\n",
       "    <tr>\n",
       "      <th>0</th>\n",
       "      <td>2</td>\n",
       "      <td>65.0</td>\n",
       "      <td>8450</td>\n",
       "      <td>7</td>\n",
       "      <td>5</td>\n",
       "      <td>2003</td>\n",
       "      <td>2003</td>\n",
       "      <td>196.0</td>\n",
       "      <td>150.0</td>\n",
       "      <td>856.0</td>\n",
       "      <td>...</td>\n",
       "      <td>0</td>\n",
       "      <td>1</td>\n",
       "      <td>0</td>\n",
       "      <td>0</td>\n",
       "      <td>0</td>\n",
       "      <td>1</td>\n",
       "      <td>0</td>\n",
       "      <td>1</td>\n",
       "      <td>0</td>\n",
       "      <td>0</td>\n",
       "    </tr>\n",
       "    <tr>\n",
       "      <th>1</th>\n",
       "      <td>1</td>\n",
       "      <td>80.0</td>\n",
       "      <td>9600</td>\n",
       "      <td>6</td>\n",
       "      <td>8</td>\n",
       "      <td>1976</td>\n",
       "      <td>1976</td>\n",
       "      <td>0.0</td>\n",
       "      <td>284.0</td>\n",
       "      <td>1262.0</td>\n",
       "      <td>...</td>\n",
       "      <td>0</td>\n",
       "      <td>1</td>\n",
       "      <td>0</td>\n",
       "      <td>0</td>\n",
       "      <td>0</td>\n",
       "      <td>1</td>\n",
       "      <td>0</td>\n",
       "      <td>1</td>\n",
       "      <td>0</td>\n",
       "      <td>0</td>\n",
       "    </tr>\n",
       "    <tr>\n",
       "      <th>2</th>\n",
       "      <td>2</td>\n",
       "      <td>68.0</td>\n",
       "      <td>11250</td>\n",
       "      <td>7</td>\n",
       "      <td>5</td>\n",
       "      <td>2001</td>\n",
       "      <td>2002</td>\n",
       "      <td>162.0</td>\n",
       "      <td>434.0</td>\n",
       "      <td>920.0</td>\n",
       "      <td>...</td>\n",
       "      <td>0</td>\n",
       "      <td>1</td>\n",
       "      <td>0</td>\n",
       "      <td>0</td>\n",
       "      <td>0</td>\n",
       "      <td>1</td>\n",
       "      <td>0</td>\n",
       "      <td>1</td>\n",
       "      <td>0</td>\n",
       "      <td>0</td>\n",
       "    </tr>\n",
       "    <tr>\n",
       "      <th>3</th>\n",
       "      <td>2</td>\n",
       "      <td>60.0</td>\n",
       "      <td>9550</td>\n",
       "      <td>7</td>\n",
       "      <td>5</td>\n",
       "      <td>1915</td>\n",
       "      <td>1970</td>\n",
       "      <td>0.0</td>\n",
       "      <td>540.0</td>\n",
       "      <td>756.0</td>\n",
       "      <td>...</td>\n",
       "      <td>0</td>\n",
       "      <td>1</td>\n",
       "      <td>0</td>\n",
       "      <td>0</td>\n",
       "      <td>0</td>\n",
       "      <td>1</td>\n",
       "      <td>1</td>\n",
       "      <td>0</td>\n",
       "      <td>0</td>\n",
       "      <td>0</td>\n",
       "    </tr>\n",
       "    <tr>\n",
       "      <th>4</th>\n",
       "      <td>2</td>\n",
       "      <td>84.0</td>\n",
       "      <td>14260</td>\n",
       "      <td>8</td>\n",
       "      <td>5</td>\n",
       "      <td>2000</td>\n",
       "      <td>2000</td>\n",
       "      <td>350.0</td>\n",
       "      <td>490.0</td>\n",
       "      <td>1145.0</td>\n",
       "      <td>...</td>\n",
       "      <td>0</td>\n",
       "      <td>1</td>\n",
       "      <td>0</td>\n",
       "      <td>0</td>\n",
       "      <td>0</td>\n",
       "      <td>1</td>\n",
       "      <td>0</td>\n",
       "      <td>1</td>\n",
       "      <td>0</td>\n",
       "      <td>0</td>\n",
       "    </tr>\n",
       "    <tr>\n",
       "      <th>...</th>\n",
       "      <td>...</td>\n",
       "      <td>...</td>\n",
       "      <td>...</td>\n",
       "      <td>...</td>\n",
       "      <td>...</td>\n",
       "      <td>...</td>\n",
       "      <td>...</td>\n",
       "      <td>...</td>\n",
       "      <td>...</td>\n",
       "      <td>...</td>\n",
       "      <td>...</td>\n",
       "      <td>...</td>\n",
       "      <td>...</td>\n",
       "      <td>...</td>\n",
       "      <td>...</td>\n",
       "      <td>...</td>\n",
       "      <td>...</td>\n",
       "      <td>...</td>\n",
       "      <td>...</td>\n",
       "      <td>...</td>\n",
       "      <td>...</td>\n",
       "    </tr>\n",
       "    <tr>\n",
       "      <th>2914</th>\n",
       "      <td>2</td>\n",
       "      <td>21.0</td>\n",
       "      <td>1936</td>\n",
       "      <td>4</td>\n",
       "      <td>7</td>\n",
       "      <td>1970</td>\n",
       "      <td>1970</td>\n",
       "      <td>0.0</td>\n",
       "      <td>546.0</td>\n",
       "      <td>546.0</td>\n",
       "      <td>...</td>\n",
       "      <td>0</td>\n",
       "      <td>1</td>\n",
       "      <td>0</td>\n",
       "      <td>0</td>\n",
       "      <td>0</td>\n",
       "      <td>1</td>\n",
       "      <td>0</td>\n",
       "      <td>1</td>\n",
       "      <td>0</td>\n",
       "      <td>0</td>\n",
       "    </tr>\n",
       "    <tr>\n",
       "      <th>2915</th>\n",
       "      <td>2</td>\n",
       "      <td>21.0</td>\n",
       "      <td>1894</td>\n",
       "      <td>4</td>\n",
       "      <td>5</td>\n",
       "      <td>1970</td>\n",
       "      <td>1970</td>\n",
       "      <td>0.0</td>\n",
       "      <td>294.0</td>\n",
       "      <td>546.0</td>\n",
       "      <td>...</td>\n",
       "      <td>0</td>\n",
       "      <td>1</td>\n",
       "      <td>0</td>\n",
       "      <td>0</td>\n",
       "      <td>0</td>\n",
       "      <td>1</td>\n",
       "      <td>1</td>\n",
       "      <td>0</td>\n",
       "      <td>0</td>\n",
       "      <td>0</td>\n",
       "    </tr>\n",
       "    <tr>\n",
       "      <th>2916</th>\n",
       "      <td>1</td>\n",
       "      <td>160.0</td>\n",
       "      <td>20000</td>\n",
       "      <td>5</td>\n",
       "      <td>7</td>\n",
       "      <td>1960</td>\n",
       "      <td>1996</td>\n",
       "      <td>0.0</td>\n",
       "      <td>0.0</td>\n",
       "      <td>1224.0</td>\n",
       "      <td>...</td>\n",
       "      <td>0</td>\n",
       "      <td>1</td>\n",
       "      <td>0</td>\n",
       "      <td>0</td>\n",
       "      <td>0</td>\n",
       "      <td>1</td>\n",
       "      <td>1</td>\n",
       "      <td>0</td>\n",
       "      <td>0</td>\n",
       "      <td>0</td>\n",
       "    </tr>\n",
       "    <tr>\n",
       "      <th>2917</th>\n",
       "      <td>3</td>\n",
       "      <td>62.0</td>\n",
       "      <td>10441</td>\n",
       "      <td>5</td>\n",
       "      <td>5</td>\n",
       "      <td>1992</td>\n",
       "      <td>1992</td>\n",
       "      <td>0.0</td>\n",
       "      <td>575.0</td>\n",
       "      <td>912.0</td>\n",
       "      <td>...</td>\n",
       "      <td>0</td>\n",
       "      <td>0</td>\n",
       "      <td>0</td>\n",
       "      <td>0</td>\n",
       "      <td>0</td>\n",
       "      <td>1</td>\n",
       "      <td>0</td>\n",
       "      <td>1</td>\n",
       "      <td>0</td>\n",
       "      <td>0</td>\n",
       "    </tr>\n",
       "    <tr>\n",
       "      <th>2918</th>\n",
       "      <td>2</td>\n",
       "      <td>74.0</td>\n",
       "      <td>9627</td>\n",
       "      <td>7</td>\n",
       "      <td>5</td>\n",
       "      <td>1993</td>\n",
       "      <td>1994</td>\n",
       "      <td>94.0</td>\n",
       "      <td>238.0</td>\n",
       "      <td>996.0</td>\n",
       "      <td>...</td>\n",
       "      <td>0</td>\n",
       "      <td>1</td>\n",
       "      <td>0</td>\n",
       "      <td>0</td>\n",
       "      <td>0</td>\n",
       "      <td>1</td>\n",
       "      <td>0</td>\n",
       "      <td>1</td>\n",
       "      <td>0</td>\n",
       "      <td>0</td>\n",
       "    </tr>\n",
       "  </tbody>\n",
       "</table>\n",
       "<p>2919 rows × 188 columns</p>\n",
       "</div>"
      ],
      "text/plain": [
       "      MSSubClass  LotFrontage  LotArea  OverallQual  OverallCond  YearBuilt  \\\n",
       "0              2         65.0     8450            7            5       2003   \n",
       "1              1         80.0     9600            6            8       1976   \n",
       "2              2         68.0    11250            7            5       2001   \n",
       "3              2         60.0     9550            7            5       1915   \n",
       "4              2         84.0    14260            8            5       2000   \n",
       "...          ...          ...      ...          ...          ...        ...   \n",
       "2914           2         21.0     1936            4            7       1970   \n",
       "2915           2         21.0     1894            4            5       1970   \n",
       "2916           1        160.0    20000            5            7       1960   \n",
       "2917           3         62.0    10441            5            5       1992   \n",
       "2918           2         74.0     9627            7            5       1993   \n",
       "\n",
       "      YearRemodAdd  MasVnrArea  BsmtUnfSF  TotalBsmtSF  ...  Fence_MnWw  \\\n",
       "0             2003       196.0      150.0        856.0  ...           0   \n",
       "1             1976         0.0      284.0       1262.0  ...           0   \n",
       "2             2002       162.0      434.0        920.0  ...           0   \n",
       "3             1970         0.0      540.0        756.0  ...           0   \n",
       "4             2000       350.0      490.0       1145.0  ...           0   \n",
       "...            ...         ...        ...          ...  ...         ...   \n",
       "2914          1970         0.0      546.0        546.0  ...           0   \n",
       "2915          1970         0.0      294.0        546.0  ...           0   \n",
       "2916          1996         0.0        0.0       1224.0  ...           0   \n",
       "2917          1992         0.0      575.0        912.0  ...           0   \n",
       "2918          1994        94.0      238.0        996.0  ...           0   \n",
       "\n",
       "      Fence_None  SaleType_COD  SaleType_Contract  SaleType_New  SaleType_WD  \\\n",
       "0              1             0                  0             0            1   \n",
       "1              1             0                  0             0            1   \n",
       "2              1             0                  0             0            1   \n",
       "3              1             0                  0             0            1   \n",
       "4              1             0                  0             0            1   \n",
       "...          ...           ...                ...           ...          ...   \n",
       "2914           1             0                  0             0            1   \n",
       "2915           1             0                  0             0            1   \n",
       "2916           1             0                  0             0            1   \n",
       "2917           0             0                  0             0            1   \n",
       "2918           1             0                  0             0            1   \n",
       "\n",
       "      SaleCondition_Abnorml  SaleCondition_Normal  SaleCondition_Other  \\\n",
       "0                         0                     1                    0   \n",
       "1                         0                     1                    0   \n",
       "2                         0                     1                    0   \n",
       "3                         1                     0                    0   \n",
       "4                         0                     1                    0   \n",
       "...                     ...                   ...                  ...   \n",
       "2914                      0                     1                    0   \n",
       "2915                      1                     0                    0   \n",
       "2916                      1                     0                    0   \n",
       "2917                      0                     1                    0   \n",
       "2918                      0                     1                    0   \n",
       "\n",
       "      SaleCondition_Partial  \n",
       "0                         0  \n",
       "1                         0  \n",
       "2                         0  \n",
       "3                         0  \n",
       "4                         0  \n",
       "...                     ...  \n",
       "2914                      0  \n",
       "2915                      0  \n",
       "2916                      0  \n",
       "2917                      0  \n",
       "2918                      0  \n",
       "\n",
       "[2919 rows x 188 columns]"
      ]
     },
     "execution_count": 63,
     "metadata": {},
     "output_type": "execute_result"
    }
   ],
   "source": [
    "combined_df = one_hot(combined_df)\n",
    "combined_df"
   ]
  },
  {
   "cell_type": "code",
   "execution_count": 64,
   "id": "9338da5c",
   "metadata": {},
   "outputs": [],
   "source": [
    "#split the combined dataframe back into test and train\n",
    "train = combined_df[:1460].copy()\n",
    "test = combined_df[1460:].copy()\n",
    "train['SalePrice'] = sale_prices.values"
   ]
  },
  {
   "cell_type": "code",
   "execution_count": 65,
   "id": "5296fa5a",
   "metadata": {},
   "outputs": [
    {
     "data": {
      "text/html": [
       "<div>\n",
       "<style scoped>\n",
       "    .dataframe tbody tr th:only-of-type {\n",
       "        vertical-align: middle;\n",
       "    }\n",
       "\n",
       "    .dataframe tbody tr th {\n",
       "        vertical-align: top;\n",
       "    }\n",
       "\n",
       "    .dataframe thead th {\n",
       "        text-align: right;\n",
       "    }\n",
       "</style>\n",
       "<table border=\"1\" class=\"dataframe\">\n",
       "  <thead>\n",
       "    <tr style=\"text-align: right;\">\n",
       "      <th></th>\n",
       "      <th>MSSubClass</th>\n",
       "      <th>LotFrontage</th>\n",
       "      <th>LotArea</th>\n",
       "      <th>OverallQual</th>\n",
       "      <th>OverallCond</th>\n",
       "      <th>YearBuilt</th>\n",
       "      <th>YearRemodAdd</th>\n",
       "      <th>MasVnrArea</th>\n",
       "      <th>BsmtUnfSF</th>\n",
       "      <th>TotalBsmtSF</th>\n",
       "      <th>...</th>\n",
       "      <th>Fence_None</th>\n",
       "      <th>SaleType_COD</th>\n",
       "      <th>SaleType_Contract</th>\n",
       "      <th>SaleType_New</th>\n",
       "      <th>SaleType_WD</th>\n",
       "      <th>SaleCondition_Abnorml</th>\n",
       "      <th>SaleCondition_Normal</th>\n",
       "      <th>SaleCondition_Other</th>\n",
       "      <th>SaleCondition_Partial</th>\n",
       "      <th>SalePrice</th>\n",
       "    </tr>\n",
       "  </thead>\n",
       "  <tbody>\n",
       "    <tr>\n",
       "      <th>0</th>\n",
       "      <td>2</td>\n",
       "      <td>65.0</td>\n",
       "      <td>8450</td>\n",
       "      <td>7</td>\n",
       "      <td>5</td>\n",
       "      <td>2003</td>\n",
       "      <td>2003</td>\n",
       "      <td>196.0</td>\n",
       "      <td>150.0</td>\n",
       "      <td>856.0</td>\n",
       "      <td>...</td>\n",
       "      <td>1</td>\n",
       "      <td>0</td>\n",
       "      <td>0</td>\n",
       "      <td>0</td>\n",
       "      <td>1</td>\n",
       "      <td>0</td>\n",
       "      <td>1</td>\n",
       "      <td>0</td>\n",
       "      <td>0</td>\n",
       "      <td>208500</td>\n",
       "    </tr>\n",
       "    <tr>\n",
       "      <th>1</th>\n",
       "      <td>1</td>\n",
       "      <td>80.0</td>\n",
       "      <td>9600</td>\n",
       "      <td>6</td>\n",
       "      <td>8</td>\n",
       "      <td>1976</td>\n",
       "      <td>1976</td>\n",
       "      <td>0.0</td>\n",
       "      <td>284.0</td>\n",
       "      <td>1262.0</td>\n",
       "      <td>...</td>\n",
       "      <td>1</td>\n",
       "      <td>0</td>\n",
       "      <td>0</td>\n",
       "      <td>0</td>\n",
       "      <td>1</td>\n",
       "      <td>0</td>\n",
       "      <td>1</td>\n",
       "      <td>0</td>\n",
       "      <td>0</td>\n",
       "      <td>181500</td>\n",
       "    </tr>\n",
       "    <tr>\n",
       "      <th>2</th>\n",
       "      <td>2</td>\n",
       "      <td>68.0</td>\n",
       "      <td>11250</td>\n",
       "      <td>7</td>\n",
       "      <td>5</td>\n",
       "      <td>2001</td>\n",
       "      <td>2002</td>\n",
       "      <td>162.0</td>\n",
       "      <td>434.0</td>\n",
       "      <td>920.0</td>\n",
       "      <td>...</td>\n",
       "      <td>1</td>\n",
       "      <td>0</td>\n",
       "      <td>0</td>\n",
       "      <td>0</td>\n",
       "      <td>1</td>\n",
       "      <td>0</td>\n",
       "      <td>1</td>\n",
       "      <td>0</td>\n",
       "      <td>0</td>\n",
       "      <td>223500</td>\n",
       "    </tr>\n",
       "    <tr>\n",
       "      <th>3</th>\n",
       "      <td>2</td>\n",
       "      <td>60.0</td>\n",
       "      <td>9550</td>\n",
       "      <td>7</td>\n",
       "      <td>5</td>\n",
       "      <td>1915</td>\n",
       "      <td>1970</td>\n",
       "      <td>0.0</td>\n",
       "      <td>540.0</td>\n",
       "      <td>756.0</td>\n",
       "      <td>...</td>\n",
       "      <td>1</td>\n",
       "      <td>0</td>\n",
       "      <td>0</td>\n",
       "      <td>0</td>\n",
       "      <td>1</td>\n",
       "      <td>1</td>\n",
       "      <td>0</td>\n",
       "      <td>0</td>\n",
       "      <td>0</td>\n",
       "      <td>140000</td>\n",
       "    </tr>\n",
       "    <tr>\n",
       "      <th>4</th>\n",
       "      <td>2</td>\n",
       "      <td>84.0</td>\n",
       "      <td>14260</td>\n",
       "      <td>8</td>\n",
       "      <td>5</td>\n",
       "      <td>2000</td>\n",
       "      <td>2000</td>\n",
       "      <td>350.0</td>\n",
       "      <td>490.0</td>\n",
       "      <td>1145.0</td>\n",
       "      <td>...</td>\n",
       "      <td>1</td>\n",
       "      <td>0</td>\n",
       "      <td>0</td>\n",
       "      <td>0</td>\n",
       "      <td>1</td>\n",
       "      <td>0</td>\n",
       "      <td>1</td>\n",
       "      <td>0</td>\n",
       "      <td>0</td>\n",
       "      <td>250000</td>\n",
       "    </tr>\n",
       "  </tbody>\n",
       "</table>\n",
       "<p>5 rows × 189 columns</p>\n",
       "</div>"
      ],
      "text/plain": [
       "   MSSubClass  LotFrontage  LotArea  OverallQual  OverallCond  YearBuilt  \\\n",
       "0           2         65.0     8450            7            5       2003   \n",
       "1           1         80.0     9600            6            8       1976   \n",
       "2           2         68.0    11250            7            5       2001   \n",
       "3           2         60.0     9550            7            5       1915   \n",
       "4           2         84.0    14260            8            5       2000   \n",
       "\n",
       "   YearRemodAdd  MasVnrArea  BsmtUnfSF  TotalBsmtSF  ...  Fence_None  \\\n",
       "0          2003       196.0      150.0        856.0  ...           1   \n",
       "1          1976         0.0      284.0       1262.0  ...           1   \n",
       "2          2002       162.0      434.0        920.0  ...           1   \n",
       "3          1970         0.0      540.0        756.0  ...           1   \n",
       "4          2000       350.0      490.0       1145.0  ...           1   \n",
       "\n",
       "   SaleType_COD  SaleType_Contract  SaleType_New  SaleType_WD  \\\n",
       "0             0                  0             0            1   \n",
       "1             0                  0             0            1   \n",
       "2             0                  0             0            1   \n",
       "3             0                  0             0            1   \n",
       "4             0                  0             0            1   \n",
       "\n",
       "   SaleCondition_Abnorml  SaleCondition_Normal  SaleCondition_Other  \\\n",
       "0                      0                     1                    0   \n",
       "1                      0                     1                    0   \n",
       "2                      0                     1                    0   \n",
       "3                      1                     0                    0   \n",
       "4                      0                     1                    0   \n",
       "\n",
       "   SaleCondition_Partial  SalePrice  \n",
       "0                      0     208500  \n",
       "1                      0     181500  \n",
       "2                      0     223500  \n",
       "3                      0     140000  \n",
       "4                      0     250000  \n",
       "\n",
       "[5 rows x 189 columns]"
      ]
     },
     "execution_count": 65,
     "metadata": {},
     "output_type": "execute_result"
    }
   ],
   "source": [
    "train.head()"
   ]
  },
  {
   "cell_type": "code",
   "execution_count": 66,
   "id": "9bbbde39",
   "metadata": {},
   "outputs": [],
   "source": [
    "#Step 5\n",
    "#Prepping training data"
   ]
  },
  {
   "cell_type": "code",
   "execution_count": 67,
   "id": "2701e6fe",
   "metadata": {},
   "outputs": [
    {
     "data": {
      "text/plain": [
       "0       208500\n",
       "1       181500\n",
       "2       223500\n",
       "3       140000\n",
       "4       250000\n",
       "         ...  \n",
       "1455    175000\n",
       "1456    210000\n",
       "1457    266500\n",
       "1458    142125\n",
       "1459    147500\n",
       "Name: SalePrice, Length: 1460, dtype: int64"
      ]
     },
     "execution_count": 67,
     "metadata": {},
     "output_type": "execute_result"
    }
   ],
   "source": [
    "train['SalePrice']"
   ]
  },
  {
   "cell_type": "code",
   "execution_count": 68,
   "id": "c5f9cfce",
   "metadata": {},
   "outputs": [],
   "source": [
    "X_train = train.drop('SalePrice',axis=1).values\n",
    "y_train = train['SalePrice'].values"
   ]
  },
  {
   "cell_type": "code",
   "execution_count": 69,
   "id": "5b0db775",
   "metadata": {},
   "outputs": [],
   "source": [
    "#Part 6\n",
    "#creating deep learning model"
   ]
  },
  {
   "cell_type": "code",
   "execution_count": 70,
   "id": "dab43279",
   "metadata": {},
   "outputs": [],
   "source": [
    "import tensorflow as tf\n",
    "from tensorflow.keras.models import Sequential\n",
    "from tensorflow.keras.layers import Dense,Dropout\n",
    "from tensorflow.keras.callbacks import EarlyStopping\n",
    "from keras.optimizers import Adam"
   ]
  },
  {
   "cell_type": "code",
   "execution_count": 71,
   "id": "e6f7c5c3",
   "metadata": {},
   "outputs": [],
   "source": [
    "#we will expect 209 columns\n",
    "#therefore we need 209 + 1 = 210 neurons for input layer\n",
    "#extra neuron is to account for bias\n",
    "\n",
    "input_layer_size = X_train.shape[1]\n",
    "\n",
    "def create_model():\n",
    "    model = Sequential()\n",
    "    model.add(Dense(320, input_dim=input_layer_size, activation='relu'))\n",
    "    model.add(Dense(384, activation='relu'))\n",
    "    model.add(Dense(352, activation='relu'))\n",
    "    model.add(Dense(448, activation='relu'))\n",
    "    model.add(Dense(160, activation='relu'))\n",
    "    model.add(Dense(160, activation='relu'))\n",
    "    model.add(Dense(32, activation='relu'))\n",
    "    model.add(Dense(1))\n",
    "    # Compile model\n",
    "    model.compile(optimizer='adam', loss = 'mse')\n",
    "    return model"
   ]
  },
  {
   "cell_type": "code",
   "execution_count": 72,
   "id": "7220c1aa",
   "metadata": {},
   "outputs": [],
   "source": [
    "model = create_model()\n",
    "early_stop = EarlyStopping(monitor='val_loss',mode='min',verbose=1,patience=50)"
   ]
  },
  {
   "cell_type": "code",
   "execution_count": 73,
   "id": "f86073e4",
   "metadata": {},
   "outputs": [],
   "source": [
    "from sklearn.preprocessing import StandardScaler"
   ]
  },
  {
   "cell_type": "code",
   "execution_count": 74,
   "id": "7ee25162",
   "metadata": {},
   "outputs": [],
   "source": [
    "#do not fit test data to avoid data leakage\n",
    "scaler = StandardScaler()\n",
    "\n",
    "X_train = scaler.fit_transform(X_train)"
   ]
  },
  {
   "cell_type": "code",
   "execution_count": 75,
   "id": "14ebc5d6",
   "metadata": {},
   "outputs": [],
   "source": [
    "#Part 7\n",
    "#Training the model"
   ]
  },
  {
   "cell_type": "code",
   "execution_count": 76,
   "id": "ab264566",
   "metadata": {},
   "outputs": [
    {
     "name": "stdout",
     "output_type": "stream",
     "text": [
      "Epoch 1/1000\n",
      "11/11 [==============================] - 1s 13ms/step - loss: 39354523648.0000 - val_loss: 36007190528.0000\n",
      "Epoch 2/1000\n",
      "11/11 [==============================] - 0s 3ms/step - loss: 38538702848.0000 - val_loss: 32069349376.0000\n",
      "Epoch 3/1000\n",
      "11/11 [==============================] - 0s 3ms/step - loss: 22801463296.0000 - val_loss: 4252632832.0000\n",
      "Epoch 4/1000\n",
      "11/11 [==============================] - 0s 3ms/step - loss: 4859120640.0000 - val_loss: 3634012160.0000\n",
      "Epoch 5/1000\n",
      "11/11 [==============================] - 0s 3ms/step - loss: 2656486400.0000 - val_loss: 1552324480.0000\n",
      "Epoch 6/1000\n",
      "11/11 [==============================] - 0s 3ms/step - loss: 1405388544.0000 - val_loss: 965984384.0000\n",
      "Epoch 7/1000\n",
      "11/11 [==============================] - 0s 3ms/step - loss: 1041700416.0000 - val_loss: 670797824.0000\n",
      "Epoch 8/1000\n",
      "11/11 [==============================] - 0s 3ms/step - loss: 746335936.0000 - val_loss: 631454080.0000\n",
      "Epoch 9/1000\n",
      "11/11 [==============================] - 0s 3ms/step - loss: 698744064.0000 - val_loss: 583477824.0000\n",
      "Epoch 10/1000\n",
      "11/11 [==============================] - 0s 3ms/step - loss: 613017792.0000 - val_loss: 587028032.0000\n",
      "Epoch 11/1000\n",
      "11/11 [==============================] - 0s 3ms/step - loss: 516458656.0000 - val_loss: 610305856.0000\n",
      "Epoch 12/1000\n",
      "11/11 [==============================] - 0s 3ms/step - loss: 467278976.0000 - val_loss: 569113664.0000\n",
      "Epoch 13/1000\n",
      "11/11 [==============================] - 0s 3ms/step - loss: 436460032.0000 - val_loss: 546747520.0000\n",
      "Epoch 14/1000\n",
      "11/11 [==============================] - 0s 3ms/step - loss: 389153728.0000 - val_loss: 531063520.0000\n",
      "Epoch 15/1000\n",
      "11/11 [==============================] - 0s 3ms/step - loss: 368717536.0000 - val_loss: 530876448.0000\n",
      "Epoch 16/1000\n",
      "11/11 [==============================] - 0s 3ms/step - loss: 339909728.0000 - val_loss: 541272768.0000\n",
      "Epoch 17/1000\n",
      "11/11 [==============================] - 0s 3ms/step - loss: 318869696.0000 - val_loss: 539403392.0000\n",
      "Epoch 18/1000\n",
      "11/11 [==============================] - 0s 3ms/step - loss: 303515904.0000 - val_loss: 527903072.0000\n",
      "Epoch 19/1000\n",
      "11/11 [==============================] - 0s 3ms/step - loss: 287539392.0000 - val_loss: 548425536.0000\n",
      "Epoch 20/1000\n",
      "11/11 [==============================] - 0s 3ms/step - loss: 284021824.0000 - val_loss: 515342624.0000\n",
      "Epoch 21/1000\n",
      "11/11 [==============================] - 0s 3ms/step - loss: 256918720.0000 - val_loss: 537598528.0000\n",
      "Epoch 22/1000\n",
      "11/11 [==============================] - 0s 3ms/step - loss: 240410416.0000 - val_loss: 526561728.0000\n",
      "Epoch 23/1000\n",
      "11/11 [==============================] - 0s 3ms/step - loss: 226289296.0000 - val_loss: 516050880.0000\n",
      "Epoch 24/1000\n",
      "11/11 [==============================] - 0s 3ms/step - loss: 214258352.0000 - val_loss: 519528608.0000\n",
      "Epoch 25/1000\n",
      "11/11 [==============================] - 0s 3ms/step - loss: 211869488.0000 - val_loss: 508534560.0000\n",
      "Epoch 26/1000\n",
      "11/11 [==============================] - 0s 3ms/step - loss: 202522560.0000 - val_loss: 513214880.0000\n",
      "Epoch 27/1000\n",
      "11/11 [==============================] - 0s 3ms/step - loss: 189009120.0000 - val_loss: 510034432.0000\n",
      "Epoch 28/1000\n",
      "11/11 [==============================] - 0s 3ms/step - loss: 181039312.0000 - val_loss: 500233984.0000\n",
      "Epoch 29/1000\n",
      "11/11 [==============================] - 0s 3ms/step - loss: 175453776.0000 - val_loss: 522071008.0000\n",
      "Epoch 30/1000\n",
      "11/11 [==============================] - 0s 3ms/step - loss: 167331808.0000 - val_loss: 559528448.0000\n",
      "Epoch 31/1000\n",
      "11/11 [==============================] - 0s 3ms/step - loss: 171683136.0000 - val_loss: 505865248.0000\n",
      "Epoch 32/1000\n",
      "11/11 [==============================] - 0s 3ms/step - loss: 155946144.0000 - val_loss: 495928352.0000\n",
      "Epoch 33/1000\n",
      "11/11 [==============================] - 0s 3ms/step - loss: 150254656.0000 - val_loss: 501426944.0000\n",
      "Epoch 34/1000\n",
      "11/11 [==============================] - 0s 4ms/step - loss: 155656432.0000 - val_loss: 511082272.0000\n",
      "Epoch 35/1000\n",
      "11/11 [==============================] - 0s 3ms/step - loss: 142581552.0000 - val_loss: 504130464.0000\n",
      "Epoch 36/1000\n",
      "11/11 [==============================] - 0s 3ms/step - loss: 137530256.0000 - val_loss: 501143904.0000\n",
      "Epoch 37/1000\n",
      "11/11 [==============================] - 0s 3ms/step - loss: 134310224.0000 - val_loss: 514629504.0000\n",
      "Epoch 38/1000\n",
      "11/11 [==============================] - 0s 3ms/step - loss: 130064336.0000 - val_loss: 551718080.0000\n",
      "Epoch 39/1000\n",
      "11/11 [==============================] - 0s 3ms/step - loss: 126074816.0000 - val_loss: 543696384.0000\n",
      "Epoch 40/1000\n",
      "11/11 [==============================] - 0s 4ms/step - loss: 119472392.0000 - val_loss: 536631616.0000\n",
      "Epoch 41/1000\n",
      "11/11 [==============================] - 0s 3ms/step - loss: 112850408.0000 - val_loss: 519531584.0000\n",
      "Epoch 42/1000\n",
      "11/11 [==============================] - 0s 3ms/step - loss: 107565624.0000 - val_loss: 521583968.0000\n",
      "Epoch 42: early stopping\n"
     ]
    },
    {
     "data": {
      "text/plain": [
       "<keras.callbacks.History at 0x13c8ce26b80>"
      ]
     },
     "execution_count": 76,
     "metadata": {},
     "output_type": "execute_result"
    }
   ],
   "source": [
    "#first, find optimal number of epochs\n",
    "model.fit(x=X_train,\n",
    "          y=y_train,\n",
    "          validation_split=0.1,\n",
    "          batch_size=128,\n",
    "          callbacks=[early_stop],\n",
    "          epochs=1000)"
   ]
  },
  {
   "cell_type": "code",
   "execution_count": 77,
   "id": "5a974e8e",
   "metadata": {},
   "outputs": [
    {
     "data": {
      "text/plain": [
       "<AxesSubplot:>"
      ]
     },
     "execution_count": 77,
     "metadata": {},
     "output_type": "execute_result"
    },
    {
     "data": {
      "image/png": "[encoded data removed]",
      "text/plain": [
       "<Figure size 432x288 with 1 Axes>"
      ]
     },
     "metadata": {},
     "output_type": "display_data"
    }
   ],
   "source": [
    "losses = pd.DataFrame(model.history.history)\n",
    "losses.plot()"
   ]
  },
  {
   "cell_type": "code",
   "execution_count": 78,
   "id": "1941c513",
   "metadata": {},
   "outputs": [],
   "source": [
    "model = create_model()"
   ]
  },
  {
   "cell_type": "code",
   "execution_count": 79,
   "id": "505958e6",
   "metadata": {},
   "outputs": [
    {
     "name": "stdout",
     "output_type": "stream",
     "text": [
      "Epoch 1/75\n",
      "12/12 [==============================] - 0s 2ms/step - loss: 39031169024.0000\n",
      "Epoch 2/75\n",
      "12/12 [==============================] - 0s 2ms/step - loss: 38176280576.0000\n",
      "Epoch 3/75\n",
      "12/12 [==============================] - 0s 2ms/step - loss: 20872349696.0000\n",
      "Epoch 4/75\n",
      "12/12 [==============================] - 0s 2ms/step - loss: 4606305792.0000\n",
      "Epoch 5/75\n",
      "12/12 [==============================] - 0s 2ms/step - loss: 2131624448.0000\n",
      "Epoch 6/75\n",
      "12/12 [==============================] - 0s 2ms/step - loss: 1189298048.0000\n",
      "Epoch 7/75\n",
      "12/12 [==============================] - 0s 2ms/step - loss: 870270592.0000\n",
      "Epoch 8/75\n",
      "12/12 [==============================] - 0s 2ms/step - loss: 664611776.0000\n",
      "Epoch 9/75\n",
      "12/12 [==============================] - 0s 2ms/step - loss: 550911488.0000\n",
      "Epoch 10/75\n",
      "12/12 [==============================] - 0s 2ms/step - loss: 506653344.0000\n",
      "Epoch 11/75\n",
      "12/12 [==============================] - 0s 2ms/step - loss: 454948480.0000\n",
      "Epoch 12/75\n",
      "12/12 [==============================] - 0s 2ms/step - loss: 421624608.0000\n",
      "Epoch 13/75\n",
      "12/12 [==============================] - 0s 2ms/step - loss: 392100960.0000\n",
      "Epoch 14/75\n",
      "12/12 [==============================] - 0s 2ms/step - loss: 360242496.0000\n",
      "Epoch 15/75\n",
      "12/12 [==============================] - 0s 2ms/step - loss: 350149056.0000\n",
      "Epoch 16/75\n",
      "12/12 [==============================] - 0s 2ms/step - loss: 314996928.0000\n",
      "Epoch 17/75\n",
      "12/12 [==============================] - 0s 2ms/step - loss: 291620160.0000\n",
      "Epoch 18/75\n",
      "12/12 [==============================] - 0s 2ms/step - loss: 276973888.0000\n",
      "Epoch 19/75\n",
      "12/12 [==============================] - 0s 2ms/step - loss: 271737184.0000\n",
      "Epoch 20/75\n",
      "12/12 [==============================] - 0s 2ms/step - loss: 245474576.0000\n",
      "Epoch 21/75\n",
      "12/12 [==============================] - 0s 2ms/step - loss: 238238400.0000\n",
      "Epoch 22/75\n",
      "12/12 [==============================] - 0s 2ms/step - loss: 221069248.0000\n",
      "Epoch 23/75\n",
      "12/12 [==============================] - 0s 2ms/step - loss: 211361456.0000\n",
      "Epoch 24/75\n",
      "12/12 [==============================] - 0s 2ms/step - loss: 204413040.0000\n",
      "Epoch 25/75\n",
      "12/12 [==============================] - 0s 2ms/step - loss: 202149488.0000\n",
      "Epoch 26/75\n",
      "12/12 [==============================] - 0s 2ms/step - loss: 192477488.0000\n",
      "Epoch 27/75\n",
      "12/12 [==============================] - 0s 2ms/step - loss: 179082896.0000\n",
      "Epoch 28/75\n",
      "12/12 [==============================] - 0s 2ms/step - loss: 172043664.0000\n",
      "Epoch 29/75\n",
      "12/12 [==============================] - 0s 2ms/step - loss: 165786288.0000\n",
      "Epoch 30/75\n",
      "12/12 [==============================] - 0s 2ms/step - loss: 169723280.0000\n",
      "Epoch 31/75\n",
      "12/12 [==============================] - 0s 2ms/step - loss: 162049424.0000\n",
      "Epoch 32/75\n",
      "12/12 [==============================] - 0s 2ms/step - loss: 152161552.0000\n",
      "Epoch 33/75\n",
      "12/12 [==============================] - 0s 2ms/step - loss: 149929408.0000\n",
      "Epoch 34/75\n",
      "12/12 [==============================] - 0s 2ms/step - loss: 143086832.0000\n",
      "Epoch 35/75\n",
      "12/12 [==============================] - 0s 2ms/step - loss: 134727872.0000\n",
      "Epoch 36/75\n",
      "12/12 [==============================] - 0s 2ms/step - loss: 131119056.0000\n",
      "Epoch 37/75\n",
      "12/12 [==============================] - 0s 2ms/step - loss: 124759504.0000\n",
      "Epoch 38/75\n",
      "12/12 [==============================] - 0s 2ms/step - loss: 121785056.0000\n",
      "Epoch 39/75\n",
      "12/12 [==============================] - 0s 2ms/step - loss: 116494008.0000\n",
      "Epoch 40/75\n",
      "12/12 [==============================] - 0s 2ms/step - loss: 116767912.0000\n",
      "Epoch 41/75\n",
      "12/12 [==============================] - 0s 2ms/step - loss: 117466360.0000\n",
      "Epoch 42/75\n",
      "12/12 [==============================] - 0s 2ms/step - loss: 110136864.0000\n",
      "Epoch 43/75\n",
      "12/12 [==============================] - 0s 2ms/step - loss: 102938016.0000\n",
      "Epoch 44/75\n",
      "12/12 [==============================] - 0s 2ms/step - loss: 99095456.0000\n",
      "Epoch 45/75\n",
      "12/12 [==============================] - 0s 2ms/step - loss: 98648000.0000\n",
      "Epoch 46/75\n",
      "12/12 [==============================] - 0s 2ms/step - loss: 95483248.0000\n",
      "Epoch 47/75\n",
      "12/12 [==============================] - 0s 2ms/step - loss: 92614640.0000\n",
      "Epoch 48/75\n",
      "12/12 [==============================] - 0s 2ms/step - loss: 88018168.0000\n",
      "Epoch 49/75\n",
      "12/12 [==============================] - 0s 2ms/step - loss: 86756800.0000\n",
      "Epoch 50/75\n",
      "12/12 [==============================] - 0s 2ms/step - loss: 83295240.0000\n",
      "Epoch 51/75\n",
      "12/12 [==============================] - 0s 2ms/step - loss: 82366640.0000\n",
      "Epoch 52/75\n",
      "12/12 [==============================] - 0s 2ms/step - loss: 80334464.0000\n",
      "Epoch 53/75\n",
      "12/12 [==============================] - 0s 2ms/step - loss: 77431920.0000\n",
      "Epoch 54/75\n",
      "12/12 [==============================] - 0s 2ms/step - loss: 80360816.0000\n",
      "Epoch 55/75\n",
      "12/12 [==============================] - 0s 2ms/step - loss: 78170864.0000\n",
      "Epoch 56/75\n",
      "12/12 [==============================] - 0s 2ms/step - loss: 71472448.0000\n",
      "Epoch 57/75\n",
      "12/12 [==============================] - 0s 2ms/step - loss: 77322832.0000\n",
      "Epoch 58/75\n",
      "12/12 [==============================] - 0s 2ms/step - loss: 87811728.0000\n",
      "Epoch 59/75\n",
      "12/12 [==============================] - 0s 2ms/step - loss: 78510872.0000\n",
      "Epoch 60/75\n",
      "12/12 [==============================] - 0s 2ms/step - loss: 69947816.0000\n",
      "Epoch 61/75\n",
      "12/12 [==============================] - 0s 2ms/step - loss: 63652564.0000\n",
      "Epoch 62/75\n",
      "12/12 [==============================] - 0s 2ms/step - loss: 62329908.0000\n",
      "Epoch 63/75\n",
      "12/12 [==============================] - 0s 2ms/step - loss: 58553820.0000\n",
      "Epoch 64/75\n",
      "12/12 [==============================] - 0s 2ms/step - loss: 61193832.0000\n",
      "Epoch 65/75\n",
      "12/12 [==============================] - 0s 2ms/step - loss: 61633336.0000\n",
      "Epoch 66/75\n",
      "12/12 [==============================] - 0s 2ms/step - loss: 59502648.0000\n",
      "Epoch 67/75\n",
      "12/12 [==============================] - 0s 2ms/step - loss: 59955464.0000\n",
      "Epoch 68/75\n",
      "12/12 [==============================] - 0s 2ms/step - loss: 56184236.0000\n",
      "Epoch 69/75\n",
      "12/12 [==============================] - 0s 2ms/step - loss: 52870216.0000\n",
      "Epoch 70/75\n",
      "12/12 [==============================] - 0s 2ms/step - loss: 52954116.0000\n",
      "Epoch 71/75\n",
      "12/12 [==============================] - 0s 3ms/step - loss: 50674220.0000\n",
      "Epoch 72/75\n",
      "12/12 [==============================] - 0s 2ms/step - loss: 45745412.0000\n",
      "Epoch 73/75\n",
      "12/12 [==============================] - 0s 2ms/step - loss: 48466460.0000\n",
      "Epoch 74/75\n",
      "12/12 [==============================] - 0s 2ms/step - loss: 44206772.0000\n",
      "Epoch 75/75\n",
      "12/12 [==============================] - 0s 2ms/step - loss: 42456684.0000\n"
     ]
    },
    {
     "data": {
      "text/plain": [
       "<keras.callbacks.History at 0x13cb080db80>"
      ]
     },
     "execution_count": 79,
     "metadata": {},
     "output_type": "execute_result"
    }
   ],
   "source": [
    "optimal_epochs = 75\n",
    "\n",
    "model.fit(x=X_train,\n",
    "          y=y_train,\n",
    "          batch_size=128,\n",
    "          epochs=optimal_epochs)"
   ]
  },
  {
   "cell_type": "code",
   "execution_count": 80,
   "id": "378571bd",
   "metadata": {},
   "outputs": [],
   "source": [
    "#plt.figure(figsize=(12,6))\n",
    "#plt.scatter(y_test,predictions)\n",
    "#plt.plot(y_test,y_test,'r')"
   ]
  },
  {
   "cell_type": "code",
   "execution_count": 81,
   "id": "765857c8",
   "metadata": {},
   "outputs": [],
   "source": [
    "#Part 8\n",
    "#Making predictions on our test set"
   ]
  },
  {
   "cell_type": "code",
   "execution_count": 82,
   "id": "b89f53c1",
   "metadata": {},
   "outputs": [
    {
     "name": "stdout",
     "output_type": "stream",
     "text": [
      "1/1 [==============================] - 0s 64ms/step\n"
     ]
    },
    {
     "data": {
      "text/plain": [
       "array([[169504.55]], dtype=float32)"
      ]
     },
     "execution_count": 82,
     "metadata": {},
     "output_type": "execute_result"
    }
   ],
   "source": [
    "#test house\n",
    "single_house = test.iloc[6]\n",
    "single_house = scaler.transform(single_house.values.reshape(-1,input_layer_size))\n",
    "model.predict(single_house)"
   ]
  },
  {
   "cell_type": "code",
   "execution_count": 83,
   "id": "ecbb29f6",
   "metadata": {},
   "outputs": [
    {
     "name": "stdout",
     "output_type": "stream",
     "text": [
      "46/46 [==============================] - 0s 800us/step\n"
     ]
    },
    {
     "name": "stderr",
     "output_type": "stream",
     "text": [
      "A:\\anaconda3\\lib\\site-packages\\sklearn\\base.py:443: UserWarning: X has feature names, but StandardScaler was fitted without feature names\n",
      "  warnings.warn(\n"
     ]
    }
   ],
   "source": [
    "scaled_test = scaler.transform(test) #do not fit test data to avoid data leakage\n",
    "final_preds = model.predict(np.array(scaled_test))"
   ]
  },
  {
   "cell_type": "code",
   "execution_count": 84,
   "id": "e50232c4",
   "metadata": {},
   "outputs": [],
   "source": [
    "def get_results(preds):\n",
    "    return pd.DataFrame({'Id':test.index + 1,'SalePrice':preds.flatten()})"
   ]
  },
  {
   "cell_type": "code",
   "execution_count": 85,
   "id": "333dba2a",
   "metadata": {},
   "outputs": [],
   "source": [
    "submission_df = get_results(final_preds)"
   ]
  },
  {
   "cell_type": "code",
   "execution_count": 86,
   "id": "3ef51f09",
   "metadata": {},
   "outputs": [],
   "source": [
    "submission_df.to_csv(\"predictions.csv\",index=False)"
   ]
  },
  {
   "cell_type": "code",
   "execution_count": null,
   "id": "80892c3b",
   "metadata": {},
   "outputs": [],
   "source": []
  }
 ],
 "metadata": {
  "kernelspec": {
   "display_name": "Python [conda env:root] *",
   "language": "python",
   "name": "conda-root-py"
  },
  "language_info": {
   "codemirror_mode": {
    "name": "ipython",
    "version": 3
   },
   "file_extension": ".py",
   "mimetype": "text/x-python",
   "name": "python",
   "nbconvert_exporter": "python",
   "pygments_lexer": "ipython3",
   "version": "3.9.12"
  }
 },
 "nbformat": 4,
 "nbformat_minor": 5
}
