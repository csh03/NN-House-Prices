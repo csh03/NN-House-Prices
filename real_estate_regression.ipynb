{
 "cells": [
  {
   "cell_type": "code",
   "execution_count": 1,
   "id": "00c3dded",
   "metadata": {},
   "outputs": [],
   "source": [
    "#Real Estate Price - Machine Learning Regression Project\n",
    "#By Christopher Shih\n",
    "\n",
    "#Dataset provided by Kaggle.com, as part of the \"Advanced Regression Techniques\" competition.\n",
    "#This data contains historical real estate data from Ames, Iowa. "
   ]
  },
  {
   "cell_type": "code",
   "execution_count": 2,
   "id": "46dcecbe",
   "metadata": {},
   "outputs": [],
   "source": [
    "import pandas as pd\n",
    "import numpy as np\n",
    "import seaborn as sns\n",
    "import matplotlib.pyplot as plt"
   ]
  },
  {
   "cell_type": "code",
   "execution_count": 3,
   "id": "825900f4",
   "metadata": {},
   "outputs": [
    {
     "data": {
      "text/html": [
       "<div>\n",
       "<style scoped>\n",
       "    .dataframe tbody tr th:only-of-type {\n",
       "        vertical-align: middle;\n",
       "    }\n",
       "\n",
       "    .dataframe tbody tr th {\n",
       "        vertical-align: top;\n",
       "    }\n",
       "\n",
       "    .dataframe thead th {\n",
       "        text-align: right;\n",
       "    }\n",
       "</style>\n",
       "<table border=\"1\" class=\"dataframe\">\n",
       "  <thead>\n",
       "    <tr style=\"text-align: right;\">\n",
       "      <th></th>\n",
       "      <th>Id</th>\n",
       "      <th>MSSubClass</th>\n",
       "      <th>MSZoning</th>\n",
       "      <th>LotFrontage</th>\n",
       "      <th>LotArea</th>\n",
       "      <th>Street</th>\n",
       "      <th>Alley</th>\n",
       "      <th>LotShape</th>\n",
       "      <th>LandContour</th>\n",
       "      <th>Utilities</th>\n",
       "      <th>...</th>\n",
       "      <th>PoolArea</th>\n",
       "      <th>PoolQC</th>\n",
       "      <th>Fence</th>\n",
       "      <th>MiscFeature</th>\n",
       "      <th>MiscVal</th>\n",
       "      <th>MoSold</th>\n",
       "      <th>YrSold</th>\n",
       "      <th>SaleType</th>\n",
       "      <th>SaleCondition</th>\n",
       "      <th>SalePrice</th>\n",
       "    </tr>\n",
       "  </thead>\n",
       "  <tbody>\n",
       "    <tr>\n",
       "      <th>0</th>\n",
       "      <td>1</td>\n",
       "      <td>60</td>\n",
       "      <td>RL</td>\n",
       "      <td>65.0</td>\n",
       "      <td>8450</td>\n",
       "      <td>Pave</td>\n",
       "      <td>NaN</td>\n",
       "      <td>Reg</td>\n",
       "      <td>Lvl</td>\n",
       "      <td>AllPub</td>\n",
       "      <td>...</td>\n",
       "      <td>0</td>\n",
       "      <td>NaN</td>\n",
       "      <td>NaN</td>\n",
       "      <td>NaN</td>\n",
       "      <td>0</td>\n",
       "      <td>2</td>\n",
       "      <td>2008</td>\n",
       "      <td>WD</td>\n",
       "      <td>Normal</td>\n",
       "      <td>208500</td>\n",
       "    </tr>\n",
       "    <tr>\n",
       "      <th>1</th>\n",
       "      <td>2</td>\n",
       "      <td>20</td>\n",
       "      <td>RL</td>\n",
       "      <td>80.0</td>\n",
       "      <td>9600</td>\n",
       "      <td>Pave</td>\n",
       "      <td>NaN</td>\n",
       "      <td>Reg</td>\n",
       "      <td>Lvl</td>\n",
       "      <td>AllPub</td>\n",
       "      <td>...</td>\n",
       "      <td>0</td>\n",
       "      <td>NaN</td>\n",
       "      <td>NaN</td>\n",
       "      <td>NaN</td>\n",
       "      <td>0</td>\n",
       "      <td>5</td>\n",
       "      <td>2007</td>\n",
       "      <td>WD</td>\n",
       "      <td>Normal</td>\n",
       "      <td>181500</td>\n",
       "    </tr>\n",
       "    <tr>\n",
       "      <th>2</th>\n",
       "      <td>3</td>\n",
       "      <td>60</td>\n",
       "      <td>RL</td>\n",
       "      <td>68.0</td>\n",
       "      <td>11250</td>\n",
       "      <td>Pave</td>\n",
       "      <td>NaN</td>\n",
       "      <td>IR1</td>\n",
       "      <td>Lvl</td>\n",
       "      <td>AllPub</td>\n",
       "      <td>...</td>\n",
       "      <td>0</td>\n",
       "      <td>NaN</td>\n",
       "      <td>NaN</td>\n",
       "      <td>NaN</td>\n",
       "      <td>0</td>\n",
       "      <td>9</td>\n",
       "      <td>2008</td>\n",
       "      <td>WD</td>\n",
       "      <td>Normal</td>\n",
       "      <td>223500</td>\n",
       "    </tr>\n",
       "    <tr>\n",
       "      <th>3</th>\n",
       "      <td>4</td>\n",
       "      <td>70</td>\n",
       "      <td>RL</td>\n",
       "      <td>60.0</td>\n",
       "      <td>9550</td>\n",
       "      <td>Pave</td>\n",
       "      <td>NaN</td>\n",
       "      <td>IR1</td>\n",
       "      <td>Lvl</td>\n",
       "      <td>AllPub</td>\n",
       "      <td>...</td>\n",
       "      <td>0</td>\n",
       "      <td>NaN</td>\n",
       "      <td>NaN</td>\n",
       "      <td>NaN</td>\n",
       "      <td>0</td>\n",
       "      <td>2</td>\n",
       "      <td>2006</td>\n",
       "      <td>WD</td>\n",
       "      <td>Abnorml</td>\n",
       "      <td>140000</td>\n",
       "    </tr>\n",
       "    <tr>\n",
       "      <th>4</th>\n",
       "      <td>5</td>\n",
       "      <td>60</td>\n",
       "      <td>RL</td>\n",
       "      <td>84.0</td>\n",
       "      <td>14260</td>\n",
       "      <td>Pave</td>\n",
       "      <td>NaN</td>\n",
       "      <td>IR1</td>\n",
       "      <td>Lvl</td>\n",
       "      <td>AllPub</td>\n",
       "      <td>...</td>\n",
       "      <td>0</td>\n",
       "      <td>NaN</td>\n",
       "      <td>NaN</td>\n",
       "      <td>NaN</td>\n",
       "      <td>0</td>\n",
       "      <td>12</td>\n",
       "      <td>2008</td>\n",
       "      <td>WD</td>\n",
       "      <td>Normal</td>\n",
       "      <td>250000</td>\n",
       "    </tr>\n",
       "    <tr>\n",
       "      <th>...</th>\n",
       "      <td>...</td>\n",
       "      <td>...</td>\n",
       "      <td>...</td>\n",
       "      <td>...</td>\n",
       "      <td>...</td>\n",
       "      <td>...</td>\n",
       "      <td>...</td>\n",
       "      <td>...</td>\n",
       "      <td>...</td>\n",
       "      <td>...</td>\n",
       "      <td>...</td>\n",
       "      <td>...</td>\n",
       "      <td>...</td>\n",
       "      <td>...</td>\n",
       "      <td>...</td>\n",
       "      <td>...</td>\n",
       "      <td>...</td>\n",
       "      <td>...</td>\n",
       "      <td>...</td>\n",
       "      <td>...</td>\n",
       "      <td>...</td>\n",
       "    </tr>\n",
       "    <tr>\n",
       "      <th>1455</th>\n",
       "      <td>1456</td>\n",
       "      <td>60</td>\n",
       "      <td>RL</td>\n",
       "      <td>62.0</td>\n",
       "      <td>7917</td>\n",
       "      <td>Pave</td>\n",
       "      <td>NaN</td>\n",
       "      <td>Reg</td>\n",
       "      <td>Lvl</td>\n",
       "      <td>AllPub</td>\n",
       "      <td>...</td>\n",
       "      <td>0</td>\n",
       "      <td>NaN</td>\n",
       "      <td>NaN</td>\n",
       "      <td>NaN</td>\n",
       "      <td>0</td>\n",
       "      <td>8</td>\n",
       "      <td>2007</td>\n",
       "      <td>WD</td>\n",
       "      <td>Normal</td>\n",
       "      <td>175000</td>\n",
       "    </tr>\n",
       "    <tr>\n",
       "      <th>1456</th>\n",
       "      <td>1457</td>\n",
       "      <td>20</td>\n",
       "      <td>RL</td>\n",
       "      <td>85.0</td>\n",
       "      <td>13175</td>\n",
       "      <td>Pave</td>\n",
       "      <td>NaN</td>\n",
       "      <td>Reg</td>\n",
       "      <td>Lvl</td>\n",
       "      <td>AllPub</td>\n",
       "      <td>...</td>\n",
       "      <td>0</td>\n",
       "      <td>NaN</td>\n",
       "      <td>MnPrv</td>\n",
       "      <td>NaN</td>\n",
       "      <td>0</td>\n",
       "      <td>2</td>\n",
       "      <td>2010</td>\n",
       "      <td>WD</td>\n",
       "      <td>Normal</td>\n",
       "      <td>210000</td>\n",
       "    </tr>\n",
       "    <tr>\n",
       "      <th>1457</th>\n",
       "      <td>1458</td>\n",
       "      <td>70</td>\n",
       "      <td>RL</td>\n",
       "      <td>66.0</td>\n",
       "      <td>9042</td>\n",
       "      <td>Pave</td>\n",
       "      <td>NaN</td>\n",
       "      <td>Reg</td>\n",
       "      <td>Lvl</td>\n",
       "      <td>AllPub</td>\n",
       "      <td>...</td>\n",
       "      <td>0</td>\n",
       "      <td>NaN</td>\n",
       "      <td>GdPrv</td>\n",
       "      <td>Shed</td>\n",
       "      <td>2500</td>\n",
       "      <td>5</td>\n",
       "      <td>2010</td>\n",
       "      <td>WD</td>\n",
       "      <td>Normal</td>\n",
       "      <td>266500</td>\n",
       "    </tr>\n",
       "    <tr>\n",
       "      <th>1458</th>\n",
       "      <td>1459</td>\n",
       "      <td>20</td>\n",
       "      <td>RL</td>\n",
       "      <td>68.0</td>\n",
       "      <td>9717</td>\n",
       "      <td>Pave</td>\n",
       "      <td>NaN</td>\n",
       "      <td>Reg</td>\n",
       "      <td>Lvl</td>\n",
       "      <td>AllPub</td>\n",
       "      <td>...</td>\n",
       "      <td>0</td>\n",
       "      <td>NaN</td>\n",
       "      <td>NaN</td>\n",
       "      <td>NaN</td>\n",
       "      <td>0</td>\n",
       "      <td>4</td>\n",
       "      <td>2010</td>\n",
       "      <td>WD</td>\n",
       "      <td>Normal</td>\n",
       "      <td>142125</td>\n",
       "    </tr>\n",
       "    <tr>\n",
       "      <th>1459</th>\n",
       "      <td>1460</td>\n",
       "      <td>20</td>\n",
       "      <td>RL</td>\n",
       "      <td>75.0</td>\n",
       "      <td>9937</td>\n",
       "      <td>Pave</td>\n",
       "      <td>NaN</td>\n",
       "      <td>Reg</td>\n",
       "      <td>Lvl</td>\n",
       "      <td>AllPub</td>\n",
       "      <td>...</td>\n",
       "      <td>0</td>\n",
       "      <td>NaN</td>\n",
       "      <td>NaN</td>\n",
       "      <td>NaN</td>\n",
       "      <td>0</td>\n",
       "      <td>6</td>\n",
       "      <td>2008</td>\n",
       "      <td>WD</td>\n",
       "      <td>Normal</td>\n",
       "      <td>147500</td>\n",
       "    </tr>\n",
       "  </tbody>\n",
       "</table>\n",
       "<p>1460 rows × 81 columns</p>\n",
       "</div>"
      ],
      "text/plain": [
       "        Id  MSSubClass MSZoning  LotFrontage  LotArea Street Alley LotShape  \\\n",
       "0        1          60       RL         65.0     8450   Pave   NaN      Reg   \n",
       "1        2          20       RL         80.0     9600   Pave   NaN      Reg   \n",
       "2        3          60       RL         68.0    11250   Pave   NaN      IR1   \n",
       "3        4          70       RL         60.0     9550   Pave   NaN      IR1   \n",
       "4        5          60       RL         84.0    14260   Pave   NaN      IR1   \n",
       "...    ...         ...      ...          ...      ...    ...   ...      ...   \n",
       "1455  1456          60       RL         62.0     7917   Pave   NaN      Reg   \n",
       "1456  1457          20       RL         85.0    13175   Pave   NaN      Reg   \n",
       "1457  1458          70       RL         66.0     9042   Pave   NaN      Reg   \n",
       "1458  1459          20       RL         68.0     9717   Pave   NaN      Reg   \n",
       "1459  1460          20       RL         75.0     9937   Pave   NaN      Reg   \n",
       "\n",
       "     LandContour Utilities  ... PoolArea PoolQC  Fence MiscFeature MiscVal  \\\n",
       "0            Lvl    AllPub  ...        0    NaN    NaN         NaN       0   \n",
       "1            Lvl    AllPub  ...        0    NaN    NaN         NaN       0   \n",
       "2            Lvl    AllPub  ...        0    NaN    NaN         NaN       0   \n",
       "3            Lvl    AllPub  ...        0    NaN    NaN         NaN       0   \n",
       "4            Lvl    AllPub  ...        0    NaN    NaN         NaN       0   \n",
       "...          ...       ...  ...      ...    ...    ...         ...     ...   \n",
       "1455         Lvl    AllPub  ...        0    NaN    NaN         NaN       0   \n",
       "1456         Lvl    AllPub  ...        0    NaN  MnPrv         NaN       0   \n",
       "1457         Lvl    AllPub  ...        0    NaN  GdPrv        Shed    2500   \n",
       "1458         Lvl    AllPub  ...        0    NaN    NaN         NaN       0   \n",
       "1459         Lvl    AllPub  ...        0    NaN    NaN         NaN       0   \n",
       "\n",
       "     MoSold YrSold  SaleType  SaleCondition  SalePrice  \n",
       "0         2   2008        WD         Normal     208500  \n",
       "1         5   2007        WD         Normal     181500  \n",
       "2         9   2008        WD         Normal     223500  \n",
       "3         2   2006        WD        Abnorml     140000  \n",
       "4        12   2008        WD         Normal     250000  \n",
       "...     ...    ...       ...            ...        ...  \n",
       "1455      8   2007        WD         Normal     175000  \n",
       "1456      2   2010        WD         Normal     210000  \n",
       "1457      5   2010        WD         Normal     266500  \n",
       "1458      4   2010        WD         Normal     142125  \n",
       "1459      6   2008        WD         Normal     147500  \n",
       "\n",
       "[1460 rows x 81 columns]"
      ]
     },
     "execution_count": 3,
     "metadata": {},
     "output_type": "execute_result"
    }
   ],
   "source": [
    "train = pd.read_csv(\"data/train.csv\")\n",
    "test = pd.read_csv(\"data/test.csv\")\n",
    "train"
   ]
  },
  {
   "cell_type": "code",
   "execution_count": 4,
   "id": "3c87105f",
   "metadata": {},
   "outputs": [
    {
     "data": {
      "text/plain": [
       "Index(['Id', 'MSSubClass', 'MSZoning', 'LotFrontage', 'LotArea', 'Street',\n",
       "       'Alley', 'LotShape', 'LandContour', 'Utilities', 'LotConfig',\n",
       "       'LandSlope', 'Neighborhood', 'Condition1', 'Condition2', 'BldgType',\n",
       "       'HouseStyle', 'OverallQual', 'OverallCond', 'YearBuilt', 'YearRemodAdd',\n",
       "       'RoofStyle', 'RoofMatl', 'Exterior1st', 'Exterior2nd', 'MasVnrType',\n",
       "       'MasVnrArea', 'ExterQual', 'ExterCond', 'Foundation', 'BsmtQual',\n",
       "       'BsmtCond', 'BsmtExposure', 'BsmtFinType1', 'BsmtFinSF1',\n",
       "       'BsmtFinType2', 'BsmtFinSF2', 'BsmtUnfSF', 'TotalBsmtSF', 'Heating',\n",
       "       'HeatingQC', 'CentralAir', 'Electrical', '1stFlrSF', '2ndFlrSF',\n",
       "       'LowQualFinSF', 'GrLivArea', 'BsmtFullBath', 'BsmtHalfBath', 'FullBath',\n",
       "       'HalfBath', 'BedroomAbvGr', 'KitchenAbvGr', 'KitchenQual',\n",
       "       'TotRmsAbvGrd', 'Functional', 'Fireplaces', 'FireplaceQu', 'GarageType',\n",
       "       'GarageYrBlt', 'GarageFinish', 'GarageCars', 'GarageArea', 'GarageQual',\n",
       "       'GarageCond', 'PavedDrive', 'WoodDeckSF', 'OpenPorchSF',\n",
       "       'EnclosedPorch', '3SsnPorch', 'ScreenPorch', 'PoolArea', 'PoolQC',\n",
       "       'Fence', 'MiscFeature', 'MiscVal', 'MoSold', 'YrSold', 'SaleType',\n",
       "       'SaleCondition', 'SalePrice'],\n",
       "      dtype='object')"
      ]
     },
     "execution_count": 4,
     "metadata": {},
     "output_type": "execute_result"
    }
   ],
   "source": [
    "train.columns"
   ]
  },
  {
   "cell_type": "code",
   "execution_count": 5,
   "id": "25a16dd9",
   "metadata": {},
   "outputs": [
    {
     "data": {
      "text/html": [
       "<div>\n",
       "<style scoped>\n",
       "    .dataframe tbody tr th:only-of-type {\n",
       "        vertical-align: middle;\n",
       "    }\n",
       "\n",
       "    .dataframe tbody tr th {\n",
       "        vertical-align: top;\n",
       "    }\n",
       "\n",
       "    .dataframe thead th {\n",
       "        text-align: right;\n",
       "    }\n",
       "</style>\n",
       "<table border=\"1\" class=\"dataframe\">\n",
       "  <thead>\n",
       "    <tr style=\"text-align: right;\">\n",
       "      <th></th>\n",
       "      <th>count</th>\n",
       "      <th>mean</th>\n",
       "      <th>std</th>\n",
       "      <th>min</th>\n",
       "      <th>25%</th>\n",
       "      <th>50%</th>\n",
       "      <th>75%</th>\n",
       "      <th>max</th>\n",
       "    </tr>\n",
       "  </thead>\n",
       "  <tbody>\n",
       "    <tr>\n",
       "      <th>Id</th>\n",
       "      <td>1460.0</td>\n",
       "      <td>730.500000</td>\n",
       "      <td>421.610009</td>\n",
       "      <td>1.0</td>\n",
       "      <td>365.75</td>\n",
       "      <td>730.5</td>\n",
       "      <td>1095.25</td>\n",
       "      <td>1460.0</td>\n",
       "    </tr>\n",
       "    <tr>\n",
       "      <th>MSSubClass</th>\n",
       "      <td>1460.0</td>\n",
       "      <td>56.897260</td>\n",
       "      <td>42.300571</td>\n",
       "      <td>20.0</td>\n",
       "      <td>20.00</td>\n",
       "      <td>50.0</td>\n",
       "      <td>70.00</td>\n",
       "      <td>190.0</td>\n",
       "    </tr>\n",
       "    <tr>\n",
       "      <th>LotFrontage</th>\n",
       "      <td>1201.0</td>\n",
       "      <td>70.049958</td>\n",
       "      <td>24.284752</td>\n",
       "      <td>21.0</td>\n",
       "      <td>59.00</td>\n",
       "      <td>69.0</td>\n",
       "      <td>80.00</td>\n",
       "      <td>313.0</td>\n",
       "    </tr>\n",
       "    <tr>\n",
       "      <th>LotArea</th>\n",
       "      <td>1460.0</td>\n",
       "      <td>10516.828082</td>\n",
       "      <td>9981.264932</td>\n",
       "      <td>1300.0</td>\n",
       "      <td>7553.50</td>\n",
       "      <td>9478.5</td>\n",
       "      <td>11601.50</td>\n",
       "      <td>215245.0</td>\n",
       "    </tr>\n",
       "    <tr>\n",
       "      <th>OverallQual</th>\n",
       "      <td>1460.0</td>\n",
       "      <td>6.099315</td>\n",
       "      <td>1.382997</td>\n",
       "      <td>1.0</td>\n",
       "      <td>5.00</td>\n",
       "      <td>6.0</td>\n",
       "      <td>7.00</td>\n",
       "      <td>10.0</td>\n",
       "    </tr>\n",
       "    <tr>\n",
       "      <th>OverallCond</th>\n",
       "      <td>1460.0</td>\n",
       "      <td>5.575342</td>\n",
       "      <td>1.112799</td>\n",
       "      <td>1.0</td>\n",
       "      <td>5.00</td>\n",
       "      <td>5.0</td>\n",
       "      <td>6.00</td>\n",
       "      <td>9.0</td>\n",
       "    </tr>\n",
       "    <tr>\n",
       "      <th>YearBuilt</th>\n",
       "      <td>1460.0</td>\n",
       "      <td>1971.267808</td>\n",
       "      <td>30.202904</td>\n",
       "      <td>1872.0</td>\n",
       "      <td>1954.00</td>\n",
       "      <td>1973.0</td>\n",
       "      <td>2000.00</td>\n",
       "      <td>2010.0</td>\n",
       "    </tr>\n",
       "    <tr>\n",
       "      <th>YearRemodAdd</th>\n",
       "      <td>1460.0</td>\n",
       "      <td>1984.865753</td>\n",
       "      <td>20.645407</td>\n",
       "      <td>1950.0</td>\n",
       "      <td>1967.00</td>\n",
       "      <td>1994.0</td>\n",
       "      <td>2004.00</td>\n",
       "      <td>2010.0</td>\n",
       "    </tr>\n",
       "    <tr>\n",
       "      <th>MasVnrArea</th>\n",
       "      <td>1452.0</td>\n",
       "      <td>103.685262</td>\n",
       "      <td>181.066207</td>\n",
       "      <td>0.0</td>\n",
       "      <td>0.00</td>\n",
       "      <td>0.0</td>\n",
       "      <td>166.00</td>\n",
       "      <td>1600.0</td>\n",
       "    </tr>\n",
       "    <tr>\n",
       "      <th>BsmtFinSF1</th>\n",
       "      <td>1460.0</td>\n",
       "      <td>443.639726</td>\n",
       "      <td>456.098091</td>\n",
       "      <td>0.0</td>\n",
       "      <td>0.00</td>\n",
       "      <td>383.5</td>\n",
       "      <td>712.25</td>\n",
       "      <td>5644.0</td>\n",
       "    </tr>\n",
       "    <tr>\n",
       "      <th>BsmtFinSF2</th>\n",
       "      <td>1460.0</td>\n",
       "      <td>46.549315</td>\n",
       "      <td>161.319273</td>\n",
       "      <td>0.0</td>\n",
       "      <td>0.00</td>\n",
       "      <td>0.0</td>\n",
       "      <td>0.00</td>\n",
       "      <td>1474.0</td>\n",
       "    </tr>\n",
       "    <tr>\n",
       "      <th>BsmtUnfSF</th>\n",
       "      <td>1460.0</td>\n",
       "      <td>567.240411</td>\n",
       "      <td>441.866955</td>\n",
       "      <td>0.0</td>\n",
       "      <td>223.00</td>\n",
       "      <td>477.5</td>\n",
       "      <td>808.00</td>\n",
       "      <td>2336.0</td>\n",
       "    </tr>\n",
       "    <tr>\n",
       "      <th>TotalBsmtSF</th>\n",
       "      <td>1460.0</td>\n",
       "      <td>1057.429452</td>\n",
       "      <td>438.705324</td>\n",
       "      <td>0.0</td>\n",
       "      <td>795.75</td>\n",
       "      <td>991.5</td>\n",
       "      <td>1298.25</td>\n",
       "      <td>6110.0</td>\n",
       "    </tr>\n",
       "    <tr>\n",
       "      <th>1stFlrSF</th>\n",
       "      <td>1460.0</td>\n",
       "      <td>1162.626712</td>\n",
       "      <td>386.587738</td>\n",
       "      <td>334.0</td>\n",
       "      <td>882.00</td>\n",
       "      <td>1087.0</td>\n",
       "      <td>1391.25</td>\n",
       "      <td>4692.0</td>\n",
       "    </tr>\n",
       "    <tr>\n",
       "      <th>2ndFlrSF</th>\n",
       "      <td>1460.0</td>\n",
       "      <td>346.992466</td>\n",
       "      <td>436.528436</td>\n",
       "      <td>0.0</td>\n",
       "      <td>0.00</td>\n",
       "      <td>0.0</td>\n",
       "      <td>728.00</td>\n",
       "      <td>2065.0</td>\n",
       "    </tr>\n",
       "    <tr>\n",
       "      <th>LowQualFinSF</th>\n",
       "      <td>1460.0</td>\n",
       "      <td>5.844521</td>\n",
       "      <td>48.623081</td>\n",
       "      <td>0.0</td>\n",
       "      <td>0.00</td>\n",
       "      <td>0.0</td>\n",
       "      <td>0.00</td>\n",
       "      <td>572.0</td>\n",
       "    </tr>\n",
       "    <tr>\n",
       "      <th>GrLivArea</th>\n",
       "      <td>1460.0</td>\n",
       "      <td>1515.463699</td>\n",
       "      <td>525.480383</td>\n",
       "      <td>334.0</td>\n",
       "      <td>1129.50</td>\n",
       "      <td>1464.0</td>\n",
       "      <td>1776.75</td>\n",
       "      <td>5642.0</td>\n",
       "    </tr>\n",
       "    <tr>\n",
       "      <th>BsmtFullBath</th>\n",
       "      <td>1460.0</td>\n",
       "      <td>0.425342</td>\n",
       "      <td>0.518911</td>\n",
       "      <td>0.0</td>\n",
       "      <td>0.00</td>\n",
       "      <td>0.0</td>\n",
       "      <td>1.00</td>\n",
       "      <td>3.0</td>\n",
       "    </tr>\n",
       "    <tr>\n",
       "      <th>BsmtHalfBath</th>\n",
       "      <td>1460.0</td>\n",
       "      <td>0.057534</td>\n",
       "      <td>0.238753</td>\n",
       "      <td>0.0</td>\n",
       "      <td>0.00</td>\n",
       "      <td>0.0</td>\n",
       "      <td>0.00</td>\n",
       "      <td>2.0</td>\n",
       "    </tr>\n",
       "    <tr>\n",
       "      <th>FullBath</th>\n",
       "      <td>1460.0</td>\n",
       "      <td>1.565068</td>\n",
       "      <td>0.550916</td>\n",
       "      <td>0.0</td>\n",
       "      <td>1.00</td>\n",
       "      <td>2.0</td>\n",
       "      <td>2.00</td>\n",
       "      <td>3.0</td>\n",
       "    </tr>\n",
       "    <tr>\n",
       "      <th>HalfBath</th>\n",
       "      <td>1460.0</td>\n",
       "      <td>0.382877</td>\n",
       "      <td>0.502885</td>\n",
       "      <td>0.0</td>\n",
       "      <td>0.00</td>\n",
       "      <td>0.0</td>\n",
       "      <td>1.00</td>\n",
       "      <td>2.0</td>\n",
       "    </tr>\n",
       "    <tr>\n",
       "      <th>BedroomAbvGr</th>\n",
       "      <td>1460.0</td>\n",
       "      <td>2.866438</td>\n",
       "      <td>0.815778</td>\n",
       "      <td>0.0</td>\n",
       "      <td>2.00</td>\n",
       "      <td>3.0</td>\n",
       "      <td>3.00</td>\n",
       "      <td>8.0</td>\n",
       "    </tr>\n",
       "    <tr>\n",
       "      <th>KitchenAbvGr</th>\n",
       "      <td>1460.0</td>\n",
       "      <td>1.046575</td>\n",
       "      <td>0.220338</td>\n",
       "      <td>0.0</td>\n",
       "      <td>1.00</td>\n",
       "      <td>1.0</td>\n",
       "      <td>1.00</td>\n",
       "      <td>3.0</td>\n",
       "    </tr>\n",
       "    <tr>\n",
       "      <th>TotRmsAbvGrd</th>\n",
       "      <td>1460.0</td>\n",
       "      <td>6.517808</td>\n",
       "      <td>1.625393</td>\n",
       "      <td>2.0</td>\n",
       "      <td>5.00</td>\n",
       "      <td>6.0</td>\n",
       "      <td>7.00</td>\n",
       "      <td>14.0</td>\n",
       "    </tr>\n",
       "    <tr>\n",
       "      <th>Fireplaces</th>\n",
       "      <td>1460.0</td>\n",
       "      <td>0.613014</td>\n",
       "      <td>0.644666</td>\n",
       "      <td>0.0</td>\n",
       "      <td>0.00</td>\n",
       "      <td>1.0</td>\n",
       "      <td>1.00</td>\n",
       "      <td>3.0</td>\n",
       "    </tr>\n",
       "    <tr>\n",
       "      <th>GarageYrBlt</th>\n",
       "      <td>1379.0</td>\n",
       "      <td>1978.506164</td>\n",
       "      <td>24.689725</td>\n",
       "      <td>1900.0</td>\n",
       "      <td>1961.00</td>\n",
       "      <td>1980.0</td>\n",
       "      <td>2002.00</td>\n",
       "      <td>2010.0</td>\n",
       "    </tr>\n",
       "    <tr>\n",
       "      <th>GarageCars</th>\n",
       "      <td>1460.0</td>\n",
       "      <td>1.767123</td>\n",
       "      <td>0.747315</td>\n",
       "      <td>0.0</td>\n",
       "      <td>1.00</td>\n",
       "      <td>2.0</td>\n",
       "      <td>2.00</td>\n",
       "      <td>4.0</td>\n",
       "    </tr>\n",
       "    <tr>\n",
       "      <th>GarageArea</th>\n",
       "      <td>1460.0</td>\n",
       "      <td>472.980137</td>\n",
       "      <td>213.804841</td>\n",
       "      <td>0.0</td>\n",
       "      <td>334.50</td>\n",
       "      <td>480.0</td>\n",
       "      <td>576.00</td>\n",
       "      <td>1418.0</td>\n",
       "    </tr>\n",
       "    <tr>\n",
       "      <th>WoodDeckSF</th>\n",
       "      <td>1460.0</td>\n",
       "      <td>94.244521</td>\n",
       "      <td>125.338794</td>\n",
       "      <td>0.0</td>\n",
       "      <td>0.00</td>\n",
       "      <td>0.0</td>\n",
       "      <td>168.00</td>\n",
       "      <td>857.0</td>\n",
       "    </tr>\n",
       "    <tr>\n",
       "      <th>OpenPorchSF</th>\n",
       "      <td>1460.0</td>\n",
       "      <td>46.660274</td>\n",
       "      <td>66.256028</td>\n",
       "      <td>0.0</td>\n",
       "      <td>0.00</td>\n",
       "      <td>25.0</td>\n",
       "      <td>68.00</td>\n",
       "      <td>547.0</td>\n",
       "    </tr>\n",
       "    <tr>\n",
       "      <th>EnclosedPorch</th>\n",
       "      <td>1460.0</td>\n",
       "      <td>21.954110</td>\n",
       "      <td>61.119149</td>\n",
       "      <td>0.0</td>\n",
       "      <td>0.00</td>\n",
       "      <td>0.0</td>\n",
       "      <td>0.00</td>\n",
       "      <td>552.0</td>\n",
       "    </tr>\n",
       "    <tr>\n",
       "      <th>3SsnPorch</th>\n",
       "      <td>1460.0</td>\n",
       "      <td>3.409589</td>\n",
       "      <td>29.317331</td>\n",
       "      <td>0.0</td>\n",
       "      <td>0.00</td>\n",
       "      <td>0.0</td>\n",
       "      <td>0.00</td>\n",
       "      <td>508.0</td>\n",
       "    </tr>\n",
       "    <tr>\n",
       "      <th>ScreenPorch</th>\n",
       "      <td>1460.0</td>\n",
       "      <td>15.060959</td>\n",
       "      <td>55.757415</td>\n",
       "      <td>0.0</td>\n",
       "      <td>0.00</td>\n",
       "      <td>0.0</td>\n",
       "      <td>0.00</td>\n",
       "      <td>480.0</td>\n",
       "    </tr>\n",
       "    <tr>\n",
       "      <th>PoolArea</th>\n",
       "      <td>1460.0</td>\n",
       "      <td>2.758904</td>\n",
       "      <td>40.177307</td>\n",
       "      <td>0.0</td>\n",
       "      <td>0.00</td>\n",
       "      <td>0.0</td>\n",
       "      <td>0.00</td>\n",
       "      <td>738.0</td>\n",
       "    </tr>\n",
       "    <tr>\n",
       "      <th>MiscVal</th>\n",
       "      <td>1460.0</td>\n",
       "      <td>43.489041</td>\n",
       "      <td>496.123024</td>\n",
       "      <td>0.0</td>\n",
       "      <td>0.00</td>\n",
       "      <td>0.0</td>\n",
       "      <td>0.00</td>\n",
       "      <td>15500.0</td>\n",
       "    </tr>\n",
       "    <tr>\n",
       "      <th>MoSold</th>\n",
       "      <td>1460.0</td>\n",
       "      <td>6.321918</td>\n",
       "      <td>2.703626</td>\n",
       "      <td>1.0</td>\n",
       "      <td>5.00</td>\n",
       "      <td>6.0</td>\n",
       "      <td>8.00</td>\n",
       "      <td>12.0</td>\n",
       "    </tr>\n",
       "    <tr>\n",
       "      <th>YrSold</th>\n",
       "      <td>1460.0</td>\n",
       "      <td>2007.815753</td>\n",
       "      <td>1.328095</td>\n",
       "      <td>2006.0</td>\n",
       "      <td>2007.00</td>\n",
       "      <td>2008.0</td>\n",
       "      <td>2009.00</td>\n",
       "      <td>2010.0</td>\n",
       "    </tr>\n",
       "    <tr>\n",
       "      <th>SalePrice</th>\n",
       "      <td>1460.0</td>\n",
       "      <td>180921.195890</td>\n",
       "      <td>79442.502883</td>\n",
       "      <td>34900.0</td>\n",
       "      <td>129975.00</td>\n",
       "      <td>163000.0</td>\n",
       "      <td>214000.00</td>\n",
       "      <td>755000.0</td>\n",
       "    </tr>\n",
       "  </tbody>\n",
       "</table>\n",
       "</div>"
      ],
      "text/plain": [
       "                count           mean           std      min        25%  \\\n",
       "Id             1460.0     730.500000    421.610009      1.0     365.75   \n",
       "MSSubClass     1460.0      56.897260     42.300571     20.0      20.00   \n",
       "LotFrontage    1201.0      70.049958     24.284752     21.0      59.00   \n",
       "LotArea        1460.0   10516.828082   9981.264932   1300.0    7553.50   \n",
       "OverallQual    1460.0       6.099315      1.382997      1.0       5.00   \n",
       "OverallCond    1460.0       5.575342      1.112799      1.0       5.00   \n",
       "YearBuilt      1460.0    1971.267808     30.202904   1872.0    1954.00   \n",
       "YearRemodAdd   1460.0    1984.865753     20.645407   1950.0    1967.00   \n",
       "MasVnrArea     1452.0     103.685262    181.066207      0.0       0.00   \n",
       "BsmtFinSF1     1460.0     443.639726    456.098091      0.0       0.00   \n",
       "BsmtFinSF2     1460.0      46.549315    161.319273      0.0       0.00   \n",
       "BsmtUnfSF      1460.0     567.240411    441.866955      0.0     223.00   \n",
       "TotalBsmtSF    1460.0    1057.429452    438.705324      0.0     795.75   \n",
       "1stFlrSF       1460.0    1162.626712    386.587738    334.0     882.00   \n",
       "2ndFlrSF       1460.0     346.992466    436.528436      0.0       0.00   \n",
       "LowQualFinSF   1460.0       5.844521     48.623081      0.0       0.00   \n",
       "GrLivArea      1460.0    1515.463699    525.480383    334.0    1129.50   \n",
       "BsmtFullBath   1460.0       0.425342      0.518911      0.0       0.00   \n",
       "BsmtHalfBath   1460.0       0.057534      0.238753      0.0       0.00   \n",
       "FullBath       1460.0       1.565068      0.550916      0.0       1.00   \n",
       "HalfBath       1460.0       0.382877      0.502885      0.0       0.00   \n",
       "BedroomAbvGr   1460.0       2.866438      0.815778      0.0       2.00   \n",
       "KitchenAbvGr   1460.0       1.046575      0.220338      0.0       1.00   \n",
       "TotRmsAbvGrd   1460.0       6.517808      1.625393      2.0       5.00   \n",
       "Fireplaces     1460.0       0.613014      0.644666      0.0       0.00   \n",
       "GarageYrBlt    1379.0    1978.506164     24.689725   1900.0    1961.00   \n",
       "GarageCars     1460.0       1.767123      0.747315      0.0       1.00   \n",
       "GarageArea     1460.0     472.980137    213.804841      0.0     334.50   \n",
       "WoodDeckSF     1460.0      94.244521    125.338794      0.0       0.00   \n",
       "OpenPorchSF    1460.0      46.660274     66.256028      0.0       0.00   \n",
       "EnclosedPorch  1460.0      21.954110     61.119149      0.0       0.00   \n",
       "3SsnPorch      1460.0       3.409589     29.317331      0.0       0.00   \n",
       "ScreenPorch    1460.0      15.060959     55.757415      0.0       0.00   \n",
       "PoolArea       1460.0       2.758904     40.177307      0.0       0.00   \n",
       "MiscVal        1460.0      43.489041    496.123024      0.0       0.00   \n",
       "MoSold         1460.0       6.321918      2.703626      1.0       5.00   \n",
       "YrSold         1460.0    2007.815753      1.328095   2006.0    2007.00   \n",
       "SalePrice      1460.0  180921.195890  79442.502883  34900.0  129975.00   \n",
       "\n",
       "                    50%        75%       max  \n",
       "Id                730.5    1095.25    1460.0  \n",
       "MSSubClass         50.0      70.00     190.0  \n",
       "LotFrontage        69.0      80.00     313.0  \n",
       "LotArea          9478.5   11601.50  215245.0  \n",
       "OverallQual         6.0       7.00      10.0  \n",
       "OverallCond         5.0       6.00       9.0  \n",
       "YearBuilt        1973.0    2000.00    2010.0  \n",
       "YearRemodAdd     1994.0    2004.00    2010.0  \n",
       "MasVnrArea          0.0     166.00    1600.0  \n",
       "BsmtFinSF1        383.5     712.25    5644.0  \n",
       "BsmtFinSF2          0.0       0.00    1474.0  \n",
       "BsmtUnfSF         477.5     808.00    2336.0  \n",
       "TotalBsmtSF       991.5    1298.25    6110.0  \n",
       "1stFlrSF         1087.0    1391.25    4692.0  \n",
       "2ndFlrSF            0.0     728.00    2065.0  \n",
       "LowQualFinSF        0.0       0.00     572.0  \n",
       "GrLivArea        1464.0    1776.75    5642.0  \n",
       "BsmtFullBath        0.0       1.00       3.0  \n",
       "BsmtHalfBath        0.0       0.00       2.0  \n",
       "FullBath            2.0       2.00       3.0  \n",
       "HalfBath            0.0       1.00       2.0  \n",
       "BedroomAbvGr        3.0       3.00       8.0  \n",
       "KitchenAbvGr        1.0       1.00       3.0  \n",
       "TotRmsAbvGrd        6.0       7.00      14.0  \n",
       "Fireplaces          1.0       1.00       3.0  \n",
       "GarageYrBlt      1980.0    2002.00    2010.0  \n",
       "GarageCars          2.0       2.00       4.0  \n",
       "GarageArea        480.0     576.00    1418.0  \n",
       "WoodDeckSF          0.0     168.00     857.0  \n",
       "OpenPorchSF        25.0      68.00     547.0  \n",
       "EnclosedPorch       0.0       0.00     552.0  \n",
       "3SsnPorch           0.0       0.00     508.0  \n",
       "ScreenPorch         0.0       0.00     480.0  \n",
       "PoolArea            0.0       0.00     738.0  \n",
       "MiscVal             0.0       0.00   15500.0  \n",
       "MoSold              6.0       8.00      12.0  \n",
       "YrSold           2008.0    2009.00    2010.0  \n",
       "SalePrice      163000.0  214000.00  755000.0  "
      ]
     },
     "execution_count": 5,
     "metadata": {},
     "output_type": "execute_result"
    }
   ],
   "source": [
    "train.describe().transpose()"
   ]
  },
  {
   "cell_type": "code",
   "execution_count": 6,
   "id": "dfca2908",
   "metadata": {},
   "outputs": [],
   "source": [
    "#Part 1\n",
    "#Exploratory data visualizations"
   ]
  },
  {
   "cell_type": "code",
   "execution_count": 7,
   "id": "26184f5d",
   "metadata": {},
   "outputs": [
    {
     "name": "stdout",
     "output_type": "stream",
     "text": [
      "163000.0\n"
     ]
    },
    {
     "data": {
      "image/png": "[encoded data removed]",
      "text/plain": [
       "<Figure size 432x288 with 1 Axes>"
      ]
     },
     "metadata": {
      "needs_background": "light"
     },
     "output_type": "display_data"
    }
   ],
   "source": [
    "sns.histplot(train['SalePrice'],kde=True,bins=50)\n",
    "print(train['SalePrice'].median())"
   ]
  },
  {
   "cell_type": "code",
   "execution_count": 8,
   "id": "3f800de4",
   "metadata": {},
   "outputs": [
    {
     "data": {
      "text/plain": [
       "<AxesSubplot:ylabel='Count'>"
      ]
     },
     "execution_count": 8,
     "metadata": {},
     "output_type": "execute_result"
    },
    {
     "data": {
      "image/png": "[encoded data removed]",
      "text/plain": [
       "<Figure size 432x288 with 1 Axes>"
      ]
     },
     "metadata": {
      "needs_background": "light"
     },
     "output_type": "display_data"
    }
   ],
   "source": [
    "#total \n",
    "sns.histplot(train['1stFlrSF'] + train['2ndFlrSF'],kde=True,bins=50,color='red')"
   ]
  },
  {
   "cell_type": "code",
   "execution_count": 9,
   "id": "4ef2aa18",
   "metadata": {},
   "outputs": [
    {
     "data": {
      "text/plain": [
       "<AxesSubplot:xlabel='BedroomAbvGr', ylabel='count'>"
      ]
     },
     "execution_count": 9,
     "metadata": {},
     "output_type": "execute_result"
    },
    {
     "data": {
      "image/png": "[encoded data removed]",
      "text/plain": [
       "<Figure size 432x288 with 1 Axes>"
      ]
     },
     "metadata": {
      "needs_background": "light"
     },
     "output_type": "display_data"
    }
   ],
   "source": [
    "sns.countplot(x='BedroomAbvGr',data=train)"
   ]
  },
  {
   "cell_type": "code",
   "execution_count": 10,
   "id": "ea96f488",
   "metadata": {},
   "outputs": [
    {
     "data": {
      "text/plain": [
       "<AxesSubplot:xlabel='BedroomAbvGr', ylabel='SalePrice'>"
      ]
     },
     "execution_count": 10,
     "metadata": {},
     "output_type": "execute_result"
    },
    {
     "data": {
      "image/png": "[encoded data removed]",
      "text/plain": [
       "<Figure size 432x288 with 1 Axes>"
      ]
     },
     "metadata": {
      "needs_background": "light"
     },
     "output_type": "display_data"
    }
   ],
   "source": [
    "sns.boxplot(x='BedroomAbvGr',y='SalePrice',data=train)"
   ]
  },
  {
   "cell_type": "code",
   "execution_count": 11,
   "id": "977b78fd",
   "metadata": {},
   "outputs": [
    {
     "data": {
      "text/plain": [
       "<AxesSubplot:xlabel='Neighborhood'>"
      ]
     },
     "execution_count": 11,
     "metadata": {},
     "output_type": "execute_result"
    },
    {
     "data": {
      "image/png": "[encoded data removed]",
      "text/plain": [
       "<Figure size 864x288 with 1 Axes>"
      ]
     },
     "metadata": {
      "needs_background": "light"
     },
     "output_type": "display_data"
    }
   ],
   "source": [
    "#find which neighborhoods are most desirable\n",
    "nh_prices = train.groupby('Neighborhood').mean()\n",
    "plt.figure(figsize=(12,4))\n",
    "nh_prices['SalePrice'].plot(kind='bar')"
   ]
  },
  {
   "cell_type": "code",
   "execution_count": 12,
   "id": "23e4b5f8",
   "metadata": {},
   "outputs": [
    {
     "data": {
      "text/plain": [
       "<AxesSubplot:xlabel='SalePrice', ylabel='GrLivArea'>"
      ]
     },
     "execution_count": 12,
     "metadata": {},
     "output_type": "execute_result"
    },
    {
     "data": {
      "image/png": "[encoded data removed]",
      "text/plain": [
       "<Figure size 432x288 with 1 Axes>"
      ]
     },
     "metadata": {
      "needs_background": "light"
     },
     "output_type": "display_data"
    }
   ],
   "source": [
    "sns.scatterplot(x='SalePrice',y='GrLivArea',data=train)"
   ]
  },
  {
   "cell_type": "code",
   "execution_count": 13,
   "id": "ad9b0fda",
   "metadata": {},
   "outputs": [
    {
     "data": {
      "text/plain": [
       "<AxesSubplot:xlabel='BldgType', ylabel='SalePrice'>"
      ]
     },
     "execution_count": 13,
     "metadata": {},
     "output_type": "execute_result"
    },
    {
     "data": {
      "image/png": "[encoded data removed]",
      "text/plain": [
       "<Figure size 432x288 with 1 Axes>"
      ]
     },
     "metadata": {
      "needs_background": "light"
     },
     "output_type": "display_data"
    }
   ],
   "source": [
    "sns.boxplot(x='BldgType',y='SalePrice',data=train)"
   ]
  },
  {
   "cell_type": "code",
   "execution_count": 14,
   "id": "c632df87",
   "metadata": {},
   "outputs": [
    {
     "data": {
      "text/plain": [
       "<AxesSubplot:>"
      ]
     },
     "execution_count": 14,
     "metadata": {},
     "output_type": "execute_result"
    },
    {
     "data": {
      "image/png": "[encoded data removed]",
      "text/plain": [
       "<Figure size 504x720 with 2 Axes>"
      ]
     },
     "metadata": {
      "needs_background": "light"
     },
     "output_type": "display_data"
    }
   ],
   "source": [
    "top_corr = train.corr()[['SalePrice']].sort_values(by=['SalePrice'],ascending=False).head(30)\n",
    "plt.figure(figsize=(7,10))\n",
    "sns.heatmap(top_corr,cmap='rainbow',annot=True,annot_kws={\"size\": 16},vmin=-1)"
   ]
  },
  {
   "cell_type": "code",
   "execution_count": 15,
   "id": "d9bbcd26",
   "metadata": {},
   "outputs": [
    {
     "data": {
      "text/plain": [
       "<AxesSubplot:xlabel='YrSold'>"
      ]
     },
     "execution_count": 15,
     "metadata": {},
     "output_type": "execute_result"
    },
    {
     "data": {
      "image/png": "[encoded data removed]",
      "text/plain": [
       "<Figure size 432x288 with 1 Axes>"
      ]
     },
     "metadata": {
      "needs_background": "light"
     },
     "output_type": "display_data"
    }
   ],
   "source": [
    "#2008 housing crash can be seen\n",
    "train.groupby('YrSold').mean()['SalePrice'].plot()"
   ]
  },
  {
   "cell_type": "code",
   "execution_count": 16,
   "id": "8e8fde3b",
   "metadata": {},
   "outputs": [
    {
     "data": {
      "text/plain": [
       "<AxesSubplot:xlabel='MSSubClass'>"
      ]
     },
     "execution_count": 16,
     "metadata": {},
     "output_type": "execute_result"
    },
    {
     "data": {
      "image/png": "[encoded data removed]",
      "text/plain": [
       "<Figure size 432x288 with 1 Axes>"
      ]
     },
     "metadata": {
      "needs_background": "light"
     },
     "output_type": "display_data"
    }
   ],
   "source": [
    "train.groupby('MSSubClass').mean()['SalePrice'].plot(kind='bar')"
   ]
  },
  {
   "cell_type": "code",
   "execution_count": 17,
   "id": "959519b1",
   "metadata": {},
   "outputs": [
    {
     "data": {
      "text/plain": [
       "<AxesSubplot:xlabel='MSZoning'>"
      ]
     },
     "execution_count": 17,
     "metadata": {},
     "output_type": "execute_result"
    },
    {
     "data": {
      "image/png": "[encoded data removed]",
      "text/plain": [
       "<Figure size 432x288 with 1 Axes>"
      ]
     },
     "metadata": {
      "needs_background": "light"
     },
     "output_type": "display_data"
    }
   ],
   "source": [
    "train.groupby('MSZoning').mean()['SalePrice'].plot(kind='bar')"
   ]
  },
  {
   "cell_type": "code",
   "execution_count": 18,
   "id": "3de68c35",
   "metadata": {},
   "outputs": [
    {
     "data": {
      "text/plain": [
       "<seaborn.axisgrid.FacetGrid at 0x1ab4f71f8e0>"
      ]
     },
     "execution_count": 18,
     "metadata": {},
     "output_type": "execute_result"
    },
    {
     "data": {
      "image/png": "[encoded data removed]",
      "text/plain": [
       "<Figure size 506.875x432 with 1 Axes>"
      ]
     },
     "metadata": {
      "needs_background": "light"
     },
     "output_type": "display_data"
    }
   ],
   "source": [
    "#ames, iowa seems to be a more rural town\n",
    "sns.catplot(x=\"YrSold\", data=train, kind='count', hue='BldgType', height=6)"
   ]
  },
  {
   "cell_type": "code",
   "execution_count": 19,
   "id": "460ca6cb",
   "metadata": {},
   "outputs": [
    {
     "data": {
      "text/plain": [
       "<matplotlib.legend.Legend at 0x1ab4faa5850>"
      ]
     },
     "execution_count": 19,
     "metadata": {},
     "output_type": "execute_result"
    },
    {
     "data": {
      "image/png": "[encoded data removed]",
      "text/plain": [
       "<Figure size 864x216 with 1 Axes>"
      ]
     },
     "metadata": {},
     "output_type": "display_data"
    }
   ],
   "source": [
    "sns.set_style('darkgrid')\n",
    "fig = sns.FacetGrid(data=train,hue='SaleCondition',aspect=4)\n",
    "fig.map(sns.kdeplot,'SalePrice',shade=True)\n",
    "max_val = train['SalePrice'].max()\n",
    "fig.set(xlim=(0,max_val))\n",
    "plt.legend()"
   ]
  },
  {
   "cell_type": "code",
   "execution_count": 20,
   "id": "fd66f451",
   "metadata": {},
   "outputs": [
    {
     "data": {
      "text/plain": [
       "<seaborn.axisgrid.FacetGrid at 0x1ab4fa9f250>"
      ]
     },
     "execution_count": 20,
     "metadata": {},
     "output_type": "execute_result"
    },
    {
     "data": {
      "image/png": "[encoded data removed]",
      "text/plain": [
       "<Figure size 360x360 with 1 Axes>"
      ]
     },
     "metadata": {},
     "output_type": "display_data"
    }
   ],
   "source": [
    "sns.lmplot(x='1stFlrSF',y='SalePrice',data=train)"
   ]
  },
  {
   "cell_type": "code",
   "execution_count": 21,
   "id": "1700ffe2",
   "metadata": {},
   "outputs": [
    {
     "data": {
      "text/plain": [
       "<AxesSubplot:xlabel='SaleType'>"
      ]
     },
     "execution_count": 21,
     "metadata": {},
     "output_type": "execute_result"
    },
    {
     "data": {
      "image/png": "[encoded data removed]",
      "text/plain": [
       "<Figure size 432x288 with 1 Axes>"
      ]
     },
     "metadata": {},
     "output_type": "display_data"
    }
   ],
   "source": [
    "train.groupby('SaleType').mean()['SalePrice'].plot(kind='bar')"
   ]
  },
  {
   "cell_type": "code",
   "execution_count": 22,
   "id": "4d3fdec8",
   "metadata": {},
   "outputs": [
    {
     "data": {
      "text/plain": [
       "<AxesSubplot:xlabel='MiscVal', ylabel='SalePrice'>"
      ]
     },
     "execution_count": 22,
     "metadata": {},
     "output_type": "execute_result"
    },
    {
     "data": {
      "image/png": "[encoded data removed]",
      "text/plain": [
       "<Figure size 432x288 with 1 Axes>"
      ]
     },
     "metadata": {},
     "output_type": "display_data"
    }
   ],
   "source": [
    "sns.scatterplot(x='MiscVal',y='SalePrice',data=train)"
   ]
  },
  {
   "cell_type": "code",
   "execution_count": 23,
   "id": "dec16382",
   "metadata": {},
   "outputs": [
    {
     "data": {
      "text/plain": [
       "<AxesSubplot:xlabel='Electrical', ylabel='SalePrice'>"
      ]
     },
     "execution_count": 23,
     "metadata": {},
     "output_type": "execute_result"
    },
    {
     "data": {
      "image/png": "[encoded data removed]",
      "text/plain": [
       "<Figure size 432x288 with 1 Axes>"
      ]
     },
     "metadata": {},
     "output_type": "display_data"
    }
   ],
   "source": [
    "sns.scatterplot(x='Electrical',y='SalePrice',data=train)"
   ]
  },
  {
   "cell_type": "code",
   "execution_count": 24,
   "id": "0ea6f80a",
   "metadata": {},
   "outputs": [],
   "source": [
    "#Part 2\n",
    "#Data preprocessing"
   ]
  },
  {
   "cell_type": "code",
   "execution_count": 25,
   "id": "dd5035de",
   "metadata": {},
   "outputs": [
    {
     "data": {
      "text/plain": [
       "691     755000\n",
       "1182    745000\n",
       "1169    625000\n",
       "898     611657\n",
       "803     582933\n",
       "1046    556581\n",
       "440     555000\n",
       "769     538000\n",
       "178     501837\n",
       "798     485000\n",
       "Name: SalePrice, dtype: int64"
      ]
     },
     "execution_count": 25,
     "metadata": {},
     "output_type": "execute_result"
    }
   ],
   "source": [
    "#remove price outliers\n",
    "train['SalePrice'].sort_values(ascending=False).head(10)"
   ]
  },
  {
   "cell_type": "code",
   "execution_count": 26,
   "id": "1d46ef84",
   "metadata": {},
   "outputs": [],
   "source": [
    "train = train[train['SalePrice'] < 500000]"
   ]
  },
  {
   "cell_type": "code",
   "execution_count": 27,
   "id": "d6d8470e",
   "metadata": {},
   "outputs": [
    {
     "data": {
      "text/plain": [
       "1298    5642\n",
       "523     4676\n",
       "304     3493\n",
       "1268    3447\n",
       "1353    3238\n",
       "496     3228\n",
       "118     3222\n",
       "608     3194\n",
       "798     3140\n",
       "185     3036\n",
       "dtype: int64"
      ]
     },
     "execution_count": 27,
     "metadata": {},
     "output_type": "execute_result"
    }
   ],
   "source": [
    "#remove square footage outliers\n",
    "(train['1stFlrSF'] + train['2ndFlrSF']).sort_values(ascending=False).head(10)"
   ]
  },
  {
   "cell_type": "code",
   "execution_count": 28,
   "id": "01af28f0",
   "metadata": {},
   "outputs": [],
   "source": [
    "train = train[(train['1stFlrSF'] + train['2ndFlrSF']) < 3200]"
   ]
  },
  {
   "cell_type": "code",
   "execution_count": 29,
   "id": "2bda0f5a",
   "metadata": {},
   "outputs": [
    {
     "data": {
      "text/plain": [
       "((1444, 81), (1459, 80))"
      ]
     },
     "execution_count": 29,
     "metadata": {},
     "output_type": "execute_result"
    }
   ],
   "source": [
    "train.shape, test.shape"
   ]
  },
  {
   "cell_type": "code",
   "execution_count": 30,
   "id": "9371940b",
   "metadata": {},
   "outputs": [
    {
     "data": {
      "text/html": [
       "<div>\n",
       "<style scoped>\n",
       "    .dataframe tbody tr th:only-of-type {\n",
       "        vertical-align: middle;\n",
       "    }\n",
       "\n",
       "    .dataframe tbody tr th {\n",
       "        vertical-align: top;\n",
       "    }\n",
       "\n",
       "    .dataframe thead th {\n",
       "        text-align: right;\n",
       "    }\n",
       "</style>\n",
       "<table border=\"1\" class=\"dataframe\">\n",
       "  <thead>\n",
       "    <tr style=\"text-align: right;\">\n",
       "      <th></th>\n",
       "      <th>Id</th>\n",
       "      <th>MSSubClass</th>\n",
       "      <th>MSZoning</th>\n",
       "      <th>LotFrontage</th>\n",
       "      <th>LotArea</th>\n",
       "      <th>Street</th>\n",
       "      <th>Alley</th>\n",
       "      <th>LotShape</th>\n",
       "      <th>LandContour</th>\n",
       "      <th>Utilities</th>\n",
       "      <th>...</th>\n",
       "      <th>ScreenPorch</th>\n",
       "      <th>PoolArea</th>\n",
       "      <th>PoolQC</th>\n",
       "      <th>Fence</th>\n",
       "      <th>MiscFeature</th>\n",
       "      <th>MiscVal</th>\n",
       "      <th>MoSold</th>\n",
       "      <th>YrSold</th>\n",
       "      <th>SaleType</th>\n",
       "      <th>SaleCondition</th>\n",
       "    </tr>\n",
       "  </thead>\n",
       "  <tbody>\n",
       "    <tr>\n",
       "      <th>0</th>\n",
       "      <td>1</td>\n",
       "      <td>60</td>\n",
       "      <td>RL</td>\n",
       "      <td>65.0</td>\n",
       "      <td>8450</td>\n",
       "      <td>Pave</td>\n",
       "      <td>NaN</td>\n",
       "      <td>Reg</td>\n",
       "      <td>Lvl</td>\n",
       "      <td>AllPub</td>\n",
       "      <td>...</td>\n",
       "      <td>0</td>\n",
       "      <td>0</td>\n",
       "      <td>NaN</td>\n",
       "      <td>NaN</td>\n",
       "      <td>NaN</td>\n",
       "      <td>0</td>\n",
       "      <td>2</td>\n",
       "      <td>2008</td>\n",
       "      <td>WD</td>\n",
       "      <td>Normal</td>\n",
       "    </tr>\n",
       "    <tr>\n",
       "      <th>1</th>\n",
       "      <td>2</td>\n",
       "      <td>20</td>\n",
       "      <td>RL</td>\n",
       "      <td>80.0</td>\n",
       "      <td>9600</td>\n",
       "      <td>Pave</td>\n",
       "      <td>NaN</td>\n",
       "      <td>Reg</td>\n",
       "      <td>Lvl</td>\n",
       "      <td>AllPub</td>\n",
       "      <td>...</td>\n",
       "      <td>0</td>\n",
       "      <td>0</td>\n",
       "      <td>NaN</td>\n",
       "      <td>NaN</td>\n",
       "      <td>NaN</td>\n",
       "      <td>0</td>\n",
       "      <td>5</td>\n",
       "      <td>2007</td>\n",
       "      <td>WD</td>\n",
       "      <td>Normal</td>\n",
       "    </tr>\n",
       "    <tr>\n",
       "      <th>2</th>\n",
       "      <td>3</td>\n",
       "      <td>60</td>\n",
       "      <td>RL</td>\n",
       "      <td>68.0</td>\n",
       "      <td>11250</td>\n",
       "      <td>Pave</td>\n",
       "      <td>NaN</td>\n",
       "      <td>IR1</td>\n",
       "      <td>Lvl</td>\n",
       "      <td>AllPub</td>\n",
       "      <td>...</td>\n",
       "      <td>0</td>\n",
       "      <td>0</td>\n",
       "      <td>NaN</td>\n",
       "      <td>NaN</td>\n",
       "      <td>NaN</td>\n",
       "      <td>0</td>\n",
       "      <td>9</td>\n",
       "      <td>2008</td>\n",
       "      <td>WD</td>\n",
       "      <td>Normal</td>\n",
       "    </tr>\n",
       "    <tr>\n",
       "      <th>3</th>\n",
       "      <td>4</td>\n",
       "      <td>70</td>\n",
       "      <td>RL</td>\n",
       "      <td>60.0</td>\n",
       "      <td>9550</td>\n",
       "      <td>Pave</td>\n",
       "      <td>NaN</td>\n",
       "      <td>IR1</td>\n",
       "      <td>Lvl</td>\n",
       "      <td>AllPub</td>\n",
       "      <td>...</td>\n",
       "      <td>0</td>\n",
       "      <td>0</td>\n",
       "      <td>NaN</td>\n",
       "      <td>NaN</td>\n",
       "      <td>NaN</td>\n",
       "      <td>0</td>\n",
       "      <td>2</td>\n",
       "      <td>2006</td>\n",
       "      <td>WD</td>\n",
       "      <td>Abnorml</td>\n",
       "    </tr>\n",
       "    <tr>\n",
       "      <th>4</th>\n",
       "      <td>5</td>\n",
       "      <td>60</td>\n",
       "      <td>RL</td>\n",
       "      <td>84.0</td>\n",
       "      <td>14260</td>\n",
       "      <td>Pave</td>\n",
       "      <td>NaN</td>\n",
       "      <td>IR1</td>\n",
       "      <td>Lvl</td>\n",
       "      <td>AllPub</td>\n",
       "      <td>...</td>\n",
       "      <td>0</td>\n",
       "      <td>0</td>\n",
       "      <td>NaN</td>\n",
       "      <td>NaN</td>\n",
       "      <td>NaN</td>\n",
       "      <td>0</td>\n",
       "      <td>12</td>\n",
       "      <td>2008</td>\n",
       "      <td>WD</td>\n",
       "      <td>Normal</td>\n",
       "    </tr>\n",
       "    <tr>\n",
       "      <th>...</th>\n",
       "      <td>...</td>\n",
       "      <td>...</td>\n",
       "      <td>...</td>\n",
       "      <td>...</td>\n",
       "      <td>...</td>\n",
       "      <td>...</td>\n",
       "      <td>...</td>\n",
       "      <td>...</td>\n",
       "      <td>...</td>\n",
       "      <td>...</td>\n",
       "      <td>...</td>\n",
       "      <td>...</td>\n",
       "      <td>...</td>\n",
       "      <td>...</td>\n",
       "      <td>...</td>\n",
       "      <td>...</td>\n",
       "      <td>...</td>\n",
       "      <td>...</td>\n",
       "      <td>...</td>\n",
       "      <td>...</td>\n",
       "      <td>...</td>\n",
       "    </tr>\n",
       "    <tr>\n",
       "      <th>2898</th>\n",
       "      <td>2915</td>\n",
       "      <td>160</td>\n",
       "      <td>RM</td>\n",
       "      <td>21.0</td>\n",
       "      <td>1936</td>\n",
       "      <td>Pave</td>\n",
       "      <td>NaN</td>\n",
       "      <td>Reg</td>\n",
       "      <td>Lvl</td>\n",
       "      <td>AllPub</td>\n",
       "      <td>...</td>\n",
       "      <td>0</td>\n",
       "      <td>0</td>\n",
       "      <td>NaN</td>\n",
       "      <td>NaN</td>\n",
       "      <td>NaN</td>\n",
       "      <td>0</td>\n",
       "      <td>6</td>\n",
       "      <td>2006</td>\n",
       "      <td>WD</td>\n",
       "      <td>Normal</td>\n",
       "    </tr>\n",
       "    <tr>\n",
       "      <th>2899</th>\n",
       "      <td>2916</td>\n",
       "      <td>160</td>\n",
       "      <td>RM</td>\n",
       "      <td>21.0</td>\n",
       "      <td>1894</td>\n",
       "      <td>Pave</td>\n",
       "      <td>NaN</td>\n",
       "      <td>Reg</td>\n",
       "      <td>Lvl</td>\n",
       "      <td>AllPub</td>\n",
       "      <td>...</td>\n",
       "      <td>0</td>\n",
       "      <td>0</td>\n",
       "      <td>NaN</td>\n",
       "      <td>NaN</td>\n",
       "      <td>NaN</td>\n",
       "      <td>0</td>\n",
       "      <td>4</td>\n",
       "      <td>2006</td>\n",
       "      <td>WD</td>\n",
       "      <td>Abnorml</td>\n",
       "    </tr>\n",
       "    <tr>\n",
       "      <th>2900</th>\n",
       "      <td>2917</td>\n",
       "      <td>20</td>\n",
       "      <td>RL</td>\n",
       "      <td>160.0</td>\n",
       "      <td>20000</td>\n",
       "      <td>Pave</td>\n",
       "      <td>NaN</td>\n",
       "      <td>Reg</td>\n",
       "      <td>Lvl</td>\n",
       "      <td>AllPub</td>\n",
       "      <td>...</td>\n",
       "      <td>0</td>\n",
       "      <td>0</td>\n",
       "      <td>NaN</td>\n",
       "      <td>NaN</td>\n",
       "      <td>NaN</td>\n",
       "      <td>0</td>\n",
       "      <td>9</td>\n",
       "      <td>2006</td>\n",
       "      <td>WD</td>\n",
       "      <td>Abnorml</td>\n",
       "    </tr>\n",
       "    <tr>\n",
       "      <th>2901</th>\n",
       "      <td>2918</td>\n",
       "      <td>85</td>\n",
       "      <td>RL</td>\n",
       "      <td>62.0</td>\n",
       "      <td>10441</td>\n",
       "      <td>Pave</td>\n",
       "      <td>NaN</td>\n",
       "      <td>Reg</td>\n",
       "      <td>Lvl</td>\n",
       "      <td>AllPub</td>\n",
       "      <td>...</td>\n",
       "      <td>0</td>\n",
       "      <td>0</td>\n",
       "      <td>NaN</td>\n",
       "      <td>MnPrv</td>\n",
       "      <td>Shed</td>\n",
       "      <td>700</td>\n",
       "      <td>7</td>\n",
       "      <td>2006</td>\n",
       "      <td>WD</td>\n",
       "      <td>Normal</td>\n",
       "    </tr>\n",
       "    <tr>\n",
       "      <th>2902</th>\n",
       "      <td>2919</td>\n",
       "      <td>60</td>\n",
       "      <td>RL</td>\n",
       "      <td>74.0</td>\n",
       "      <td>9627</td>\n",
       "      <td>Pave</td>\n",
       "      <td>NaN</td>\n",
       "      <td>Reg</td>\n",
       "      <td>Lvl</td>\n",
       "      <td>AllPub</td>\n",
       "      <td>...</td>\n",
       "      <td>0</td>\n",
       "      <td>0</td>\n",
       "      <td>NaN</td>\n",
       "      <td>NaN</td>\n",
       "      <td>NaN</td>\n",
       "      <td>0</td>\n",
       "      <td>11</td>\n",
       "      <td>2006</td>\n",
       "      <td>WD</td>\n",
       "      <td>Normal</td>\n",
       "    </tr>\n",
       "  </tbody>\n",
       "</table>\n",
       "<p>2903 rows × 80 columns</p>\n",
       "</div>"
      ],
      "text/plain": [
       "        Id  MSSubClass MSZoning  LotFrontage  LotArea Street Alley LotShape  \\\n",
       "0        1          60       RL         65.0     8450   Pave   NaN      Reg   \n",
       "1        2          20       RL         80.0     9600   Pave   NaN      Reg   \n",
       "2        3          60       RL         68.0    11250   Pave   NaN      IR1   \n",
       "3        4          70       RL         60.0     9550   Pave   NaN      IR1   \n",
       "4        5          60       RL         84.0    14260   Pave   NaN      IR1   \n",
       "...    ...         ...      ...          ...      ...    ...   ...      ...   \n",
       "2898  2915         160       RM         21.0     1936   Pave   NaN      Reg   \n",
       "2899  2916         160       RM         21.0     1894   Pave   NaN      Reg   \n",
       "2900  2917          20       RL        160.0    20000   Pave   NaN      Reg   \n",
       "2901  2918          85       RL         62.0    10441   Pave   NaN      Reg   \n",
       "2902  2919          60       RL         74.0     9627   Pave   NaN      Reg   \n",
       "\n",
       "     LandContour Utilities  ... ScreenPorch PoolArea PoolQC  Fence  \\\n",
       "0            Lvl    AllPub  ...           0        0    NaN    NaN   \n",
       "1            Lvl    AllPub  ...           0        0    NaN    NaN   \n",
       "2            Lvl    AllPub  ...           0        0    NaN    NaN   \n",
       "3            Lvl    AllPub  ...           0        0    NaN    NaN   \n",
       "4            Lvl    AllPub  ...           0        0    NaN    NaN   \n",
       "...          ...       ...  ...         ...      ...    ...    ...   \n",
       "2898         Lvl    AllPub  ...           0        0    NaN    NaN   \n",
       "2899         Lvl    AllPub  ...           0        0    NaN    NaN   \n",
       "2900         Lvl    AllPub  ...           0        0    NaN    NaN   \n",
       "2901         Lvl    AllPub  ...           0        0    NaN  MnPrv   \n",
       "2902         Lvl    AllPub  ...           0        0    NaN    NaN   \n",
       "\n",
       "     MiscFeature MiscVal MoSold  YrSold  SaleType  SaleCondition  \n",
       "0            NaN       0      2    2008        WD         Normal  \n",
       "1            NaN       0      5    2007        WD         Normal  \n",
       "2            NaN       0      9    2008        WD         Normal  \n",
       "3            NaN       0      2    2006        WD        Abnorml  \n",
       "4            NaN       0     12    2008        WD         Normal  \n",
       "...          ...     ...    ...     ...       ...            ...  \n",
       "2898         NaN       0      6    2006        WD         Normal  \n",
       "2899         NaN       0      4    2006        WD        Abnorml  \n",
       "2900         NaN       0      9    2006        WD        Abnorml  \n",
       "2901        Shed     700      7    2006        WD         Normal  \n",
       "2902         NaN       0     11    2006        WD         Normal  \n",
       "\n",
       "[2903 rows x 80 columns]"
      ]
     },
     "execution_count": 30,
     "metadata": {},
     "output_type": "execute_result"
    }
   ],
   "source": [
    "#combining both train and test to process together\n",
    "sale_prices = train['SalePrice']\n",
    "combined_df = pd.concat([train,test],axis=0).reset_index(drop=True)\n",
    "combined_df.drop(['SalePrice'],axis=1,inplace=True)\n",
    "combined_df"
   ]
  },
  {
   "cell_type": "code",
   "execution_count": 31,
   "id": "e52e690f",
   "metadata": {},
   "outputs": [
    {
     "data": {
      "text/plain": [
       "MSZoning           4\n",
       "LotFrontage      484\n",
       "Alley           2705\n",
       "Utilities          2\n",
       "Exterior1st        1\n",
       "Exterior2nd        1\n",
       "MasVnrType        24\n",
       "MasVnrArea        23\n",
       "BsmtQual          81\n",
       "BsmtCond          82\n",
       "BsmtExposure      82\n",
       "BsmtFinType1      79\n",
       "BsmtFinSF1         1\n",
       "BsmtFinType2      80\n",
       "BsmtFinSF2         1\n",
       "BsmtUnfSF          1\n",
       "TotalBsmtSF        1\n",
       "Electrical         1\n",
       "BsmtFullBath       2\n",
       "BsmtHalfBath       2\n",
       "KitchenQual        1\n",
       "Functional         2\n",
       "FireplaceQu     1420\n",
       "GarageType       157\n",
       "GarageYrBlt      159\n",
       "GarageFinish     159\n",
       "GarageCars         1\n",
       "GarageArea         1\n",
       "GarageQual       159\n",
       "GarageCond       159\n",
       "PoolQC          2895\n",
       "Fence           2334\n",
       "MiscFeature     2798\n",
       "SaleType           1\n",
       "dtype: int64"
      ]
     },
     "execution_count": 31,
     "metadata": {},
     "output_type": "execute_result"
    }
   ],
   "source": [
    "#fill or remove null columns\n",
    "combined_df.isnull().sum()[combined_df.isnull().sum() > 0]"
   ]
  },
  {
   "cell_type": "code",
   "execution_count": 32,
   "id": "9bebdef6",
   "metadata": {},
   "outputs": [],
   "source": [
    "combined_df['GarageType'].fillna(\"None\",inplace=True)"
   ]
  },
  {
   "cell_type": "code",
   "execution_count": 33,
   "id": "1fce3009",
   "metadata": {},
   "outputs": [],
   "source": [
    "#redundant/unnecessary columns\n",
    "combined_df.drop(['BsmtQual','GarageArea','GarageQual','GarageFinish','GarageYrBlt','GarageCond'],axis=1,inplace=True)"
   ]
  },
  {
   "cell_type": "code",
   "execution_count": 34,
   "id": "295b3823",
   "metadata": {},
   "outputs": [
    {
     "data": {
      "text/plain": [
       "Shed    95\n",
       "Gar2     5\n",
       "Othr     4\n",
       "TenC     1\n",
       "Name: MiscFeature, dtype: int64"
      ]
     },
     "execution_count": 34,
     "metadata": {},
     "output_type": "execute_result"
    }
   ],
   "source": [
    "combined_df['MiscFeature'].value_counts()"
   ]
  },
  {
   "cell_type": "code",
   "execution_count": 35,
   "id": "87e399d6",
   "metadata": {},
   "outputs": [],
   "source": [
    "#too few miscellaneous features to make a difference\n",
    "combined_df.drop(['MiscFeature','MiscVal'],axis=1,inplace=True)"
   ]
  },
  {
   "cell_type": "code",
   "execution_count": 36,
   "id": "6cb86b5f",
   "metadata": {},
   "outputs": [],
   "source": [
    "#these columns are mostly null values\n",
    "combined_df.drop(['Alley','FireplaceQu','PoolQC'],axis=1,inplace=True)"
   ]
  },
  {
   "cell_type": "code",
   "execution_count": 37,
   "id": "bec73117",
   "metadata": {},
   "outputs": [],
   "source": [
    "combined_df['Fence'].fillna(\"None\",inplace=True)"
   ]
  },
  {
   "cell_type": "code",
   "execution_count": 38,
   "id": "f0117d0a",
   "metadata": {},
   "outputs": [
    {
     "data": {
      "text/plain": [
       "MSZoning          4\n",
       "LotFrontage     484\n",
       "Utilities         2\n",
       "Exterior1st       1\n",
       "Exterior2nd       1\n",
       "MasVnrType       24\n",
       "MasVnrArea       23\n",
       "BsmtCond         82\n",
       "BsmtExposure     82\n",
       "BsmtFinType1     79\n",
       "BsmtFinSF1        1\n",
       "BsmtFinType2     80\n",
       "BsmtFinSF2        1\n",
       "BsmtUnfSF         1\n",
       "TotalBsmtSF       1\n",
       "Electrical        1\n",
       "BsmtFullBath      2\n",
       "BsmtHalfBath      2\n",
       "KitchenQual       1\n",
       "Functional        2\n",
       "GarageCars        1\n",
       "SaleType          1\n",
       "dtype: int64"
      ]
     },
     "execution_count": 38,
     "metadata": {},
     "output_type": "execute_result"
    }
   ],
   "source": [
    "combined_df.isnull().sum()[combined_df.isnull().sum() > 0]"
   ]
  },
  {
   "cell_type": "code",
   "execution_count": 39,
   "id": "3e1434fd",
   "metadata": {},
   "outputs": [],
   "source": [
    "for i in ('LotFrontage','MasVnrArea','GarageCars','BsmtUnfSF','TotalBsmtSF','BsmtFullBath','BsmtHalfBath'): \n",
    "    combined_df[i].fillna(0,inplace=True)\n",
    "for i in ('BsmtCond','BsmtExposure','BsmtFinType1','BsmtFinType2','MasVnrType'):\n",
    "    combined_df[i].fillna(\"None\",inplace=True)\n",
    "    \n",
    "combined_df['Electrical'].fillna(\"Mix\",inplace=True)\n",
    "combined_df['MSZoning'].fillna(\"RL\",inplace=True)\n",
    "combined_df['Exterior1st'].fillna(\"Other\",inplace=True)\n",
    "combined_df['Exterior2nd'].fillna(\"Other\",inplace=True)\n",
    "combined_df['KitchenQual'].fillna(\"TA\",inplace=True)\n",
    "combined_df['Functional'].fillna(\"Typ\",inplace=True)\n",
    "combined_df['SaleType'].fillna(\"WD\",inplace=True)"
   ]
  },
  {
   "cell_type": "code",
   "execution_count": 40,
   "id": "b210fb1e",
   "metadata": {},
   "outputs": [
    {
     "data": {
      "text/plain": [
       "WD       2516\n",
       "New       233\n",
       "COD        87\n",
       "ConLD      26\n",
       "CWD        12\n",
       "ConLI       9\n",
       "ConLw       8\n",
       "Oth         7\n",
       "Con         5\n",
       "Name: SaleType, dtype: int64"
      ]
     },
     "execution_count": 40,
     "metadata": {},
     "output_type": "execute_result"
    }
   ],
   "source": [
    "combined_df['SaleType'].value_counts()"
   ]
  },
  {
   "cell_type": "code",
   "execution_count": 41,
   "id": "892db74e",
   "metadata": {},
   "outputs": [],
   "source": [
    "#electrical column doesnt tell us much\n",
    "combined_df.drop('Electrical',axis=1,inplace=True)"
   ]
  },
  {
   "cell_type": "code",
   "execution_count": 42,
   "id": "2bd05118",
   "metadata": {},
   "outputs": [
    {
     "data": {
      "text/plain": [
       "20     1075\n",
       "60      566\n",
       "50      285\n",
       "120     182\n",
       "30      139\n",
       "70      128\n",
       "160     128\n",
       "80      118\n",
       "90      109\n",
       "190      61\n",
       "85       48\n",
       "75       22\n",
       "45       18\n",
       "180      17\n",
       "40        6\n",
       "150       1\n",
       "Name: MSSubClass, dtype: int64"
      ]
     },
     "execution_count": 42,
     "metadata": {},
     "output_type": "execute_result"
    }
   ],
   "source": [
    "#each number is a code for a type of dwelling (e.g. duplex, 2 story, etc.)\n",
    "combined_df['MSSubClass'].value_counts()"
   ]
  },
  {
   "cell_type": "code",
   "execution_count": 43,
   "id": "d4897fe5",
   "metadata": {},
   "outputs": [],
   "source": [
    "#bldgtype and housestyle are very similar to mssubclass, drop these columns\n",
    "combined_df.drop(['HouseStyle','BldgType'],axis=1,inplace=True)"
   ]
  },
  {
   "cell_type": "code",
   "execution_count": 44,
   "id": "42de6dbd",
   "metadata": {},
   "outputs": [
    {
     "name": "stdout",
     "output_type": "stream",
     "text": [
      "Pave    2891\n",
      "Grvl      12\n",
      "Name: Street, dtype: int64\n"
     ]
    }
   ],
   "source": [
    "print(combined_df['Street'].value_counts())\n",
    "\n",
    "#not enough data for gravel streets, remove the column\n",
    "combined_df.drop('Street',axis=1,inplace=True)"
   ]
  },
  {
   "cell_type": "code",
   "execution_count": 45,
   "id": "ddae0555",
   "metadata": {},
   "outputs": [
    {
     "name": "stdout",
     "output_type": "stream",
     "text": [
      "AllPub    2900\n",
      "NoSeWa       1\n",
      "Name: Utilities, dtype: int64\n"
     ]
    }
   ],
   "source": [
    "print(combined_df['Utilities'].value_counts())\n",
    "combined_df.drop('Utilities',axis=1,inplace=True)"
   ]
  },
  {
   "cell_type": "code",
   "execution_count": 46,
   "id": "80459dd2",
   "metadata": {},
   "outputs": [],
   "source": [
    "#lotshape, landslope and landcontour are very similar\n",
    "combined_df.drop(['LotShape','LandSlope'],axis=1,inplace=True)"
   ]
  },
  {
   "cell_type": "code",
   "execution_count": 47,
   "id": "d78c936e",
   "metadata": {},
   "outputs": [
    {
     "data": {
      "text/plain": [
       "Normal     2393\n",
       "Partial     239\n",
       "Abnorml     189\n",
       "Family       46\n",
       "Alloca       24\n",
       "AdjLand      12\n",
       "Name: SaleCondition, dtype: int64"
      ]
     },
     "execution_count": 47,
     "metadata": {},
     "output_type": "execute_result"
    }
   ],
   "source": [
    "combined_df['SaleCondition'].value_counts()"
   ]
  },
  {
   "cell_type": "code",
   "execution_count": 48,
   "id": "d1c9a162",
   "metadata": {},
   "outputs": [
    {
     "data": {
      "text/plain": [
       "Typ     2704\n",
       "Min2      70\n",
       "Min1      65\n",
       "Mod       34\n",
       "Maj1      19\n",
       "Maj2       9\n",
       "Sev        2\n",
       "Name: Functional, dtype: int64"
      ]
     },
     "execution_count": 48,
     "metadata": {},
     "output_type": "execute_result"
    }
   ],
   "source": [
    "combined_df['Functional'].value_counts()"
   ]
  },
  {
   "cell_type": "code",
   "execution_count": 49,
   "id": "c62c95bc",
   "metadata": {},
   "outputs": [
    {
     "name": "stdout",
     "output_type": "stream",
     "text": [
      "666    129000\n",
      "Name: SalePrice, dtype: int64\n"
     ]
    }
   ],
   "source": [
    "print(train[train['Functional'] == \"Sev\"]['SalePrice'])"
   ]
  },
  {
   "cell_type": "code",
   "execution_count": 50,
   "id": "9d7465ab",
   "metadata": {},
   "outputs": [
    {
     "data": {
      "text/html": [
       "<div>\n",
       "<style scoped>\n",
       "    .dataframe tbody tr th:only-of-type {\n",
       "        vertical-align: middle;\n",
       "    }\n",
       "\n",
       "    .dataframe tbody tr th {\n",
       "        vertical-align: top;\n",
       "    }\n",
       "\n",
       "    .dataframe thead th {\n",
       "        text-align: right;\n",
       "    }\n",
       "</style>\n",
       "<table border=\"1\" class=\"dataframe\">\n",
       "  <thead>\n",
       "    <tr style=\"text-align: right;\">\n",
       "      <th></th>\n",
       "      <th>1stFlrSF</th>\n",
       "      <th>2ndFlrSF</th>\n",
       "      <th>GrLivArea</th>\n",
       "    </tr>\n",
       "  </thead>\n",
       "  <tbody>\n",
       "    <tr>\n",
       "      <th>0</th>\n",
       "      <td>856</td>\n",
       "      <td>854</td>\n",
       "      <td>1710</td>\n",
       "    </tr>\n",
       "    <tr>\n",
       "      <th>1</th>\n",
       "      <td>1262</td>\n",
       "      <td>0</td>\n",
       "      <td>1262</td>\n",
       "    </tr>\n",
       "    <tr>\n",
       "      <th>2</th>\n",
       "      <td>920</td>\n",
       "      <td>866</td>\n",
       "      <td>1786</td>\n",
       "    </tr>\n",
       "    <tr>\n",
       "      <th>3</th>\n",
       "      <td>961</td>\n",
       "      <td>756</td>\n",
       "      <td>1717</td>\n",
       "    </tr>\n",
       "    <tr>\n",
       "      <th>4</th>\n",
       "      <td>1145</td>\n",
       "      <td>1053</td>\n",
       "      <td>2198</td>\n",
       "    </tr>\n",
       "    <tr>\n",
       "      <th>...</th>\n",
       "      <td>...</td>\n",
       "      <td>...</td>\n",
       "      <td>...</td>\n",
       "    </tr>\n",
       "    <tr>\n",
       "      <th>2898</th>\n",
       "      <td>546</td>\n",
       "      <td>546</td>\n",
       "      <td>1092</td>\n",
       "    </tr>\n",
       "    <tr>\n",
       "      <th>2899</th>\n",
       "      <td>546</td>\n",
       "      <td>546</td>\n",
       "      <td>1092</td>\n",
       "    </tr>\n",
       "    <tr>\n",
       "      <th>2900</th>\n",
       "      <td>1224</td>\n",
       "      <td>0</td>\n",
       "      <td>1224</td>\n",
       "    </tr>\n",
       "    <tr>\n",
       "      <th>2901</th>\n",
       "      <td>970</td>\n",
       "      <td>0</td>\n",
       "      <td>970</td>\n",
       "    </tr>\n",
       "    <tr>\n",
       "      <th>2902</th>\n",
       "      <td>996</td>\n",
       "      <td>1004</td>\n",
       "      <td>2000</td>\n",
       "    </tr>\n",
       "  </tbody>\n",
       "</table>\n",
       "<p>2903 rows × 3 columns</p>\n",
       "</div>"
      ],
      "text/plain": [
       "      1stFlrSF  2ndFlrSF  GrLivArea\n",
       "0          856       854       1710\n",
       "1         1262         0       1262\n",
       "2          920       866       1786\n",
       "3          961       756       1717\n",
       "4         1145      1053       2198\n",
       "...        ...       ...        ...\n",
       "2898       546       546       1092\n",
       "2899       546       546       1092\n",
       "2900      1224         0       1224\n",
       "2901       970         0        970\n",
       "2902       996      1004       2000\n",
       "\n",
       "[2903 rows x 3 columns]"
      ]
     },
     "execution_count": 50,
     "metadata": {},
     "output_type": "execute_result"
    }
   ],
   "source": [
    "combined_df[['1stFlrSF','2ndFlrSF','GrLivArea']]"
   ]
  },
  {
   "cell_type": "code",
   "execution_count": 51,
   "id": "164d5a4b",
   "metadata": {},
   "outputs": [],
   "source": [
    "#we can just use total square footage\n",
    "combined_df.drop(['1stFlrSF','2ndFlrSF'],axis=1,inplace=True)"
   ]
  },
  {
   "cell_type": "code",
   "execution_count": 52,
   "id": "833897f3",
   "metadata": {},
   "outputs": [
    {
     "data": {
      "text/plain": [
       "Unf     2478\n",
       "Rec      105\n",
       "LwQ       87\n",
       "None      80\n",
       "BLQ       68\n",
       "ALQ       51\n",
       "GLQ       34\n",
       "Name: BsmtFinType2, dtype: int64"
      ]
     },
     "execution_count": 52,
     "metadata": {},
     "output_type": "execute_result"
    }
   ],
   "source": [
    "combined_df['BsmtFinType2'].value_counts()"
   ]
  },
  {
   "cell_type": "code",
   "execution_count": 53,
   "id": "ddac1abe",
   "metadata": {},
   "outputs": [],
   "source": [
    "#these 2 columns are redundant - BsmtUnfSF already describes square footage of unfinished area \n",
    "combined_df.drop(['BsmtFinSF1','BsmtFinSF2'],axis=1,inplace=True)"
   ]
  },
  {
   "cell_type": "code",
   "execution_count": 54,
   "id": "19c120bd",
   "metadata": {},
   "outputs": [
    {
     "data": {
      "image/png": "[encoded data removed]",
      "text/plain": [
       "<Figure size 432x288 with 1 Axes>"
      ]
     },
     "metadata": {},
     "output_type": "display_data"
    }
   ],
   "source": [
    "sns.scatterplot(x='WoodDeckSF',y='SalePrice',data=train)\n",
    "\n",
    "#no clear correlation, delete deck feature\n",
    "combined_df.drop('WoodDeckSF',axis=1,inplace=True)"
   ]
  },
  {
   "cell_type": "code",
   "execution_count": 55,
   "id": "d831d9cb",
   "metadata": {},
   "outputs": [
    {
     "data": {
      "text/plain": [
       "Normal     2393\n",
       "Partial     239\n",
       "Abnorml     189\n",
       "Family       46\n",
       "Alloca       24\n",
       "AdjLand      12\n",
       "Name: SaleCondition, dtype: int64"
      ]
     },
     "execution_count": 55,
     "metadata": {},
     "output_type": "execute_result"
    }
   ],
   "source": [
    "combined_df['SaleCondition'].value_counts()"
   ]
  },
  {
   "cell_type": "code",
   "execution_count": 56,
   "id": "7b3f5876",
   "metadata": {},
   "outputs": [
    {
     "data": {
      "text/plain": [
       "WD       2516\n",
       "New       233\n",
       "COD        87\n",
       "ConLD      26\n",
       "CWD        12\n",
       "ConLI       9\n",
       "ConLw       8\n",
       "Oth         7\n",
       "Con         5\n",
       "Name: SaleType, dtype: int64"
      ]
     },
     "execution_count": 56,
     "metadata": {},
     "output_type": "execute_result"
    }
   ],
   "source": [
    "combined_df['SaleType'].value_counts()"
   ]
  },
  {
   "cell_type": "code",
   "execution_count": 57,
   "id": "f77dc71b",
   "metadata": {},
   "outputs": [
    {
     "data": {
      "text/plain": [
       "Series([], dtype: int64)"
      ]
     },
     "execution_count": 57,
     "metadata": {},
     "output_type": "execute_result"
    }
   ],
   "source": [
    "#final check for null values\n",
    "combined_df.isnull().sum()[combined_df.isnull().sum() > 0]"
   ]
  },
  {
   "cell_type": "code",
   "execution_count": 58,
   "id": "b8ff924c",
   "metadata": {},
   "outputs": [],
   "source": [
    "#Part 3\n",
    "#Feature engineering"
   ]
  },
  {
   "cell_type": "code",
   "execution_count": 59,
   "id": "bf711735",
   "metadata": {},
   "outputs": [
    {
     "data": {
      "text/plain": [
       "VinylSd    1020\n",
       "MetalSd     450\n",
       "HdBoard     440\n",
       "Wd Sdng     410\n",
       "Plywood     220\n",
       "CemntBd     122\n",
       "BrkFace      86\n",
       "WdShing      56\n",
       "AsbShng      44\n",
       "Stucco       41\n",
       "BrkComm       6\n",
       "AsphShn       2\n",
       "Stone         2\n",
       "CBlock        2\n",
       "ImStucc       1\n",
       "Other         1\n",
       "Name: Exterior1st, dtype: int64"
      ]
     },
     "execution_count": 59,
     "metadata": {},
     "output_type": "execute_result"
    }
   ],
   "source": [
    "combined_df['Exterior1st'].value_counts()"
   ]
  },
  {
   "cell_type": "code",
   "execution_count": 60,
   "id": "a7a7d1bd",
   "metadata": {},
   "outputs": [],
   "source": [
    "#apply functions to dataframe\n",
    "\n",
    "def check_pool(area):\n",
    "    if area > 0:\n",
    "        return 1\n",
    "    else:\n",
    "        return 0\n",
    "\n",
    "def sort_conds(condition):\n",
    "    if condition[:3] == \"RRA\" or condition[:3] == \"RRN\":\n",
    "        return \"RR\"\n",
    "    elif condition[:3] == \"Pos\":\n",
    "        return \"Pos\"\n",
    "    else:\n",
    "        return condition\n",
    "\n",
    "def get_house_type(desc_code):\n",
    "    if desc_code in [20,30,40,45,50,120,150]: #1 storey homes\n",
    "        return 1\n",
    "    elif desc_code in [60,70,75,160]: #2 storey homes\n",
    "        return 2 \n",
    "    elif desc_code in [80,85]: #split levels\n",
    "        return 3\n",
    "    elif desc_code in [90,180,190]: #multifamily home\n",
    "        return 4\n",
    "\n",
    "def check_recent_remodel(date_built, remodel_date): #checks if home is modern and up-to-date\n",
    "    if remodel_date != date_built and remodel_date >= 1990:\n",
    "        return 1\n",
    "    return 0"
   ]
  },
  {
   "cell_type": "code",
   "execution_count": 61,
   "id": "4b66b081",
   "metadata": {},
   "outputs": [],
   "source": [
    "def engineer_features(data):\n",
    "    data['TotalBath'] = data['BsmtHalfBath'] + data['BsmtFullBath'] + data['FullBath'] + data['HalfBath']\n",
    "    data.drop(['BsmtHalfBath','BsmtFullBath','FullBath','HalfBath'],axis=1,inplace=True)\n",
    "    \n",
    "    data['EnclosedPorchSF'] = data['EnclosedPorch'] + data['3SsnPorch'] + data['ScreenPorch']\n",
    "    data.drop(['EnclosedPorch','3SsnPorch','ScreenPorch'],axis=1,inplace=True)\n",
    "\n",
    "    data['has_pool'] = data['PoolArea'].apply(check_pool)\n",
    "    data.drop('PoolArea',axis=1,inplace=True)\n",
    "    \n",
    "    data['Condition1'] = data['Condition1'].apply(sort_conds)\n",
    "    data['Condition2'] = data['Condition2'].apply(sort_conds)\n",
    "    data['MSSubClass'] = data['MSSubClass'].apply(get_house_type)\n",
    "    data['remodeled'] = data.apply(lambda x: check_recent_remodel(x['YearBuilt'],x['YearRemodAdd']), axis=1)\n",
    "    \n",
    "    #replace and group outlier data\n",
    "    data['SaleType'] = data['SaleType'].replace(['ConLD','ConLI','ConLw','CWD','Oth','Con'],'Contract')\n",
    "    data['SaleCondition'] = data['SaleCondition'].replace(['Family','Alloca','AdjLand'],'Other')\n",
    "    data['GarageType'] = data['GarageType'].replace(['CarPort','Basment'],'Other')\n",
    "    data['GarageType'] = data['GarageType'].replace('2Types','Attchd')\n",
    "    data['Heating'] = data['Heating'].replace(['Floor','GasW','Grav','OthW','Wall'],'Other')\n",
    "    data['Functional'] = data['Functional'].replace(['Maj1','Maj2','Sev','Sal'],'Damaged')\n",
    "    data['Exterior1st'] = data['Exterior1st'].replace(['BrkComm','AsphShn','Stone','CBlock','ImStucc'],'Other')\n",
    "    data['Exterior2nd'] = data['Exterior2nd'].replace(['BrkComm','AsphShn','Stone','CBlock','ImStucc','PreCast'],'Other')\n",
    "    \n",
    "    for feat in ['ExterQual','ExterCond','KitchenQual']:\n",
    "        data[feat] = data[feat].replace(['Fa','Po'],'TA')"
   ]
  },
  {
   "cell_type": "code",
   "execution_count": 62,
   "id": "14cdd78b",
   "metadata": {},
   "outputs": [],
   "source": [
    "engineer_features(combined_df)"
   ]
  },
  {
   "cell_type": "code",
   "execution_count": 63,
   "id": "7cbf945d",
   "metadata": {},
   "outputs": [],
   "source": [
    "#Step 4\n",
    "#Get one-hot encoded columns"
   ]
  },
  {
   "cell_type": "code",
   "execution_count": 64,
   "id": "d02c2468",
   "metadata": {},
   "outputs": [],
   "source": [
    "tmp_shape = train.shape[0]"
   ]
  },
  {
   "cell_type": "code",
   "execution_count": 65,
   "id": "f5187534",
   "metadata": {},
   "outputs": [],
   "source": [
    "#convert non numeric to numeric array\n",
    "from sklearn.preprocessing import OneHotEncoder"
   ]
  },
  {
   "cell_type": "code",
   "execution_count": 66,
   "id": "96a619a9",
   "metadata": {},
   "outputs": [
    {
     "data": {
      "text/plain": [
       "Index(['MSZoning', 'LandContour', 'LotConfig', 'Neighborhood', 'Condition1',\n",
       "       'Condition2', 'RoofStyle', 'RoofMatl', 'Exterior1st', 'Exterior2nd',\n",
       "       'MasVnrType', 'ExterQual', 'ExterCond', 'Foundation', 'BsmtCond',\n",
       "       'BsmtExposure', 'BsmtFinType1', 'BsmtFinType2', 'Heating', 'HeatingQC',\n",
       "       'CentralAir', 'KitchenQual', 'Functional', 'GarageType', 'PavedDrive',\n",
       "       'Fence', 'SaleType', 'SaleCondition'],\n",
       "      dtype='object')"
      ]
     },
     "execution_count": 66,
     "metadata": {},
     "output_type": "execute_result"
    }
   ],
   "source": [
    "#check which columns have non-numeric values\n",
    "combined_df.select_dtypes(include=['object']).columns"
   ]
  },
  {
   "cell_type": "code",
   "execution_count": 67,
   "id": "99776a5a",
   "metadata": {},
   "outputs": [],
   "source": [
    "#perform one-hot encoding on both test and train set\n",
    "encoder = OneHotEncoder(handle_unknown='ignore')"
   ]
  },
  {
   "cell_type": "code",
   "execution_count": 68,
   "id": "bdca5dd8",
   "metadata": {},
   "outputs": [],
   "source": [
    "def one_hot(df):\n",
    "    df_object = df.select_dtypes(include=['object'])\n",
    "    encoder.fit(df_object)\n",
    "\n",
    "    codes = encoder.transform(df_object).toarray()\n",
    "    feature_names = encoder.get_feature_names_out()\n",
    "\n",
    "    df = pd.concat([df.select_dtypes(exclude='object'), \n",
    "                   pd.DataFrame(codes,columns=feature_names).astype(int)], axis=1)\n",
    "    return df"
   ]
  },
  {
   "cell_type": "code",
   "execution_count": 69,
   "id": "3f530435",
   "metadata": {},
   "outputs": [
    {
     "data": {
      "text/html": [
       "<div>\n",
       "<style scoped>\n",
       "    .dataframe tbody tr th:only-of-type {\n",
       "        vertical-align: middle;\n",
       "    }\n",
       "\n",
       "    .dataframe tbody tr th {\n",
       "        vertical-align: top;\n",
       "    }\n",
       "\n",
       "    .dataframe thead th {\n",
       "        text-align: right;\n",
       "    }\n",
       "</style>\n",
       "<table border=\"1\" class=\"dataframe\">\n",
       "  <thead>\n",
       "    <tr style=\"text-align: right;\">\n",
       "      <th></th>\n",
       "      <th>Id</th>\n",
       "      <th>MSSubClass</th>\n",
       "      <th>LotFrontage</th>\n",
       "      <th>LotArea</th>\n",
       "      <th>OverallQual</th>\n",
       "      <th>OverallCond</th>\n",
       "      <th>YearBuilt</th>\n",
       "      <th>YearRemodAdd</th>\n",
       "      <th>MasVnrArea</th>\n",
       "      <th>BsmtUnfSF</th>\n",
       "      <th>...</th>\n",
       "      <th>Fence_MnWw</th>\n",
       "      <th>Fence_None</th>\n",
       "      <th>SaleType_COD</th>\n",
       "      <th>SaleType_Contract</th>\n",
       "      <th>SaleType_New</th>\n",
       "      <th>SaleType_WD</th>\n",
       "      <th>SaleCondition_Abnorml</th>\n",
       "      <th>SaleCondition_Normal</th>\n",
       "      <th>SaleCondition_Other</th>\n",
       "      <th>SaleCondition_Partial</th>\n",
       "    </tr>\n",
       "  </thead>\n",
       "  <tbody>\n",
       "    <tr>\n",
       "      <th>0</th>\n",
       "      <td>1</td>\n",
       "      <td>2</td>\n",
       "      <td>65.0</td>\n",
       "      <td>8450</td>\n",
       "      <td>7</td>\n",
       "      <td>5</td>\n",
       "      <td>2003</td>\n",
       "      <td>2003</td>\n",
       "      <td>196.0</td>\n",
       "      <td>150.0</td>\n",
       "      <td>...</td>\n",
       "      <td>0</td>\n",
       "      <td>1</td>\n",
       "      <td>0</td>\n",
       "      <td>0</td>\n",
       "      <td>0</td>\n",
       "      <td>1</td>\n",
       "      <td>0</td>\n",
       "      <td>1</td>\n",
       "      <td>0</td>\n",
       "      <td>0</td>\n",
       "    </tr>\n",
       "    <tr>\n",
       "      <th>1</th>\n",
       "      <td>2</td>\n",
       "      <td>1</td>\n",
       "      <td>80.0</td>\n",
       "      <td>9600</td>\n",
       "      <td>6</td>\n",
       "      <td>8</td>\n",
       "      <td>1976</td>\n",
       "      <td>1976</td>\n",
       "      <td>0.0</td>\n",
       "      <td>284.0</td>\n",
       "      <td>...</td>\n",
       "      <td>0</td>\n",
       "      <td>1</td>\n",
       "      <td>0</td>\n",
       "      <td>0</td>\n",
       "      <td>0</td>\n",
       "      <td>1</td>\n",
       "      <td>0</td>\n",
       "      <td>1</td>\n",
       "      <td>0</td>\n",
       "      <td>0</td>\n",
       "    </tr>\n",
       "    <tr>\n",
       "      <th>2</th>\n",
       "      <td>3</td>\n",
       "      <td>2</td>\n",
       "      <td>68.0</td>\n",
       "      <td>11250</td>\n",
       "      <td>7</td>\n",
       "      <td>5</td>\n",
       "      <td>2001</td>\n",
       "      <td>2002</td>\n",
       "      <td>162.0</td>\n",
       "      <td>434.0</td>\n",
       "      <td>...</td>\n",
       "      <td>0</td>\n",
       "      <td>1</td>\n",
       "      <td>0</td>\n",
       "      <td>0</td>\n",
       "      <td>0</td>\n",
       "      <td>1</td>\n",
       "      <td>0</td>\n",
       "      <td>1</td>\n",
       "      <td>0</td>\n",
       "      <td>0</td>\n",
       "    </tr>\n",
       "    <tr>\n",
       "      <th>3</th>\n",
       "      <td>4</td>\n",
       "      <td>2</td>\n",
       "      <td>60.0</td>\n",
       "      <td>9550</td>\n",
       "      <td>7</td>\n",
       "      <td>5</td>\n",
       "      <td>1915</td>\n",
       "      <td>1970</td>\n",
       "      <td>0.0</td>\n",
       "      <td>540.0</td>\n",
       "      <td>...</td>\n",
       "      <td>0</td>\n",
       "      <td>1</td>\n",
       "      <td>0</td>\n",
       "      <td>0</td>\n",
       "      <td>0</td>\n",
       "      <td>1</td>\n",
       "      <td>1</td>\n",
       "      <td>0</td>\n",
       "      <td>0</td>\n",
       "      <td>0</td>\n",
       "    </tr>\n",
       "    <tr>\n",
       "      <th>4</th>\n",
       "      <td>5</td>\n",
       "      <td>2</td>\n",
       "      <td>84.0</td>\n",
       "      <td>14260</td>\n",
       "      <td>8</td>\n",
       "      <td>5</td>\n",
       "      <td>2000</td>\n",
       "      <td>2000</td>\n",
       "      <td>350.0</td>\n",
       "      <td>490.0</td>\n",
       "      <td>...</td>\n",
       "      <td>0</td>\n",
       "      <td>1</td>\n",
       "      <td>0</td>\n",
       "      <td>0</td>\n",
       "      <td>0</td>\n",
       "      <td>1</td>\n",
       "      <td>0</td>\n",
       "      <td>1</td>\n",
       "      <td>0</td>\n",
       "      <td>0</td>\n",
       "    </tr>\n",
       "    <tr>\n",
       "      <th>...</th>\n",
       "      <td>...</td>\n",
       "      <td>...</td>\n",
       "      <td>...</td>\n",
       "      <td>...</td>\n",
       "      <td>...</td>\n",
       "      <td>...</td>\n",
       "      <td>...</td>\n",
       "      <td>...</td>\n",
       "      <td>...</td>\n",
       "      <td>...</td>\n",
       "      <td>...</td>\n",
       "      <td>...</td>\n",
       "      <td>...</td>\n",
       "      <td>...</td>\n",
       "      <td>...</td>\n",
       "      <td>...</td>\n",
       "      <td>...</td>\n",
       "      <td>...</td>\n",
       "      <td>...</td>\n",
       "      <td>...</td>\n",
       "      <td>...</td>\n",
       "    </tr>\n",
       "    <tr>\n",
       "      <th>2898</th>\n",
       "      <td>2915</td>\n",
       "      <td>2</td>\n",
       "      <td>21.0</td>\n",
       "      <td>1936</td>\n",
       "      <td>4</td>\n",
       "      <td>7</td>\n",
       "      <td>1970</td>\n",
       "      <td>1970</td>\n",
       "      <td>0.0</td>\n",
       "      <td>546.0</td>\n",
       "      <td>...</td>\n",
       "      <td>0</td>\n",
       "      <td>1</td>\n",
       "      <td>0</td>\n",
       "      <td>0</td>\n",
       "      <td>0</td>\n",
       "      <td>1</td>\n",
       "      <td>0</td>\n",
       "      <td>1</td>\n",
       "      <td>0</td>\n",
       "      <td>0</td>\n",
       "    </tr>\n",
       "    <tr>\n",
       "      <th>2899</th>\n",
       "      <td>2916</td>\n",
       "      <td>2</td>\n",
       "      <td>21.0</td>\n",
       "      <td>1894</td>\n",
       "      <td>4</td>\n",
       "      <td>5</td>\n",
       "      <td>1970</td>\n",
       "      <td>1970</td>\n",
       "      <td>0.0</td>\n",
       "      <td>294.0</td>\n",
       "      <td>...</td>\n",
       "      <td>0</td>\n",
       "      <td>1</td>\n",
       "      <td>0</td>\n",
       "      <td>0</td>\n",
       "      <td>0</td>\n",
       "      <td>1</td>\n",
       "      <td>1</td>\n",
       "      <td>0</td>\n",
       "      <td>0</td>\n",
       "      <td>0</td>\n",
       "    </tr>\n",
       "    <tr>\n",
       "      <th>2900</th>\n",
       "      <td>2917</td>\n",
       "      <td>1</td>\n",
       "      <td>160.0</td>\n",
       "      <td>20000</td>\n",
       "      <td>5</td>\n",
       "      <td>7</td>\n",
       "      <td>1960</td>\n",
       "      <td>1996</td>\n",
       "      <td>0.0</td>\n",
       "      <td>0.0</td>\n",
       "      <td>...</td>\n",
       "      <td>0</td>\n",
       "      <td>1</td>\n",
       "      <td>0</td>\n",
       "      <td>0</td>\n",
       "      <td>0</td>\n",
       "      <td>1</td>\n",
       "      <td>1</td>\n",
       "      <td>0</td>\n",
       "      <td>0</td>\n",
       "      <td>0</td>\n",
       "    </tr>\n",
       "    <tr>\n",
       "      <th>2901</th>\n",
       "      <td>2918</td>\n",
       "      <td>3</td>\n",
       "      <td>62.0</td>\n",
       "      <td>10441</td>\n",
       "      <td>5</td>\n",
       "      <td>5</td>\n",
       "      <td>1992</td>\n",
       "      <td>1992</td>\n",
       "      <td>0.0</td>\n",
       "      <td>575.0</td>\n",
       "      <td>...</td>\n",
       "      <td>0</td>\n",
       "      <td>0</td>\n",
       "      <td>0</td>\n",
       "      <td>0</td>\n",
       "      <td>0</td>\n",
       "      <td>1</td>\n",
       "      <td>0</td>\n",
       "      <td>1</td>\n",
       "      <td>0</td>\n",
       "      <td>0</td>\n",
       "    </tr>\n",
       "    <tr>\n",
       "      <th>2902</th>\n",
       "      <td>2919</td>\n",
       "      <td>2</td>\n",
       "      <td>74.0</td>\n",
       "      <td>9627</td>\n",
       "      <td>7</td>\n",
       "      <td>5</td>\n",
       "      <td>1993</td>\n",
       "      <td>1994</td>\n",
       "      <td>94.0</td>\n",
       "      <td>238.0</td>\n",
       "      <td>...</td>\n",
       "      <td>0</td>\n",
       "      <td>1</td>\n",
       "      <td>0</td>\n",
       "      <td>0</td>\n",
       "      <td>0</td>\n",
       "      <td>1</td>\n",
       "      <td>0</td>\n",
       "      <td>1</td>\n",
       "      <td>0</td>\n",
       "      <td>0</td>\n",
       "    </tr>\n",
       "  </tbody>\n",
       "</table>\n",
       "<p>2903 rows × 188 columns</p>\n",
       "</div>"
      ],
      "text/plain": [
       "        Id  MSSubClass  LotFrontage  LotArea  OverallQual  OverallCond  \\\n",
       "0        1           2         65.0     8450            7            5   \n",
       "1        2           1         80.0     9600            6            8   \n",
       "2        3           2         68.0    11250            7            5   \n",
       "3        4           2         60.0     9550            7            5   \n",
       "4        5           2         84.0    14260            8            5   \n",
       "...    ...         ...          ...      ...          ...          ...   \n",
       "2898  2915           2         21.0     1936            4            7   \n",
       "2899  2916           2         21.0     1894            4            5   \n",
       "2900  2917           1        160.0    20000            5            7   \n",
       "2901  2918           3         62.0    10441            5            5   \n",
       "2902  2919           2         74.0     9627            7            5   \n",
       "\n",
       "      YearBuilt  YearRemodAdd  MasVnrArea  BsmtUnfSF  ...  Fence_MnWw  \\\n",
       "0          2003          2003       196.0      150.0  ...           0   \n",
       "1          1976          1976         0.0      284.0  ...           0   \n",
       "2          2001          2002       162.0      434.0  ...           0   \n",
       "3          1915          1970         0.0      540.0  ...           0   \n",
       "4          2000          2000       350.0      490.0  ...           0   \n",
       "...         ...           ...         ...        ...  ...         ...   \n",
       "2898       1970          1970         0.0      546.0  ...           0   \n",
       "2899       1970          1970         0.0      294.0  ...           0   \n",
       "2900       1960          1996         0.0        0.0  ...           0   \n",
       "2901       1992          1992         0.0      575.0  ...           0   \n",
       "2902       1993          1994        94.0      238.0  ...           0   \n",
       "\n",
       "      Fence_None  SaleType_COD  SaleType_Contract  SaleType_New  SaleType_WD  \\\n",
       "0              1             0                  0             0            1   \n",
       "1              1             0                  0             0            1   \n",
       "2              1             0                  0             0            1   \n",
       "3              1             0                  0             0            1   \n",
       "4              1             0                  0             0            1   \n",
       "...          ...           ...                ...           ...          ...   \n",
       "2898           1             0                  0             0            1   \n",
       "2899           1             0                  0             0            1   \n",
       "2900           1             0                  0             0            1   \n",
       "2901           0             0                  0             0            1   \n",
       "2902           1             0                  0             0            1   \n",
       "\n",
       "      SaleCondition_Abnorml  SaleCondition_Normal  SaleCondition_Other  \\\n",
       "0                         0                     1                    0   \n",
       "1                         0                     1                    0   \n",
       "2                         0                     1                    0   \n",
       "3                         1                     0                    0   \n",
       "4                         0                     1                    0   \n",
       "...                     ...                   ...                  ...   \n",
       "2898                      0                     1                    0   \n",
       "2899                      1                     0                    0   \n",
       "2900                      1                     0                    0   \n",
       "2901                      0                     1                    0   \n",
       "2902                      0                     1                    0   \n",
       "\n",
       "      SaleCondition_Partial  \n",
       "0                         0  \n",
       "1                         0  \n",
       "2                         0  \n",
       "3                         0  \n",
       "4                         0  \n",
       "...                     ...  \n",
       "2898                      0  \n",
       "2899                      0  \n",
       "2900                      0  \n",
       "2901                      0  \n",
       "2902                      0  \n",
       "\n",
       "[2903 rows x 188 columns]"
      ]
     },
     "execution_count": 69,
     "metadata": {},
     "output_type": "execute_result"
    }
   ],
   "source": [
    "combined_df = one_hot(combined_df)\n",
    "combined_df"
   ]
  },
  {
   "cell_type": "code",
   "execution_count": 70,
   "id": "9338da5c",
   "metadata": {},
   "outputs": [],
   "source": [
    "#split the combined dataframe back into test and train\n",
    "train = combined_df[:tmp_shape].copy()\n",
    "test = combined_df[tmp_shape:].copy()\n",
    "train['SalePrice'] = sale_prices.values"
   ]
  },
  {
   "cell_type": "code",
   "execution_count": 71,
   "id": "5296fa5a",
   "metadata": {},
   "outputs": [
    {
     "data": {
      "text/html": [
       "<div>\n",
       "<style scoped>\n",
       "    .dataframe tbody tr th:only-of-type {\n",
       "        vertical-align: middle;\n",
       "    }\n",
       "\n",
       "    .dataframe tbody tr th {\n",
       "        vertical-align: top;\n",
       "    }\n",
       "\n",
       "    .dataframe thead th {\n",
       "        text-align: right;\n",
       "    }\n",
       "</style>\n",
       "<table border=\"1\" class=\"dataframe\">\n",
       "  <thead>\n",
       "    <tr style=\"text-align: right;\">\n",
       "      <th></th>\n",
       "      <th>Id</th>\n",
       "      <th>MSSubClass</th>\n",
       "      <th>LotFrontage</th>\n",
       "      <th>LotArea</th>\n",
       "      <th>OverallQual</th>\n",
       "      <th>OverallCond</th>\n",
       "      <th>YearBuilt</th>\n",
       "      <th>YearRemodAdd</th>\n",
       "      <th>MasVnrArea</th>\n",
       "      <th>BsmtUnfSF</th>\n",
       "      <th>...</th>\n",
       "      <th>Fence_None</th>\n",
       "      <th>SaleType_COD</th>\n",
       "      <th>SaleType_Contract</th>\n",
       "      <th>SaleType_New</th>\n",
       "      <th>SaleType_WD</th>\n",
       "      <th>SaleCondition_Abnorml</th>\n",
       "      <th>SaleCondition_Normal</th>\n",
       "      <th>SaleCondition_Other</th>\n",
       "      <th>SaleCondition_Partial</th>\n",
       "      <th>SalePrice</th>\n",
       "    </tr>\n",
       "  </thead>\n",
       "  <tbody>\n",
       "    <tr>\n",
       "      <th>0</th>\n",
       "      <td>1</td>\n",
       "      <td>2</td>\n",
       "      <td>65.0</td>\n",
       "      <td>8450</td>\n",
       "      <td>7</td>\n",
       "      <td>5</td>\n",
       "      <td>2003</td>\n",
       "      <td>2003</td>\n",
       "      <td>196.0</td>\n",
       "      <td>150.0</td>\n",
       "      <td>...</td>\n",
       "      <td>1</td>\n",
       "      <td>0</td>\n",
       "      <td>0</td>\n",
       "      <td>0</td>\n",
       "      <td>1</td>\n",
       "      <td>0</td>\n",
       "      <td>1</td>\n",
       "      <td>0</td>\n",
       "      <td>0</td>\n",
       "      <td>208500</td>\n",
       "    </tr>\n",
       "    <tr>\n",
       "      <th>1</th>\n",
       "      <td>2</td>\n",
       "      <td>1</td>\n",
       "      <td>80.0</td>\n",
       "      <td>9600</td>\n",
       "      <td>6</td>\n",
       "      <td>8</td>\n",
       "      <td>1976</td>\n",
       "      <td>1976</td>\n",
       "      <td>0.0</td>\n",
       "      <td>284.0</td>\n",
       "      <td>...</td>\n",
       "      <td>1</td>\n",
       "      <td>0</td>\n",
       "      <td>0</td>\n",
       "      <td>0</td>\n",
       "      <td>1</td>\n",
       "      <td>0</td>\n",
       "      <td>1</td>\n",
       "      <td>0</td>\n",
       "      <td>0</td>\n",
       "      <td>181500</td>\n",
       "    </tr>\n",
       "    <tr>\n",
       "      <th>2</th>\n",
       "      <td>3</td>\n",
       "      <td>2</td>\n",
       "      <td>68.0</td>\n",
       "      <td>11250</td>\n",
       "      <td>7</td>\n",
       "      <td>5</td>\n",
       "      <td>2001</td>\n",
       "      <td>2002</td>\n",
       "      <td>162.0</td>\n",
       "      <td>434.0</td>\n",
       "      <td>...</td>\n",
       "      <td>1</td>\n",
       "      <td>0</td>\n",
       "      <td>0</td>\n",
       "      <td>0</td>\n",
       "      <td>1</td>\n",
       "      <td>0</td>\n",
       "      <td>1</td>\n",
       "      <td>0</td>\n",
       "      <td>0</td>\n",
       "      <td>223500</td>\n",
       "    </tr>\n",
       "    <tr>\n",
       "      <th>3</th>\n",
       "      <td>4</td>\n",
       "      <td>2</td>\n",
       "      <td>60.0</td>\n",
       "      <td>9550</td>\n",
       "      <td>7</td>\n",
       "      <td>5</td>\n",
       "      <td>1915</td>\n",
       "      <td>1970</td>\n",
       "      <td>0.0</td>\n",
       "      <td>540.0</td>\n",
       "      <td>...</td>\n",
       "      <td>1</td>\n",
       "      <td>0</td>\n",
       "      <td>0</td>\n",
       "      <td>0</td>\n",
       "      <td>1</td>\n",
       "      <td>1</td>\n",
       "      <td>0</td>\n",
       "      <td>0</td>\n",
       "      <td>0</td>\n",
       "      <td>140000</td>\n",
       "    </tr>\n",
       "    <tr>\n",
       "      <th>4</th>\n",
       "      <td>5</td>\n",
       "      <td>2</td>\n",
       "      <td>84.0</td>\n",
       "      <td>14260</td>\n",
       "      <td>8</td>\n",
       "      <td>5</td>\n",
       "      <td>2000</td>\n",
       "      <td>2000</td>\n",
       "      <td>350.0</td>\n",
       "      <td>490.0</td>\n",
       "      <td>...</td>\n",
       "      <td>1</td>\n",
       "      <td>0</td>\n",
       "      <td>0</td>\n",
       "      <td>0</td>\n",
       "      <td>1</td>\n",
       "      <td>0</td>\n",
       "      <td>1</td>\n",
       "      <td>0</td>\n",
       "      <td>0</td>\n",
       "      <td>250000</td>\n",
       "    </tr>\n",
       "  </tbody>\n",
       "</table>\n",
       "<p>5 rows × 189 columns</p>\n",
       "</div>"
      ],
      "text/plain": [
       "   Id  MSSubClass  LotFrontage  LotArea  OverallQual  OverallCond  YearBuilt  \\\n",
       "0   1           2         65.0     8450            7            5       2003   \n",
       "1   2           1         80.0     9600            6            8       1976   \n",
       "2   3           2         68.0    11250            7            5       2001   \n",
       "3   4           2         60.0     9550            7            5       1915   \n",
       "4   5           2         84.0    14260            8            5       2000   \n",
       "\n",
       "   YearRemodAdd  MasVnrArea  BsmtUnfSF  ...  Fence_None  SaleType_COD  \\\n",
       "0          2003       196.0      150.0  ...           1             0   \n",
       "1          1976         0.0      284.0  ...           1             0   \n",
       "2          2002       162.0      434.0  ...           1             0   \n",
       "3          1970         0.0      540.0  ...           1             0   \n",
       "4          2000       350.0      490.0  ...           1             0   \n",
       "\n",
       "   SaleType_Contract  SaleType_New  SaleType_WD  SaleCondition_Abnorml  \\\n",
       "0                  0             0            1                      0   \n",
       "1                  0             0            1                      0   \n",
       "2                  0             0            1                      0   \n",
       "3                  0             0            1                      1   \n",
       "4                  0             0            1                      0   \n",
       "\n",
       "   SaleCondition_Normal  SaleCondition_Other  SaleCondition_Partial  SalePrice  \n",
       "0                     1                    0                      0     208500  \n",
       "1                     1                    0                      0     181500  \n",
       "2                     1                    0                      0     223500  \n",
       "3                     0                    0                      0     140000  \n",
       "4                     1                    0                      0     250000  \n",
       "\n",
       "[5 rows x 189 columns]"
      ]
     },
     "execution_count": 71,
     "metadata": {},
     "output_type": "execute_result"
    }
   ],
   "source": [
    "train.head()"
   ]
  },
  {
   "cell_type": "code",
   "execution_count": 72,
   "id": "9bbbde39",
   "metadata": {},
   "outputs": [],
   "source": [
    "#Step 5\n",
    "#Prepping training data"
   ]
  },
  {
   "cell_type": "code",
   "execution_count": 73,
   "id": "2701e6fe",
   "metadata": {},
   "outputs": [
    {
     "data": {
      "text/plain": [
       "0       208500\n",
       "1       181500\n",
       "2       223500\n",
       "3       140000\n",
       "4       250000\n",
       "         ...  \n",
       "1439    175000\n",
       "1440    210000\n",
       "1441    266500\n",
       "1442    142125\n",
       "1443    147500\n",
       "Name: SalePrice, Length: 1444, dtype: int64"
      ]
     },
     "execution_count": 73,
     "metadata": {},
     "output_type": "execute_result"
    }
   ],
   "source": [
    "train['SalePrice']"
   ]
  },
  {
   "cell_type": "code",
   "execution_count": 74,
   "id": "c5f9cfce",
   "metadata": {},
   "outputs": [],
   "source": [
    "X = train.drop(['SalePrice','Id'],axis=1).values\n",
    "y = train['SalePrice'].values"
   ]
  },
  {
   "cell_type": "code",
   "execution_count": 75,
   "id": "5b0db775",
   "metadata": {},
   "outputs": [],
   "source": [
    "#Part 6\n",
    "#creating deep learning model"
   ]
  },
  {
   "cell_type": "code",
   "execution_count": 76,
   "id": "dab43279",
   "metadata": {},
   "outputs": [],
   "source": [
    "import tensorflow as tf\n",
    "from tensorflow.keras.models import Sequential\n",
    "from tensorflow.keras.layers import Dense,Dropout\n",
    "from tensorflow.keras.callbacks import EarlyStopping\n",
    "from keras.optimizers import Adam"
   ]
  },
  {
   "cell_type": "code",
   "execution_count": 77,
   "id": "e6f7c5c3",
   "metadata": {},
   "outputs": [],
   "source": [
    "input_layer_size = X.shape[1]\n",
    "\n",
    "def create_model():\n",
    "    model = Sequential()\n",
    "    model.add(Dense(200, input_shape=(input_layer_size,), activation='relu'))\n",
    "    model.add(Dense(100, activation='relu'))\n",
    "    model.add(Dense(50, activation='relu'))\n",
    "    model.add(Dense(25, activation='relu'))\n",
    "    model.add(Dense(1))\n",
    "    \n",
    "    # Compile model\n",
    "    model.compile(optimizer='adam', loss='mse')\n",
    "    return model"
   ]
  },
  {
   "cell_type": "code",
   "execution_count": 78,
   "id": "a5c7b48b",
   "metadata": {},
   "outputs": [],
   "source": [
    "from sklearn.model_selection import train_test_split\n",
    "from scikeras.wrappers import KerasRegressor\n",
    "from sklearn.preprocessing import StandardScaler"
   ]
  },
  {
   "cell_type": "code",
   "execution_count": 79,
   "id": "230205dc",
   "metadata": {},
   "outputs": [],
   "source": [
    "x_train,x_test,y_train,y_test = train_test_split(X,y,test_size=0.3,random_state=101)\n",
    "scaler = StandardScaler()\n",
    "\n",
    "x_train = scaler.fit_transform(x_train)\n",
    "x_test = scaler.transform(x_test)"
   ]
  },
  {
   "cell_type": "code",
   "execution_count": 80,
   "id": "7220c1aa",
   "metadata": {},
   "outputs": [],
   "source": [
    "model = create_model()\n",
    "early_stop = EarlyStopping(monitor='val_loss',mode='min',verbose=1,patience=10)"
   ]
  },
  {
   "cell_type": "code",
   "execution_count": 81,
   "id": "14ebc5d6",
   "metadata": {},
   "outputs": [],
   "source": [
    "#Part 7\n",
    "#Training the model"
   ]
  },
  {
   "cell_type": "code",
   "execution_count": 82,
   "id": "ab264566",
   "metadata": {},
   "outputs": [
    {
     "name": "stdout",
     "output_type": "stream",
     "text": [
      "Epoch 1/1000\n",
      "16/16 [==============================] - 1s 9ms/step - loss: 36671111168.0000 - val_loss: 36453519360.0000\n",
      "Epoch 2/1000\n",
      "16/16 [==============================] - 0s 3ms/step - loss: 36663468032.0000 - val_loss: 36436930560.0000\n",
      "Epoch 3/1000\n",
      "16/16 [==============================] - 0s 3ms/step - loss: 36626149376.0000 - val_loss: 36362924032.0000\n",
      "Epoch 4/1000\n",
      "16/16 [==============================] - 0s 3ms/step - loss: 36467396608.0000 - val_loss: 36086521856.0000\n",
      "Epoch 5/1000\n",
      "16/16 [==============================] - 0s 3ms/step - loss: 35957993472.0000 - val_loss: 35235827712.0000\n",
      "Epoch 6/1000\n",
      "16/16 [==============================] - 0s 3ms/step - loss: 34533593088.0000 - val_loss: 33050419200.0000\n",
      "Epoch 7/1000\n",
      "16/16 [==============================] - 0s 3ms/step - loss: 31062923264.0000 - val_loss: 28373757952.0000\n",
      "Epoch 8/1000\n",
      "16/16 [==============================] - 0s 3ms/step - loss: 24620902400.0000 - val_loss: 20455208960.0000\n",
      "Epoch 9/1000\n",
      "16/16 [==============================] - 0s 3ms/step - loss: 15793998848.0000 - val_loss: 11571260416.0000\n",
      "Epoch 10/1000\n",
      "16/16 [==============================] - 0s 3ms/step - loss: 9089221632.0000 - val_loss: 7384832000.0000\n",
      "Epoch 11/1000\n",
      "16/16 [==============================] - 0s 3ms/step - loss: 6659546624.0000 - val_loss: 5551806976.0000\n",
      "Epoch 12/1000\n",
      "16/16 [==============================] - 0s 3ms/step - loss: 4817474048.0000 - val_loss: 4157660672.0000\n",
      "Epoch 13/1000\n",
      "16/16 [==============================] - 0s 3ms/step - loss: 3440315392.0000 - val_loss: 3082571520.0000\n",
      "Epoch 14/1000\n",
      "16/16 [==============================] - 0s 3ms/step - loss: 2569374976.0000 - val_loss: 2494476800.0000\n",
      "Epoch 15/1000\n",
      "16/16 [==============================] - 0s 3ms/step - loss: 2068513536.0000 - val_loss: 2244915712.0000\n",
      "Epoch 16/1000\n",
      "16/16 [==============================] - 0s 3ms/step - loss: 1814489344.0000 - val_loss: 2111593344.0000\n",
      "Epoch 17/1000\n",
      "16/16 [==============================] - 0s 3ms/step - loss: 1655883776.0000 - val_loss: 2032402560.0000\n",
      "Epoch 18/1000\n",
      "16/16 [==============================] - 0s 3ms/step - loss: 1531169664.0000 - val_loss: 1953585536.0000\n",
      "Epoch 19/1000\n",
      "16/16 [==============================] - 0s 3ms/step - loss: 1433966464.0000 - val_loss: 1895510656.0000\n",
      "Epoch 20/1000\n",
      "16/16 [==============================] - 0s 3ms/step - loss: 1342603776.0000 - val_loss: 1826474880.0000\n",
      "Epoch 21/1000\n",
      "16/16 [==============================] - 0s 3ms/step - loss: 1270248704.0000 - val_loss: 1778727808.0000\n",
      "Epoch 22/1000\n",
      "16/16 [==============================] - 0s 3ms/step - loss: 1205066624.0000 - val_loss: 1740108416.0000\n",
      "Epoch 23/1000\n",
      "16/16 [==============================] - 0s 3ms/step - loss: 1145656704.0000 - val_loss: 1688779776.0000\n",
      "Epoch 24/1000\n",
      "16/16 [==============================] - 0s 3ms/step - loss: 1095442048.0000 - val_loss: 1646227968.0000\n",
      "Epoch 25/1000\n",
      "16/16 [==============================] - 0s 3ms/step - loss: 1049468288.0000 - val_loss: 1620519552.0000\n",
      "Epoch 26/1000\n",
      "16/16 [==============================] - 0s 3ms/step - loss: 1007455936.0000 - val_loss: 1591598208.0000\n",
      "Epoch 27/1000\n",
      "16/16 [==============================] - 0s 3ms/step - loss: 969338496.0000 - val_loss: 1555339264.0000\n",
      "Epoch 28/1000\n",
      "16/16 [==============================] - 0s 3ms/step - loss: 934042304.0000 - val_loss: 1522023808.0000\n",
      "Epoch 29/1000\n",
      "16/16 [==============================] - 0s 3ms/step - loss: 901164544.0000 - val_loss: 1513235584.0000\n",
      "Epoch 30/1000\n",
      "16/16 [==============================] - 0s 3ms/step - loss: 873837120.0000 - val_loss: 1474273536.0000\n",
      "Epoch 31/1000\n",
      "16/16 [==============================] - 0s 3ms/step - loss: 843485312.0000 - val_loss: 1460342272.0000\n",
      "Epoch 32/1000\n",
      "16/16 [==============================] - 0s 3ms/step - loss: 818901760.0000 - val_loss: 1421721472.0000\n",
      "Epoch 33/1000\n",
      "16/16 [==============================] - 0s 3ms/step - loss: 792690496.0000 - val_loss: 1405217920.0000\n",
      "Epoch 34/1000\n",
      "16/16 [==============================] - 0s 3ms/step - loss: 770771840.0000 - val_loss: 1406779264.0000\n",
      "Epoch 35/1000\n",
      "16/16 [==============================] - 0s 3ms/step - loss: 744718016.0000 - val_loss: 1363924352.0000\n",
      "Epoch 36/1000\n",
      "16/16 [==============================] - 0s 3ms/step - loss: 725725504.0000 - val_loss: 1353207552.0000\n",
      "Epoch 37/1000\n",
      "16/16 [==============================] - 0s 3ms/step - loss: 707695232.0000 - val_loss: 1349944320.0000\n",
      "Epoch 38/1000\n",
      "16/16 [==============================] - 0s 3ms/step - loss: 686486592.0000 - val_loss: 1314921600.0000\n",
      "Epoch 39/1000\n",
      "16/16 [==============================] - 0s 3ms/step - loss: 670273600.0000 - val_loss: 1312967808.0000\n",
      "Epoch 40/1000\n",
      "16/16 [==============================] - 0s 3ms/step - loss: 655008448.0000 - val_loss: 1296893312.0000\n",
      "Epoch 41/1000\n",
      "16/16 [==============================] - 0s 3ms/step - loss: 638268736.0000 - val_loss: 1289271936.0000\n",
      "Epoch 42/1000\n",
      "16/16 [==============================] - 0s 3ms/step - loss: 631197568.0000 - val_loss: 1254557824.0000\n",
      "Epoch 43/1000\n",
      "16/16 [==============================] - 0s 3ms/step - loss: 604827328.0000 - val_loss: 1266558464.0000\n",
      "Epoch 44/1000\n",
      "16/16 [==============================] - 0s 3ms/step - loss: 590495488.0000 - val_loss: 1243973504.0000\n",
      "Epoch 45/1000\n",
      "16/16 [==============================] - 0s 3ms/step - loss: 576557248.0000 - val_loss: 1241969536.0000\n",
      "Epoch 46/1000\n",
      "16/16 [==============================] - 0s 3ms/step - loss: 562458752.0000 - val_loss: 1212685696.0000\n",
      "Epoch 47/1000\n",
      "16/16 [==============================] - 0s 3ms/step - loss: 549773760.0000 - val_loss: 1209809536.0000\n",
      "Epoch 48/1000\n",
      "16/16 [==============================] - 0s 3ms/step - loss: 535797696.0000 - val_loss: 1207560064.0000\n",
      "Epoch 49/1000\n",
      "16/16 [==============================] - 0s 3ms/step - loss: 523892704.0000 - val_loss: 1189408384.0000\n",
      "Epoch 50/1000\n",
      "16/16 [==============================] - 0s 3ms/step - loss: 512685216.0000 - val_loss: 1180957184.0000\n",
      "Epoch 51/1000\n",
      "16/16 [==============================] - 0s 2ms/step - loss: 501937536.0000 - val_loss: 1172835584.0000\n",
      "Epoch 52/1000\n",
      "16/16 [==============================] - 0s 3ms/step - loss: 490478400.0000 - val_loss: 1166388864.0000\n",
      "Epoch 53/1000\n",
      "16/16 [==============================] - 0s 3ms/step - loss: 480406400.0000 - val_loss: 1155387776.0000\n",
      "Epoch 54/1000\n",
      "16/16 [==============================] - 0s 3ms/step - loss: 472488672.0000 - val_loss: 1156274560.0000\n",
      "Epoch 55/1000\n",
      "16/16 [==============================] - 0s 3ms/step - loss: 461227616.0000 - val_loss: 1139386368.0000\n",
      "Epoch 56/1000\n",
      "16/16 [==============================] - 0s 3ms/step - loss: 451696576.0000 - val_loss: 1121797888.0000\n",
      "Epoch 57/1000\n",
      "16/16 [==============================] - 0s 3ms/step - loss: 442764512.0000 - val_loss: 1116392320.0000\n",
      "Epoch 58/1000\n",
      "16/16 [==============================] - 0s 3ms/step - loss: 435827488.0000 - val_loss: 1111433088.0000\n",
      "Epoch 59/1000\n",
      "16/16 [==============================] - 0s 3ms/step - loss: 425289248.0000 - val_loss: 1102216576.0000\n",
      "Epoch 60/1000\n",
      "16/16 [==============================] - 0s 3ms/step - loss: 416838272.0000 - val_loss: 1096591488.0000\n",
      "Epoch 61/1000\n",
      "16/16 [==============================] - 0s 2ms/step - loss: 409011776.0000 - val_loss: 1106285568.0000\n",
      "Epoch 62/1000\n",
      "16/16 [==============================] - 0s 3ms/step - loss: 401761024.0000 - val_loss: 1084433152.0000\n",
      "Epoch 63/1000\n",
      "16/16 [==============================] - 0s 3ms/step - loss: 392398144.0000 - val_loss: 1076017152.0000\n",
      "Epoch 64/1000\n",
      "16/16 [==============================] - 0s 3ms/step - loss: 385154976.0000 - val_loss: 1077120640.0000\n",
      "Epoch 65/1000\n",
      "16/16 [==============================] - 0s 3ms/step - loss: 377877792.0000 - val_loss: 1058763072.0000\n",
      "Epoch 66/1000\n",
      "16/16 [==============================] - 0s 3ms/step - loss: 370881120.0000 - val_loss: 1066872448.0000\n",
      "Epoch 67/1000\n",
      "16/16 [==============================] - 0s 3ms/step - loss: 368299648.0000 - val_loss: 1064285184.0000\n",
      "Epoch 68/1000\n",
      "16/16 [==============================] - 0s 3ms/step - loss: 359333280.0000 - val_loss: 1048277760.0000\n",
      "Epoch 69/1000\n",
      "16/16 [==============================] - 0s 3ms/step - loss: 352026304.0000 - val_loss: 1034737088.0000\n",
      "Epoch 70/1000\n"
     ]
    },
    {
     "name": "stdout",
     "output_type": "stream",
     "text": [
      "16/16 [==============================] - 0s 3ms/step - loss: 344896608.0000 - val_loss: 1040738816.0000\n",
      "Epoch 71/1000\n",
      "16/16 [==============================] - 0s 3ms/step - loss: 338970464.0000 - val_loss: 1016986560.0000\n",
      "Epoch 72/1000\n",
      "16/16 [==============================] - 0s 3ms/step - loss: 332698208.0000 - val_loss: 1039363712.0000\n",
      "Epoch 73/1000\n",
      "16/16 [==============================] - 0s 3ms/step - loss: 329553504.0000 - val_loss: 1000322496.0000\n",
      "Epoch 74/1000\n",
      "16/16 [==============================] - 0s 3ms/step - loss: 323096256.0000 - val_loss: 1015237888.0000\n",
      "Epoch 75/1000\n",
      "16/16 [==============================] - 0s 3ms/step - loss: 315500512.0000 - val_loss: 994272256.0000\n",
      "Epoch 76/1000\n",
      "16/16 [==============================] - 0s 3ms/step - loss: 311095808.0000 - val_loss: 1006910272.0000\n",
      "Epoch 77/1000\n",
      "16/16 [==============================] - 0s 3ms/step - loss: 306596992.0000 - val_loss: 984459840.0000\n",
      "Epoch 78/1000\n",
      "16/16 [==============================] - 0s 3ms/step - loss: 301536832.0000 - val_loss: 983926720.0000\n",
      "Epoch 79/1000\n",
      "16/16 [==============================] - 0s 3ms/step - loss: 295708352.0000 - val_loss: 979870592.0000\n",
      "Epoch 80/1000\n",
      "16/16 [==============================] - 0s 3ms/step - loss: 291972160.0000 - val_loss: 984821824.0000\n",
      "Epoch 81/1000\n",
      "16/16 [==============================] - 0s 3ms/step - loss: 287820704.0000 - val_loss: 963636992.0000\n",
      "Epoch 82/1000\n",
      "16/16 [==============================] - 0s 3ms/step - loss: 282880608.0000 - val_loss: 967843328.0000\n",
      "Epoch 83/1000\n",
      "16/16 [==============================] - 0s 3ms/step - loss: 278360096.0000 - val_loss: 970066560.0000\n",
      "Epoch 84/1000\n",
      "16/16 [==============================] - 0s 3ms/step - loss: 275738080.0000 - val_loss: 946741824.0000\n",
      "Epoch 85/1000\n",
      "16/16 [==============================] - 0s 3ms/step - loss: 272417632.0000 - val_loss: 968394112.0000\n",
      "Epoch 86/1000\n",
      "16/16 [==============================] - 0s 3ms/step - loss: 267778192.0000 - val_loss: 933472384.0000\n",
      "Epoch 87/1000\n",
      "16/16 [==============================] - 0s 3ms/step - loss: 262844224.0000 - val_loss: 953389632.0000\n",
      "Epoch 88/1000\n",
      "16/16 [==============================] - 0s 3ms/step - loss: 256982832.0000 - val_loss: 930531456.0000\n",
      "Epoch 89/1000\n",
      "16/16 [==============================] - 0s 3ms/step - loss: 255116688.0000 - val_loss: 959025728.0000\n",
      "Epoch 90/1000\n",
      "16/16 [==============================] - 0s 3ms/step - loss: 253179120.0000 - val_loss: 929984704.0000\n",
      "Epoch 91/1000\n",
      "16/16 [==============================] - 0s 3ms/step - loss: 247674400.0000 - val_loss: 938699712.0000\n",
      "Epoch 92/1000\n",
      "16/16 [==============================] - 0s 3ms/step - loss: 242317152.0000 - val_loss: 914361984.0000\n",
      "Epoch 93/1000\n",
      "16/16 [==============================] - 0s 3ms/step - loss: 239788912.0000 - val_loss: 927195456.0000\n",
      "Epoch 94/1000\n",
      "16/16 [==============================] - 0s 3ms/step - loss: 235681360.0000 - val_loss: 911016192.0000\n",
      "Epoch 95/1000\n",
      "16/16 [==============================] - 0s 3ms/step - loss: 234923664.0000 - val_loss: 901606080.0000\n",
      "Epoch 96/1000\n",
      "16/16 [==============================] - 0s 3ms/step - loss: 229872016.0000 - val_loss: 906879936.0000\n",
      "Epoch 97/1000\n",
      "16/16 [==============================] - 0s 3ms/step - loss: 226505984.0000 - val_loss: 894992256.0000\n",
      "Epoch 98/1000\n",
      "16/16 [==============================] - 0s 3ms/step - loss: 223134704.0000 - val_loss: 907182976.0000\n",
      "Epoch 99/1000\n",
      "16/16 [==============================] - 0s 3ms/step - loss: 220986256.0000 - val_loss: 905563840.0000\n",
      "Epoch 100/1000\n",
      "16/16 [==============================] - 0s 2ms/step - loss: 218137152.0000 - val_loss: 897847936.0000\n",
      "Epoch 101/1000\n",
      "16/16 [==============================] - 0s 3ms/step - loss: 214053184.0000 - val_loss: 899587008.0000\n",
      "Epoch 102/1000\n",
      "16/16 [==============================] - 0s 3ms/step - loss: 212960800.0000 - val_loss: 883796544.0000\n",
      "Epoch 103/1000\n",
      "16/16 [==============================] - 0s 3ms/step - loss: 209190064.0000 - val_loss: 892460480.0000\n",
      "Epoch 104/1000\n",
      "16/16 [==============================] - 0s 3ms/step - loss: 208588464.0000 - val_loss: 865633408.0000\n",
      "Epoch 105/1000\n",
      "16/16 [==============================] - 0s 3ms/step - loss: 202240160.0000 - val_loss: 904393856.0000\n",
      "Epoch 106/1000\n",
      "16/16 [==============================] - 0s 3ms/step - loss: 202596976.0000 - val_loss: 863115712.0000\n",
      "Epoch 107/1000\n",
      "16/16 [==============================] - 0s 3ms/step - loss: 200809392.0000 - val_loss: 890597120.0000\n",
      "Epoch 108/1000\n",
      "16/16 [==============================] - 0s 3ms/step - loss: 197368640.0000 - val_loss: 853983744.0000\n",
      "Epoch 109/1000\n",
      "16/16 [==============================] - 0s 3ms/step - loss: 197041712.0000 - val_loss: 865643008.0000\n",
      "Epoch 110/1000\n",
      "16/16 [==============================] - 0s 3ms/step - loss: 192562144.0000 - val_loss: 862639936.0000\n",
      "Epoch 111/1000\n",
      "16/16 [==============================] - 0s 3ms/step - loss: 192054816.0000 - val_loss: 882185856.0000\n",
      "Epoch 112/1000\n",
      "16/16 [==============================] - 0s 3ms/step - loss: 189191408.0000 - val_loss: 858953344.0000\n",
      "Epoch 113/1000\n",
      "16/16 [==============================] - 0s 3ms/step - loss: 188438064.0000 - val_loss: 835890688.0000\n",
      "Epoch 114/1000\n",
      "16/16 [==============================] - 0s 3ms/step - loss: 185948304.0000 - val_loss: 872046464.0000\n",
      "Epoch 115/1000\n",
      "16/16 [==============================] - 0s 3ms/step - loss: 184990688.0000 - val_loss: 851411200.0000\n",
      "Epoch 116/1000\n",
      "16/16 [==============================] - 0s 3ms/step - loss: 180985952.0000 - val_loss: 851511616.0000\n",
      "Epoch 117/1000\n",
      "16/16 [==============================] - 0s 3ms/step - loss: 178156016.0000 - val_loss: 858215040.0000\n",
      "Epoch 118/1000\n",
      "16/16 [==============================] - 0s 3ms/step - loss: 177001824.0000 - val_loss: 826813632.0000\n",
      "Epoch 119/1000\n",
      "16/16 [==============================] - 0s 3ms/step - loss: 173556800.0000 - val_loss: 848099584.0000\n",
      "Epoch 120/1000\n",
      "16/16 [==============================] - 0s 3ms/step - loss: 172250336.0000 - val_loss: 829843776.0000\n",
      "Epoch 121/1000\n",
      "16/16 [==============================] - 0s 3ms/step - loss: 171068176.0000 - val_loss: 838366912.0000\n",
      "Epoch 122/1000\n",
      "16/16 [==============================] - 0s 3ms/step - loss: 168843664.0000 - val_loss: 845291392.0000\n",
      "Epoch 123/1000\n",
      "16/16 [==============================] - 0s 3ms/step - loss: 166136160.0000 - val_loss: 834151104.0000\n",
      "Epoch 124/1000\n",
      "16/16 [==============================] - 0s 3ms/step - loss: 164483744.0000 - val_loss: 831793024.0000\n",
      "Epoch 125/1000\n",
      "16/16 [==============================] - 0s 3ms/step - loss: 162444224.0000 - val_loss: 834863040.0000\n",
      "Epoch 126/1000\n",
      "16/16 [==============================] - 0s 3ms/step - loss: 161487536.0000 - val_loss: 820027136.0000\n",
      "Epoch 127/1000\n",
      "16/16 [==============================] - 0s 3ms/step - loss: 159014688.0000 - val_loss: 832042688.0000\n",
      "Epoch 128/1000\n",
      "16/16 [==============================] - 0s 3ms/step - loss: 157366576.0000 - val_loss: 821746368.0000\n",
      "Epoch 129/1000\n",
      "16/16 [==============================] - 0s 3ms/step - loss: 156222080.0000 - val_loss: 822612480.0000\n",
      "Epoch 130/1000\n",
      "16/16 [==============================] - 0s 3ms/step - loss: 155216208.0000 - val_loss: 815411200.0000\n",
      "Epoch 131/1000\n",
      "16/16 [==============================] - 0s 3ms/step - loss: 153473248.0000 - val_loss: 821606016.0000\n",
      "Epoch 132/1000\n",
      "16/16 [==============================] - 0s 3ms/step - loss: 151934832.0000 - val_loss: 836774912.0000\n",
      "Epoch 133/1000\n",
      "16/16 [==============================] - 0s 3ms/step - loss: 150442864.0000 - val_loss: 806425536.0000\n",
      "Epoch 134/1000\n",
      "16/16 [==============================] - 0s 3ms/step - loss: 154808816.0000 - val_loss: 839096640.0000\n",
      "Epoch 135/1000\n",
      "16/16 [==============================] - 0s 3ms/step - loss: 146701104.0000 - val_loss: 812549632.0000\n",
      "Epoch 136/1000\n",
      "16/16 [==============================] - 0s 3ms/step - loss: 146364352.0000 - val_loss: 806967040.0000\n",
      "Epoch 137/1000\n",
      "16/16 [==============================] - 0s 3ms/step - loss: 145248912.0000 - val_loss: 826030592.0000\n",
      "Epoch 138/1000\n",
      "16/16 [==============================] - 0s 3ms/step - loss: 144560816.0000 - val_loss: 814199040.0000\n",
      "Epoch 139/1000\n",
      "16/16 [==============================] - 0s 3ms/step - loss: 143595952.0000 - val_loss: 795574144.0000\n"
     ]
    },
    {
     "name": "stdout",
     "output_type": "stream",
     "text": [
      "Epoch 140/1000\n",
      "16/16 [==============================] - 0s 3ms/step - loss: 141537184.0000 - val_loss: 808326656.0000\n",
      "Epoch 141/1000\n",
      "16/16 [==============================] - 0s 3ms/step - loss: 142330672.0000 - val_loss: 830195008.0000\n",
      "Epoch 142/1000\n",
      "16/16 [==============================] - 0s 3ms/step - loss: 142174064.0000 - val_loss: 817435840.0000\n",
      "Epoch 143/1000\n",
      "16/16 [==============================] - 0s 3ms/step - loss: 137607360.0000 - val_loss: 803785920.0000\n",
      "Epoch 144/1000\n",
      "16/16 [==============================] - 0s 3ms/step - loss: 136997136.0000 - val_loss: 794426944.0000\n",
      "Epoch 145/1000\n",
      "16/16 [==============================] - 0s 3ms/step - loss: 135210352.0000 - val_loss: 806860608.0000\n",
      "Epoch 146/1000\n",
      "16/16 [==============================] - 0s 3ms/step - loss: 135728208.0000 - val_loss: 810821440.0000\n",
      "Epoch 147/1000\n",
      "16/16 [==============================] - 0s 3ms/step - loss: 132774376.0000 - val_loss: 777663616.0000\n",
      "Epoch 148/1000\n",
      "16/16 [==============================] - 0s 3ms/step - loss: 133121016.0000 - val_loss: 816859904.0000\n",
      "Epoch 149/1000\n",
      "16/16 [==============================] - 0s 3ms/step - loss: 129601472.0000 - val_loss: 788298240.0000\n",
      "Epoch 150/1000\n",
      "16/16 [==============================] - 0s 3ms/step - loss: 128431728.0000 - val_loss: 806875840.0000\n",
      "Epoch 151/1000\n",
      "16/16 [==============================] - 0s 3ms/step - loss: 128558416.0000 - val_loss: 797531008.0000\n",
      "Epoch 152/1000\n",
      "16/16 [==============================] - 0s 3ms/step - loss: 127302976.0000 - val_loss: 787016320.0000\n",
      "Epoch 153/1000\n",
      "16/16 [==============================] - 0s 3ms/step - loss: 126073840.0000 - val_loss: 808083776.0000\n",
      "Epoch 154/1000\n",
      "16/16 [==============================] - 0s 3ms/step - loss: 126048216.0000 - val_loss: 767351744.0000\n",
      "Epoch 155/1000\n",
      "16/16 [==============================] - 0s 3ms/step - loss: 129070224.0000 - val_loss: 776464576.0000\n",
      "Epoch 156/1000\n",
      "16/16 [==============================] - 0s 3ms/step - loss: 127685208.0000 - val_loss: 790303296.0000\n",
      "Epoch 157/1000\n",
      "16/16 [==============================] - 0s 3ms/step - loss: 122335304.0000 - val_loss: 798227264.0000\n",
      "Epoch 158/1000\n",
      "16/16 [==============================] - 0s 3ms/step - loss: 122301680.0000 - val_loss: 766392512.0000\n",
      "Epoch 159/1000\n",
      "16/16 [==============================] - 0s 3ms/step - loss: 121786024.0000 - val_loss: 825775872.0000\n",
      "Epoch 160/1000\n",
      "16/16 [==============================] - 0s 3ms/step - loss: 123902816.0000 - val_loss: 801120128.0000\n",
      "Epoch 161/1000\n",
      "16/16 [==============================] - 0s 3ms/step - loss: 119035928.0000 - val_loss: 771920320.0000\n",
      "Epoch 162/1000\n",
      "16/16 [==============================] - 0s 3ms/step - loss: 119257400.0000 - val_loss: 787530944.0000\n",
      "Epoch 163/1000\n",
      "16/16 [==============================] - 0s 3ms/step - loss: 115703184.0000 - val_loss: 781029376.0000\n",
      "Epoch 164/1000\n",
      "16/16 [==============================] - 0s 3ms/step - loss: 114689208.0000 - val_loss: 785554880.0000\n",
      "Epoch 165/1000\n",
      "16/16 [==============================] - 0s 3ms/step - loss: 114718832.0000 - val_loss: 768910848.0000\n",
      "Epoch 166/1000\n",
      "16/16 [==============================] - 0s 3ms/step - loss: 114390240.0000 - val_loss: 782169984.0000\n",
      "Epoch 167/1000\n",
      "16/16 [==============================] - 0s 3ms/step - loss: 112397256.0000 - val_loss: 772957184.0000\n",
      "Epoch 168/1000\n",
      "16/16 [==============================] - 0s 3ms/step - loss: 112872952.0000 - val_loss: 773417728.0000\n",
      "Epoch 168: early stopping\n"
     ]
    },
    {
     "data": {
      "text/plain": [
       "<keras.callbacks.History at 0x1ab02162d30>"
      ]
     },
     "execution_count": 82,
     "metadata": {},
     "output_type": "execute_result"
    }
   ],
   "source": [
    "#first, find optimal number of epochs\n",
    "model.fit(x=x_train,\n",
    "          y=y_train,\n",
    "          validation_data=(x_test,y_test),\n",
    "          batch_size=64,\n",
    "          callbacks=[early_stop],\n",
    "          epochs=1000)"
   ]
  },
  {
   "cell_type": "code",
   "execution_count": 83,
   "id": "5a974e8e",
   "metadata": {},
   "outputs": [
    {
     "data": {
      "text/plain": [
       "<AxesSubplot:>"
      ]
     },
     "execution_count": 83,
     "metadata": {},
     "output_type": "execute_result"
    },
    {
     "data": {
      "image/png": "[encoded data removed]",
      "text/plain": [
       "<Figure size 432x288 with 1 Axes>"
      ]
     },
     "metadata": {},
     "output_type": "display_data"
    }
   ],
   "source": [
    "losses = pd.DataFrame(model.history.history)\n",
    "losses.plot()"
   ]
  },
  {
   "cell_type": "code",
   "execution_count": 84,
   "id": "dc163dc7",
   "metadata": {},
   "outputs": [
    {
     "name": "stdout",
     "output_type": "stream",
     "text": [
      "14/14 [==============================] - 0s 731us/step\n"
     ]
    }
   ],
   "source": [
    "test_predictions = model.predict(x_test)"
   ]
  },
  {
   "cell_type": "code",
   "execution_count": 85,
   "id": "6cb3f191",
   "metadata": {},
   "outputs": [
    {
     "data": {
      "text/plain": [
       "[<matplotlib.lines.Line2D at 0x1ab613b8b80>]"
      ]
     },
     "execution_count": 85,
     "metadata": {},
     "output_type": "execute_result"
    },
    {
     "data": {
      "image/png": "[encoded data removed]",
      "text/plain": [
       "<Figure size 864x432 with 1 Axes>"
      ]
     },
     "metadata": {},
     "output_type": "display_data"
    }
   ],
   "source": [
    "plt.figure(figsize=(12,6))\n",
    "plt.scatter(y_test,test_predictions)\n",
    "plt.plot(y_test,y_test,'r')"
   ]
  },
  {
   "cell_type": "code",
   "execution_count": 86,
   "id": "e6292e78",
   "metadata": {},
   "outputs": [
    {
     "data": {
      "text/plain": [
       "17806.571572580644"
      ]
     },
     "execution_count": 86,
     "metadata": {},
     "output_type": "execute_result"
    }
   ],
   "source": [
    "from sklearn.metrics import mean_absolute_error\n",
    "mean_absolute_error(y_test,test_predictions)"
   ]
  },
  {
   "cell_type": "code",
   "execution_count": 87,
   "id": "1941c513",
   "metadata": {},
   "outputs": [],
   "source": [
    "#creating new model with the optimum epochs\n",
    "model = create_model()\n",
    "optimal_epochs = losses.index.values[-1]"
   ]
  },
  {
   "cell_type": "code",
   "execution_count": 88,
   "id": "695b284e",
   "metadata": {},
   "outputs": [],
   "source": [
    "#full dataset, not t\n",
    "X = scaler.fit_transform(X)"
   ]
  },
  {
   "cell_type": "code",
   "execution_count": 89,
   "id": "505958e6",
   "metadata": {},
   "outputs": [
    {
     "name": "stdout",
     "output_type": "stream",
     "text": [
      "Epoch 1/167\n",
      "23/23 [==============================] - 0s 2ms/step - loss: 36604825600.0000\n",
      "Epoch 2/167\n",
      "23/23 [==============================] - 0s 2ms/step - loss: 36570767360.0000\n",
      "Epoch 3/167\n",
      "23/23 [==============================] - 0s 2ms/step - loss: 36293595136.0000\n",
      "Epoch 4/167\n",
      "23/23 [==============================] - 0s 2ms/step - loss: 34851454976.0000\n",
      "Epoch 5/167\n",
      "23/23 [==============================] - 0s 2ms/step - loss: 29697456128.0000\n",
      "Epoch 6/167\n",
      "23/23 [==============================] - 0s 2ms/step - loss: 18492909568.0000\n",
      "Epoch 7/167\n",
      "23/23 [==============================] - 0s 2ms/step - loss: 8501694976.0000\n",
      "Epoch 8/167\n",
      "23/23 [==============================] - 0s 2ms/step - loss: 5214249472.0000\n",
      "Epoch 9/167\n",
      "23/23 [==============================] - 0s 2ms/step - loss: 3127466752.0000\n",
      "Epoch 10/167\n",
      "23/23 [==============================] - 0s 2ms/step - loss: 2129902976.0000\n",
      "Epoch 11/167\n",
      "23/23 [==============================] - 0s 2ms/step - loss: 1751241600.0000\n",
      "Epoch 12/167\n",
      "23/23 [==============================] - 0s 2ms/step - loss: 1552827008.0000\n",
      "Epoch 13/167\n",
      "23/23 [==============================] - 0s 2ms/step - loss: 1411282048.0000\n",
      "Epoch 14/167\n",
      "23/23 [==============================] - 0s 2ms/step - loss: 1289039360.0000\n",
      "Epoch 15/167\n",
      "23/23 [==============================] - 0s 2ms/step - loss: 1192606848.0000\n",
      "Epoch 16/167\n",
      "23/23 [==============================] - 0s 2ms/step - loss: 1110825216.0000\n",
      "Epoch 17/167\n",
      "23/23 [==============================] - 0s 2ms/step - loss: 1043850240.0000\n",
      "Epoch 18/167\n",
      "23/23 [==============================] - 0s 2ms/step - loss: 981478464.0000\n",
      "Epoch 19/167\n",
      "23/23 [==============================] - 0s 2ms/step - loss: 930860608.0000\n",
      "Epoch 20/167\n",
      "23/23 [==============================] - 0s 2ms/step - loss: 883306304.0000\n",
      "Epoch 21/167\n",
      "23/23 [==============================] - 0s 2ms/step - loss: 842098560.0000\n",
      "Epoch 22/167\n",
      "23/23 [==============================] - 0s 2ms/step - loss: 804026688.0000\n",
      "Epoch 23/167\n",
      "23/23 [==============================] - 0s 2ms/step - loss: 767776960.0000\n",
      "Epoch 24/167\n",
      "23/23 [==============================] - 0s 2ms/step - loss: 736871552.0000\n",
      "Epoch 25/167\n",
      "23/23 [==============================] - 0s 2ms/step - loss: 707259776.0000\n",
      "Epoch 26/167\n",
      "23/23 [==============================] - 0s 2ms/step - loss: 677815488.0000\n",
      "Epoch 27/167\n",
      "23/23 [==============================] - 0s 2ms/step - loss: 651875520.0000\n",
      "Epoch 28/167\n",
      "23/23 [==============================] - 0s 2ms/step - loss: 627446144.0000\n",
      "Epoch 29/167\n",
      "23/23 [==============================] - 0s 2ms/step - loss: 606721600.0000\n",
      "Epoch 30/167\n",
      "23/23 [==============================] - 0s 2ms/step - loss: 585094208.0000\n",
      "Epoch 31/167\n",
      "23/23 [==============================] - 0s 2ms/step - loss: 566293376.0000\n",
      "Epoch 32/167\n",
      "23/23 [==============================] - 0s 2ms/step - loss: 547838912.0000\n",
      "Epoch 33/167\n",
      "23/23 [==============================] - 0s 2ms/step - loss: 528141504.0000\n",
      "Epoch 34/167\n",
      "23/23 [==============================] - 0s 2ms/step - loss: 512261376.0000\n",
      "Epoch 35/167\n",
      "23/23 [==============================] - 0s 2ms/step - loss: 497548416.0000\n",
      "Epoch 36/167\n",
      "23/23 [==============================] - 0s 2ms/step - loss: 480437792.0000\n",
      "Epoch 37/167\n",
      "23/23 [==============================] - 0s 2ms/step - loss: 471236640.0000\n",
      "Epoch 38/167\n",
      "23/23 [==============================] - 0s 2ms/step - loss: 452123520.0000\n",
      "Epoch 39/167\n",
      "23/23 [==============================] - 0s 2ms/step - loss: 438593824.0000\n",
      "Epoch 40/167\n",
      "23/23 [==============================] - 0s 2ms/step - loss: 426972000.0000\n",
      "Epoch 41/167\n",
      "23/23 [==============================] - 0s 2ms/step - loss: 413153056.0000\n",
      "Epoch 42/167\n",
      "23/23 [==============================] - 0s 2ms/step - loss: 402103360.0000\n",
      "Epoch 43/167\n",
      "23/23 [==============================] - 0s 2ms/step - loss: 392516448.0000\n",
      "Epoch 44/167\n",
      "23/23 [==============================] - 0s 2ms/step - loss: 381246560.0000\n",
      "Epoch 45/167\n",
      "23/23 [==============================] - 0s 2ms/step - loss: 371412672.0000\n",
      "Epoch 46/167\n",
      "23/23 [==============================] - 0s 2ms/step - loss: 363279360.0000\n",
      "Epoch 47/167\n",
      "23/23 [==============================] - 0s 2ms/step - loss: 353353440.0000\n",
      "Epoch 48/167\n",
      "23/23 [==============================] - 0s 2ms/step - loss: 342844640.0000\n",
      "Epoch 49/167\n",
      "23/23 [==============================] - 0s 2ms/step - loss: 334338112.0000\n",
      "Epoch 50/167\n",
      "23/23 [==============================] - 0s 2ms/step - loss: 326909216.0000\n",
      "Epoch 51/167\n",
      "23/23 [==============================] - 0s 2ms/step - loss: 320058976.0000\n",
      "Epoch 52/167\n",
      "23/23 [==============================] - 0s 2ms/step - loss: 310951808.0000\n",
      "Epoch 53/167\n",
      "23/23 [==============================] - 0s 2ms/step - loss: 304934944.0000\n",
      "Epoch 54/167\n",
      "23/23 [==============================] - 0s 2ms/step - loss: 298020672.0000\n",
      "Epoch 55/167\n",
      "23/23 [==============================] - 0s 2ms/step - loss: 291539488.0000\n",
      "Epoch 56/167\n",
      "23/23 [==============================] - 0s 2ms/step - loss: 284772288.0000\n",
      "Epoch 57/167\n",
      "23/23 [==============================] - 0s 2ms/step - loss: 281604800.0000\n",
      "Epoch 58/167\n",
      "23/23 [==============================] - 0s 2ms/step - loss: 273340864.0000\n",
      "Epoch 59/167\n",
      "23/23 [==============================] - 0s 1ms/step - loss: 269058176.0000\n",
      "Epoch 60/167\n",
      "23/23 [==============================] - 0s 2ms/step - loss: 265319856.0000\n",
      "Epoch 61/167\n",
      "23/23 [==============================] - 0s 2ms/step - loss: 258091664.0000\n",
      "Epoch 62/167\n",
      "23/23 [==============================] - 0s 1ms/step - loss: 254925008.0000\n",
      "Epoch 63/167\n",
      "23/23 [==============================] - 0s 2ms/step - loss: 249775600.0000\n",
      "Epoch 64/167\n",
      "23/23 [==============================] - 0s 2ms/step - loss: 243113504.0000\n",
      "Epoch 65/167\n",
      "23/23 [==============================] - 0s 2ms/step - loss: 240202688.0000\n",
      "Epoch 66/167\n",
      "23/23 [==============================] - 0s 2ms/step - loss: 234380160.0000\n",
      "Epoch 67/167\n",
      "23/23 [==============================] - 0s 2ms/step - loss: 232872016.0000\n",
      "Epoch 68/167\n",
      "23/23 [==============================] - 0s 2ms/step - loss: 230764240.0000\n",
      "Epoch 69/167\n",
      "23/23 [==============================] - 0s 2ms/step - loss: 227151040.0000\n",
      "Epoch 70/167\n",
      "23/23 [==============================] - 0s 2ms/step - loss: 219873072.0000\n",
      "Epoch 71/167\n",
      "23/23 [==============================] - 0s 2ms/step - loss: 219254720.0000\n",
      "Epoch 72/167\n",
      "23/23 [==============================] - 0s 1ms/step - loss: 213076352.0000\n",
      "Epoch 73/167\n",
      "23/23 [==============================] - 0s 2ms/step - loss: 209332416.0000\n",
      "Epoch 74/167\n",
      "23/23 [==============================] - 0s 1ms/step - loss: 207294992.0000\n",
      "Epoch 75/167\n",
      "23/23 [==============================] - 0s 2ms/step - loss: 203290400.0000\n",
      "Epoch 76/167\n",
      "23/23 [==============================] - 0s 2ms/step - loss: 204094624.0000\n",
      "Epoch 77/167\n",
      "23/23 [==============================] - 0s 2ms/step - loss: 198986112.0000\n",
      "Epoch 78/167\n",
      "23/23 [==============================] - 0s 1ms/step - loss: 195568336.0000\n",
      "Epoch 79/167\n",
      "23/23 [==============================] - 0s 2ms/step - loss: 193468928.0000\n",
      "Epoch 80/167\n",
      "23/23 [==============================] - 0s 2ms/step - loss: 190341536.0000\n",
      "Epoch 81/167\n",
      "23/23 [==============================] - 0s 1ms/step - loss: 186674320.0000\n",
      "Epoch 82/167\n",
      "23/23 [==============================] - 0s 2ms/step - loss: 184036624.0000\n",
      "Epoch 83/167\n",
      "23/23 [==============================] - 0s 2ms/step - loss: 182187072.0000\n",
      "Epoch 84/167\n",
      "23/23 [==============================] - 0s 2ms/step - loss: 180141584.0000\n",
      "Epoch 85/167\n",
      "23/23 [==============================] - 0s 2ms/step - loss: 176757552.0000\n",
      "Epoch 86/167\n",
      "23/23 [==============================] - 0s 2ms/step - loss: 175114896.0000\n",
      "Epoch 87/167\n",
      "23/23 [==============================] - 0s 2ms/step - loss: 174028432.0000\n",
      "Epoch 88/167\n",
      "23/23 [==============================] - 0s 2ms/step - loss: 171201824.0000\n",
      "Epoch 89/167\n",
      "23/23 [==============================] - 0s 2ms/step - loss: 171045376.0000\n",
      "Epoch 90/167\n",
      "23/23 [==============================] - 0s 2ms/step - loss: 169166992.0000\n",
      "Epoch 91/167\n",
      "23/23 [==============================] - 0s 2ms/step - loss: 165635584.0000\n",
      "Epoch 92/167\n"
     ]
    },
    {
     "name": "stdout",
     "output_type": "stream",
     "text": [
      "23/23 [==============================] - 0s 2ms/step - loss: 163863072.0000\n",
      "Epoch 93/167\n",
      "23/23 [==============================] - 0s 2ms/step - loss: 160549264.0000\n",
      "Epoch 94/167\n",
      "23/23 [==============================] - 0s 2ms/step - loss: 162103856.0000\n",
      "Epoch 95/167\n",
      "23/23 [==============================] - 0s 2ms/step - loss: 160215440.0000\n",
      "Epoch 96/167\n",
      "23/23 [==============================] - 0s 1ms/step - loss: 156807024.0000\n",
      "Epoch 97/167\n",
      "23/23 [==============================] - 0s 2ms/step - loss: 154601488.0000\n",
      "Epoch 98/167\n",
      "23/23 [==============================] - 0s 1ms/step - loss: 154527232.0000\n",
      "Epoch 99/167\n",
      "23/23 [==============================] - 0s 1ms/step - loss: 152637264.0000\n",
      "Epoch 100/167\n",
      "23/23 [==============================] - 0s 2ms/step - loss: 148624112.0000\n",
      "Epoch 101/167\n",
      "23/23 [==============================] - 0s 2ms/step - loss: 149146960.0000\n",
      "Epoch 102/167\n",
      "23/23 [==============================] - 0s 2ms/step - loss: 149541088.0000\n",
      "Epoch 103/167\n",
      "23/23 [==============================] - 0s 2ms/step - loss: 147714384.0000\n",
      "Epoch 104/167\n",
      "23/23 [==============================] - 0s 2ms/step - loss: 144051008.0000\n",
      "Epoch 105/167\n",
      "23/23 [==============================] - 0s 2ms/step - loss: 141224512.0000\n",
      "Epoch 106/167\n",
      "23/23 [==============================] - 0s 2ms/step - loss: 142919968.0000\n",
      "Epoch 107/167\n",
      "23/23 [==============================] - 0s 2ms/step - loss: 138850944.0000\n",
      "Epoch 108/167\n",
      "23/23 [==============================] - 0s 2ms/step - loss: 141576784.0000\n",
      "Epoch 109/167\n",
      "23/23 [==============================] - 0s 2ms/step - loss: 141644960.0000\n",
      "Epoch 110/167\n",
      "23/23 [==============================] - 0s 2ms/step - loss: 134738608.0000\n",
      "Epoch 111/167\n",
      "23/23 [==============================] - 0s 2ms/step - loss: 133019936.0000\n",
      "Epoch 112/167\n",
      "23/23 [==============================] - 0s 2ms/step - loss: 133568128.0000\n",
      "Epoch 113/167\n",
      "23/23 [==============================] - 0s 2ms/step - loss: 131942552.0000\n",
      "Epoch 114/167\n",
      "23/23 [==============================] - 0s 2ms/step - loss: 130879032.0000\n",
      "Epoch 115/167\n",
      "23/23 [==============================] - 0s 2ms/step - loss: 128531688.0000\n",
      "Epoch 116/167\n",
      "23/23 [==============================] - 0s 2ms/step - loss: 129536976.0000\n",
      "Epoch 117/167\n",
      "23/23 [==============================] - 0s 2ms/step - loss: 127378872.0000\n",
      "Epoch 118/167\n",
      "23/23 [==============================] - 0s 2ms/step - loss: 125987104.0000\n",
      "Epoch 119/167\n",
      "23/23 [==============================] - 0s 2ms/step - loss: 124404392.0000\n",
      "Epoch 120/167\n",
      "23/23 [==============================] - 0s 2ms/step - loss: 121695848.0000\n",
      "Epoch 121/167\n",
      "23/23 [==============================] - 0s 2ms/step - loss: 126390680.0000\n",
      "Epoch 122/167\n",
      "23/23 [==============================] - 0s 2ms/step - loss: 125330416.0000\n",
      "Epoch 123/167\n",
      "23/23 [==============================] - 0s 1ms/step - loss: 123244768.0000\n",
      "Epoch 124/167\n",
      "23/23 [==============================] - 0s 2ms/step - loss: 121394800.0000\n",
      "Epoch 125/167\n",
      "23/23 [==============================] - 0s 2ms/step - loss: 118197784.0000\n",
      "Epoch 126/167\n",
      "23/23 [==============================] - 0s 2ms/step - loss: 116585560.0000\n",
      "Epoch 127/167\n",
      "23/23 [==============================] - 0s 2ms/step - loss: 116495376.0000\n",
      "Epoch 128/167\n",
      "23/23 [==============================] - 0s 2ms/step - loss: 116153280.0000\n",
      "Epoch 129/167\n",
      "23/23 [==============================] - 0s 2ms/step - loss: 114065544.0000\n",
      "Epoch 130/167\n",
      "23/23 [==============================] - 0s 1ms/step - loss: 113314384.0000\n",
      "Epoch 131/167\n",
      "23/23 [==============================] - 0s 1ms/step - loss: 112362256.0000\n",
      "Epoch 132/167\n",
      "23/23 [==============================] - 0s 2ms/step - loss: 111543592.0000\n",
      "Epoch 133/167\n",
      "23/23 [==============================] - 0s 2ms/step - loss: 113592560.0000\n",
      "Epoch 134/167\n",
      "23/23 [==============================] - 0s 2ms/step - loss: 107985560.0000\n",
      "Epoch 135/167\n",
      "23/23 [==============================] - 0s 1ms/step - loss: 108630256.0000\n",
      "Epoch 136/167\n",
      "23/23 [==============================] - 0s 1ms/step - loss: 108226920.0000\n",
      "Epoch 137/167\n",
      "23/23 [==============================] - 0s 2ms/step - loss: 105411976.0000\n",
      "Epoch 138/167\n",
      "23/23 [==============================] - 0s 2ms/step - loss: 106109208.0000\n",
      "Epoch 139/167\n",
      "23/23 [==============================] - 0s 2ms/step - loss: 105826288.0000\n",
      "Epoch 140/167\n",
      "23/23 [==============================] - 0s 1ms/step - loss: 106299616.0000\n",
      "Epoch 141/167\n",
      "23/23 [==============================] - 0s 1ms/step - loss: 102824144.0000\n",
      "Epoch 142/167\n",
      "23/23 [==============================] - 0s 2ms/step - loss: 102159640.0000\n",
      "Epoch 143/167\n",
      "23/23 [==============================] - 0s 2ms/step - loss: 101339320.0000\n",
      "Epoch 144/167\n",
      "23/23 [==============================] - 0s 2ms/step - loss: 101033976.0000\n",
      "Epoch 145/167\n",
      "23/23 [==============================] - 0s 2ms/step - loss: 102131136.0000\n",
      "Epoch 146/167\n",
      "23/23 [==============================] - 0s 2ms/step - loss: 98747456.0000\n",
      "Epoch 147/167\n",
      "23/23 [==============================] - 0s 1ms/step - loss: 98603192.0000\n",
      "Epoch 148/167\n",
      "23/23 [==============================] - 0s 1ms/step - loss: 98854464.0000\n",
      "Epoch 149/167\n",
      "23/23 [==============================] - 0s 2ms/step - loss: 101456776.0000\n",
      "Epoch 150/167\n",
      "23/23 [==============================] - 0s 1ms/step - loss: 96479792.0000\n",
      "Epoch 151/167\n",
      "23/23 [==============================] - 0s 1ms/step - loss: 96010152.0000\n",
      "Epoch 152/167\n",
      "23/23 [==============================] - 0s 2ms/step - loss: 96487120.0000\n",
      "Epoch 153/167\n",
      "23/23 [==============================] - 0s 2ms/step - loss: 98718104.0000\n",
      "Epoch 154/167\n",
      "23/23 [==============================] - 0s 1ms/step - loss: 98187000.0000\n",
      "Epoch 155/167\n",
      "23/23 [==============================] - 0s 2ms/step - loss: 92656984.0000\n",
      "Epoch 156/167\n",
      "23/23 [==============================] - 0s 2ms/step - loss: 92478528.0000\n",
      "Epoch 157/167\n",
      "23/23 [==============================] - 0s 1ms/step - loss: 91547816.0000\n",
      "Epoch 158/167\n",
      "23/23 [==============================] - 0s 2ms/step - loss: 90834504.0000\n",
      "Epoch 159/167\n",
      "23/23 [==============================] - 0s 2ms/step - loss: 93114784.0000\n",
      "Epoch 160/167\n",
      "23/23 [==============================] - 0s 2ms/step - loss: 101309872.0000\n",
      "Epoch 161/167\n",
      "23/23 [==============================] - 0s 2ms/step - loss: 91665488.0000\n",
      "Epoch 162/167\n",
      "23/23 [==============================] - 0s 2ms/step - loss: 88972320.0000\n",
      "Epoch 163/167\n",
      "23/23 [==============================] - 0s 2ms/step - loss: 87888080.0000\n",
      "Epoch 164/167\n",
      "23/23 [==============================] - 0s 2ms/step - loss: 87025320.0000\n",
      "Epoch 165/167\n",
      "23/23 [==============================] - 0s 2ms/step - loss: 86463728.0000\n",
      "Epoch 166/167\n",
      "23/23 [==============================] - 0s 2ms/step - loss: 84606120.0000\n",
      "Epoch 167/167\n",
      "23/23 [==============================] - 0s 2ms/step - loss: 86302376.0000\n"
     ]
    },
    {
     "data": {
      "text/plain": [
       "<keras.callbacks.History at 0x1ab61548dc0>"
      ]
     },
     "execution_count": 89,
     "metadata": {},
     "output_type": "execute_result"
    }
   ],
   "source": [
    "#refitting with the full dataset\n",
    "model.fit(x=X,\n",
    "          y=y,\n",
    "          batch_size=64,\n",
    "          epochs=optimal_epochs)"
   ]
  },
  {
   "cell_type": "code",
   "execution_count": 90,
   "id": "765857c8",
   "metadata": {},
   "outputs": [],
   "source": [
    "#Part 8\n",
    "#Making predictions on our test set"
   ]
  },
  {
   "cell_type": "code",
   "execution_count": 91,
   "id": "b89f53c1",
   "metadata": {},
   "outputs": [
    {
     "name": "stdout",
     "output_type": "stream",
     "text": [
      "1/1 [==============================] - 0s 35ms/step\n"
     ]
    },
    {
     "data": {
      "text/plain": [
       "array([[169911.38]], dtype=float32)"
      ]
     },
     "execution_count": 91,
     "metadata": {},
     "output_type": "execute_result"
    }
   ],
   "source": [
    "#test house\n",
    "ids = test['Id']\n",
    "test = test.drop('Id',axis=1)\n",
    "\n",
    "single_house = test.iloc[6]\n",
    "single_house = scaler.transform(single_house.values.reshape(-1,input_layer_size))\n",
    "model.predict(single_house)"
   ]
  },
  {
   "cell_type": "code",
   "execution_count": 92,
   "id": "ecbb29f6",
   "metadata": {},
   "outputs": [
    {
     "name": "stdout",
     "output_type": "stream",
     "text": [
      "46/46 [==============================] - 0s 633us/step\n"
     ]
    },
    {
     "name": "stderr",
     "output_type": "stream",
     "text": [
      "A:\\anaconda3\\lib\\site-packages\\sklearn\\base.py:443: UserWarning: X has feature names, but StandardScaler was fitted without feature names\n",
      "  warnings.warn(\n"
     ]
    }
   ],
   "source": [
    "scaled_test = scaler.transform(test) #do not fit test data to avoid data leakage\n",
    "final_preds = model.predict(np.array(scaled_test))"
   ]
  },
  {
   "cell_type": "code",
   "execution_count": 93,
   "id": "e50232c4",
   "metadata": {},
   "outputs": [],
   "source": [
    "def get_results(preds):\n",
    "    return pd.DataFrame({'Id':ids,'SalePrice':preds.flatten()})"
   ]
  },
  {
   "cell_type": "code",
   "execution_count": 94,
   "id": "333dba2a",
   "metadata": {},
   "outputs": [],
   "source": [
    "submission_df = get_results(final_preds)"
   ]
  },
  {
   "cell_type": "code",
   "execution_count": 95,
   "id": "3ef51f09",
   "metadata": {},
   "outputs": [],
   "source": [
    "submission_df.to_csv(\"predictions.csv\",index=False)"
   ]
  }
 ],
 "metadata": {
  "kernelspec": {
   "display_name": "Python [conda env:root] *",
   "language": "python",
   "name": "conda-root-py"
  },
  "language_info": {
   "codemirror_mode": {
    "name": "ipython",
    "version": 3
   },
   "file_extension": ".py",
   "mimetype": "text/x-python",
   "name": "python",
   "nbconvert_exporter": "python",
   "pygments_lexer": "ipython3",
   "version": "3.9.12"
  }
 },
 "nbformat": 4,
 "nbformat_minor": 5
}
